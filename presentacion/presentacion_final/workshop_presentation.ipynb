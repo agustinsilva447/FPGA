{
 "cells": [
  {
   "cell_type": "code",
   "execution_count": null,
   "id": "aa757643",
   "metadata": {},
   "outputs": [],
   "source": [
    "import random\n",
    "import numpy as np\n",
    "\n",
    "from qiskit import ClassicalRegister, QuantumRegister, QuantumCircuit, transpile, Aer, execute\n",
    "from qiskit.utils import QuantumInstance\n",
    "from qiskit.algorithms import Shor\n",
    "from qiskit.quantum_info import Statevector\n",
    "from qiskit.visualization import plot_bloch_vector, plot_histogram"
   ]
  },
  {
   "cell_type": "markdown",
   "id": "9624b093",
   "metadata": {},
   "source": [
    "## Qubit"
   ]
  },
  {
   "cell_type": "code",
   "execution_count": null,
   "id": "4e1156b3",
   "metadata": {},
   "outputs": [],
   "source": [
    "#plot_bloch_vector([1,0,0], coord_type = \"spherical\")\n",
    "#plot_bloch_vector([1,np.pi,0], coord_type = \"spherical\")\n",
    "#plot_bloch_vector([1,np.pi/2,0], coord_type = \"spherical\")\n",
    "plot_bloch_vector([1,np.pi/2,np.pi/2], coord_type = \"spherical\")\n",
    "#plot_bloch_vector([1,np.pi/2,np.pi], coord_type = \"spherical\")\n",
    "#plot_bloch_vector([1,1.1*np.pi/3,np.pi/6], coord_type = \"spherical\")"
   ]
  },
  {
   "cell_type": "markdown",
   "id": "e9ec9b38",
   "metadata": {},
   "source": [
    "## Quantum Gates"
   ]
  },
  {
   "cell_type": "code",
   "execution_count": null,
   "metadata": {},
   "outputs": [],
   "source": [
    "state = Statevector.from_int(0, 2)\n",
    "state.draw('latex')"
   ]
  },
  {
   "cell_type": "code",
   "execution_count": null,
   "id": "6c9b0995",
   "metadata": {},
   "outputs": [],
   "source": [
    "circ = QuantumCircuit(1,1)\n",
    "circ.h(0)\n",
    "circ.draw('mpl')"
   ]
  },
  {
   "cell_type": "code",
   "execution_count": null,
   "id": "da1346f1",
   "metadata": {},
   "outputs": [],
   "source": [
    "state = state.evolve(circ)\n",
    "state.draw('latex')"
   ]
  },
  {
   "cell_type": "code",
   "execution_count": null,
   "id": "f77e5a9a",
   "metadata": {},
   "outputs": [],
   "source": [
    "state = Statevector.from_int(0, 2)\n",
    "circ = QuantumCircuit(1,1)\n",
    "circ.u(np.pi/2,0,np.pi,0)\n",
    "circ.draw('mpl')"
   ]
  },
  {
   "cell_type": "code",
   "execution_count": null,
   "id": "d77a150b",
   "metadata": {},
   "outputs": [],
   "source": [
    "state = state.evolve(circ)\n",
    "state.draw('latex')"
   ]
  },
  {
   "cell_type": "markdown",
   "id": "9bdf98cc",
   "metadata": {},
   "source": [
    "## Quantum Circuits"
   ]
  },
  {
   "cell_type": "code",
   "execution_count": null,
   "id": "bd715b31",
   "metadata": {},
   "outputs": [],
   "source": [
    "state = Statevector.from_int(0, 4)\n",
    "circ = QuantumCircuit(2,2)\n",
    "circ.h(0)\n",
    "circ.x(1)\n",
    "circ.draw('mpl')"
   ]
  },
  {
   "cell_type": "code",
   "execution_count": null,
   "id": "45e90dcb",
   "metadata": {},
   "outputs": [],
   "source": [
    "state = state.evolve(circ)\n",
    "state.draw('latex')"
   ]
  },
  {
   "cell_type": "markdown",
   "id": "0f914163",
   "metadata": {},
   "source": [
    "## Superposition"
   ]
  },
  {
   "cell_type": "code",
   "execution_count": null,
   "id": "a3b0c4cf",
   "metadata": {},
   "outputs": [],
   "source": [
    "state = Statevector.from_int(0, 2)\n",
    "circ = QuantumCircuit(1,1)\n",
    "circ.h(0)\n",
    "circ.draw('mpl')"
   ]
  },
  {
   "cell_type": "code",
   "execution_count": null,
   "id": "e21240b3",
   "metadata": {},
   "outputs": [],
   "source": [
    "backend = Aer.get_backend('statevector_simulator')\n",
    "job = backend.run(circ)\n",
    "result = job.result()\n",
    "outputstate = result.get_statevector(circ, decimals=3)\n",
    "print(outputstate)"
   ]
  },
  {
   "cell_type": "code",
   "execution_count": null,
   "id": "9488f0f0",
   "metadata": {},
   "outputs": [],
   "source": [
    "state = Statevector.from_int(0, 2)\n",
    "circ = QuantumCircuit(1,1)\n",
    "circ.h(0)\n",
    "circ.measure(range(1), range(1))\n",
    "circ.draw('mpl')"
   ]
  },
  {
   "cell_type": "code",
   "execution_count": null,
   "id": "e99d66cc",
   "metadata": {},
   "outputs": [],
   "source": [
    "backend = Aer.get_backend('qasm_simulator')\n",
    "qc_compiled = transpile(circ, backend)\n",
    "job_sim = backend.run(qc_compiled, shots=1)\n",
    "result_sim = job_sim.result()\n",
    "counts = result_sim.get_counts(qc_compiled)\n",
    "print(counts)"
   ]
  },
  {
   "cell_type": "code",
   "execution_count": null,
   "id": "e0c6c4c8",
   "metadata": {},
   "outputs": [],
   "source": [
    "plot_histogram(counts)"
   ]
  },
  {
   "cell_type": "markdown",
   "id": "01770b58",
   "metadata": {},
   "source": [
    "## Entanglement"
   ]
  },
  {
   "cell_type": "code",
   "execution_count": null,
   "id": "923cfb28",
   "metadata": {},
   "outputs": [],
   "source": [
    "meas = QuantumCircuit(2, 2)\n",
    "meas.h(0)\n",
    "meas.cx(0, 1)\n",
    "meas.measure([0,1], [0,1])\n",
    "meas.draw('mpl')"
   ]
  },
  {
   "cell_type": "code",
   "execution_count": null,
   "id": "fdc9e0ab",
   "metadata": {},
   "outputs": [],
   "source": [
    "backend = Aer.get_backend('qasm_simulator')\n",
    "qc_compiled = transpile(meas, backend)\n",
    "job_sim = backend.run(qc_compiled, shots=1000)\n",
    "result_sim = job_sim.result()\n",
    "counts = result_sim.get_counts(qc_compiled)\n",
    "print(counts)"
   ]
  },
  {
   "cell_type": "code",
   "execution_count": null,
   "id": "188ad6c1",
   "metadata": {},
   "outputs": [],
   "source": [
    "plot_histogram(counts)"
   ]
  },
  {
   "cell_type": "markdown",
   "id": "14d1c535",
   "metadata": {},
   "source": [
    "## Teleportation"
   ]
  },
  {
   "cell_type": "code",
   "execution_count": null,
   "id": "1f4da76b",
   "metadata": {},
   "outputs": [],
   "source": [
    "a1 = random.random()*2 -1 \n",
    "a2 = random.random()*2 -1\n",
    "b1 = random.random()*2 -1\n",
    "b2 = random.random()*2 -1\n",
    "norm = (a1**2 + a2**2 + b1**2 + b2**2)**0.5\n",
    "c1 = complex(a1/norm,a2/norm) #Amplitude for |0> \n",
    "c2 = complex(b1/norm,b2/norm) #Amplitude for |1>\n",
    "\n",
    "print(\"Alice's qubit is:\")\n",
    "print(\"{} |0> + {} |1>\".format(c1, c2))"
   ]
  },
  {
   "cell_type": "code",
   "execution_count": null,
   "id": "4a2caa99",
   "metadata": {},
   "outputs": [],
   "source": [
    "psi  = QuantumRegister(1, name = 'psi')   # The qubit to teleport\n",
    "bell = QuantumRegister(2, name = 'bell')  # The shared entangled pair \n",
    "c    = ClassicalRegister(2, name = 'c')   # Two classical bits for the measures\n",
    "teleport = QuantumCircuit(psi,bell,c)     # We create the circuit with the two quantum registers and the classical bits\n",
    "teleport.initialize([c1,c2],psi)          # We set the amplitudes for Alice's quibt\n",
    "teleport.barrier()\n",
    "teleport.h(bell[0])\n",
    "teleport.cx(bell[0],bell[1])\n",
    "teleport.barrier()\n",
    "teleport.cx(psi,bell[0])\n",
    "teleport.h(psi)\n",
    "teleport.measure([psi[0],bell[0]],c)\n",
    "teleport.barrier()\n",
    "teleport.cx(bell[0],bell[1])\n",
    "teleport.cz(psi,bell[1])\n",
    "teleport.draw(output='mpl')"
   ]
  },
  {
   "cell_type": "code",
   "execution_count": null,
   "id": "7656b020",
   "metadata": {},
   "outputs": [],
   "source": [
    "backend = Aer.get_backend('statevector_simulator')\n",
    "job = execute(teleport, backend)\n",
    "outputstate = job.result().get_statevector()\n",
    "outputstate = np.array([outputstate]).T\n",
    "print(\"Bob's qubit is:\")\n",
    "print(\"{} |0> + {} |1>\".format(outputstate[np.nonzero(outputstate)[0][0]], outputstate[np.nonzero(outputstate)[0][1]]))"
   ]
  },
  {
   "cell_type": "markdown",
   "id": "a2ee2f66",
   "metadata": {},
   "source": [
    "## Deutsch-Jozsa algorithm"
   ]
  },
  {
   "cell_type": "code",
   "execution_count": null,
   "id": "22d015c4",
   "metadata": {},
   "outputs": [],
   "source": [
    "n = 4                               # Number of qubits that we are going to use in the oracle\n",
    "q   = QuantumRegister(n, 'q')       # The oracle qubits\n",
    "out = QuantumRegister(1, 'out')     # Qubit for the oracle output\n",
    "c   = ClassicalRegister(n, 'c')     # Classical bits needed for the result of the measurement\n",
    "circ_init = QuantumCircuit(q,out,c) # Initial part of the circuit\n",
    "\n",
    "for i in range(n):    \n",
    "    circ_init.h(q[i]) # We apply H to all the oracle qubits\n",
    "    \n",
    "circ_init.x(out)    # We apply X and H to the output qubit\n",
    "circ_init.h(out)\n",
    "circ_init.barrier() # Visual barrier to separate the parts of the circuit\n",
    "\n",
    "circ_end = QuantumCircuit(q,out,c)\n",
    "circ_end.barrier()   # Visual barrier to separate the parts of the circuit\n",
    "for i in range(n):    \n",
    "    circ_end.h(q[i]) # We apply H to all the oracle qubits    \n",
    "circ_end.measure(q,c)\n",
    "\n",
    "const = QuantumCircuit(q,out,c)\n",
    "const.cx(q[0],out)\n",
    "const.x(q[0])\n",
    "const.cx(q[0],out)\n",
    "const.x(q[0])\n",
    "\n",
    "bal = QuantumCircuit(q,out,c)\n",
    "bal.cx(q[0],out)"
   ]
  },
  {
   "cell_type": "code",
   "execution_count": null,
   "id": "4eaa68c4",
   "metadata": {},
   "outputs": [],
   "source": [
    "circ_const = circ_init + const + circ_end\n",
    "circ_const.draw(output='mpl')"
   ]
  },
  {
   "cell_type": "code",
   "execution_count": null,
   "id": "4d8034c5",
   "metadata": {},
   "outputs": [],
   "source": [
    "backend = Aer.get_backend('qasm_simulator')\n",
    "job = execute(circ_const, backend, shots=1)\n",
    "counts = job.result().get_counts()\n",
    "print(counts)"
   ]
  },
  {
   "cell_type": "code",
   "execution_count": null,
   "id": "c51d5826",
   "metadata": {},
   "outputs": [],
   "source": [
    "circ_bal = circ_init + bal + circ_end\n",
    "circ_bal.draw(output='mpl')"
   ]
  },
  {
   "cell_type": "code",
   "execution_count": null,
   "id": "c58d3466",
   "metadata": {},
   "outputs": [],
   "source": [
    "job = execute(circ_bal, backend, shots=1)\n",
    "counts = job.result().get_counts()\n",
    "print(counts)"
   ]
  },
  {
   "cell_type": "markdown",
   "id": "fc0b482e",
   "metadata": {},
   "source": [
    "## Shor"
   ]
  },
  {
   "cell_type": "code",
   "execution_count": null,
   "id": "4fc1e88d",
   "metadata": {},
   "outputs": [],
   "source": [
    "backend = Aer.get_backend('qasm_simulator')\n",
    "quantum_instance = QuantumInstance(backend)\n",
    "shor = Shor(quantum_instance=quantum_instance)\n",
    "result = shor.factor(N=35, a=2)\n",
    "print('Factors:', result.factors)"
   ]
  },
  {
   "cell_type": "code",
   "execution_count": null,
   "id": "0dd2889f",
   "metadata": {},
   "outputs": [],
   "source": []
  }
 ],
 "metadata": {
  "interpreter": {
   "hash": "446e5c0e8ac69c50c276e636bced15018d91998a2508984b810c67b38a01d31c"
  },
  "kernelspec": {
   "display_name": "Python 3.9.7 64-bit",
   "name": "python3"
  },
  "language_info": {
   "codemirror_mode": {
    "name": "ipython",
    "version": 3
   },
   "file_extension": ".py",
   "mimetype": "text/x-python",
   "name": "python",
   "nbconvert_exporter": "python",
   "pygments_lexer": "ipython3",
   "version": "3.9.7"
  }
 },
 "nbformat": 4,
 "nbformat_minor": 5
}
