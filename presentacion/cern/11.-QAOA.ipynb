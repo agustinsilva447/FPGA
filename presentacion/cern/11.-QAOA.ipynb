{
 "cells": [
  {
   "cell_type": "markdown",
   "metadata": {},
   "source": [
    "# Quantum Approximate Optimization Algorithm\n",
    "\n",
    "In this notebook we are going to show how to use the implementation of QAOA available in Aqua to obtain solutions to the MaxCut problem"
   ]
  },
  {
   "cell_type": "code",
   "execution_count": 1,
   "metadata": {},
   "outputs": [
    {
     "name": "stderr",
     "output_type": "stream",
     "text": [
      "C:\\Users\\mlabadm\\AppData\\Local\\Programs\\Python\\Python39\\lib\\site-packages\\qiskit\\aqua\\__init__.py:86: DeprecationWarning: The package qiskit.aqua is deprecated. It was moved/refactored to qiskit-terra For more information see <https://github.com/Qiskit/qiskit-aqua/blob/main/README.md#migration-guide>\n",
      "  warn_package('aqua', 'qiskit-terra')\n"
     ]
    }
   ],
   "source": [
    "import numpy as np\n",
    "\n",
    "from qiskit import Aer, IBMQ\n",
    "from qiskit.aqua import aqua_globals, QuantumInstance\n",
    "from qiskit.aqua.algorithms import QAOA\n",
    "from qiskit.aqua.components.optimizers import *\n",
    "from qiskit.quantum_info import Pauli\n",
    "from qiskit.aqua.operators import WeightedPauliOperator\n",
    "from qiskit.providers.aer.noise import NoiseModel\n",
    "\n",
    "provider = IBMQ.load_account()"
   ]
  },
  {
   "cell_type": "markdown",
   "metadata": {},
   "source": [
    "First, we define a function that from the coefficients of an Ising model creates the Hamiltonian for which we are going to find the ground state."
   ]
  },
  {
   "cell_type": "code",
   "execution_count": 2,
   "metadata": {},
   "outputs": [],
   "source": [
    "def get_operator(J,h,n):    \n",
    "    pauli_list = []\n",
    "\n",
    "    for (i,j) in J: # For each coefficient in J (couplings) we add a term J[i,j]Z_iZj\n",
    "        x_p = np.zeros(n, dtype=np.bool)\n",
    "        z_p = np.zeros(n, dtype=np.bool)\n",
    "        z_p[n-1-i] = True \n",
    "        z_p[n-1-j] = True\n",
    "        pauli_list.append([J[(i,j)],Pauli(z_p, x_p)])\n",
    "     \n",
    "    for i in h: # For each coefficient in h we add a term h[i]Z_i\n",
    "        x_p = np.zeros(n, dtype=np.bool)\n",
    "        z_p = np.zeros(n, dtype=np.bool)\n",
    "        z_p[n-1-i] = True\n",
    "        pauli_list.append([h[i],Pauli(z_p, x_p)])\n",
    "    \n",
    "    return WeightedPauliOperator(paulis=pauli_list)"
   ]
  },
  {
   "cell_type": "markdown",
   "metadata": {},
   "source": [
    "Now, we define the edges of the graph and obtain the Hamiltonian. For this graph, which is a cycle of length 5, the optimal solution gives a cost of -3"
   ]
  },
  {
   "cell_type": "code",
   "execution_count": 3,
   "metadata": {},
   "outputs": [
    {
     "name": "stdout",
     "output_type": "stream",
     "text": [
      "Representation: paulis, qubits: 5, size: 5\n"
     ]
    },
    {
     "name": "stderr",
     "output_type": "stream",
     "text": [
      "C:\\Users\\mlabadm\\AppData\\Local\\Temp/ipykernel_3724/3746474484.py:5: DeprecationWarning: `np.bool` is a deprecated alias for the builtin `bool`. To silence this warning, use `bool` by itself. Doing this will not modify any behavior and is safe. If you specifically wanted the numpy scalar type, use `np.bool_` here.\n",
      "Deprecated in NumPy 1.20; for more details and guidance: https://numpy.org/devdocs/release/1.20.0-notes.html#deprecations\n",
      "  x_p = np.zeros(n, dtype=np.bool)\n",
      "C:\\Users\\mlabadm\\AppData\\Local\\Temp/ipykernel_3724/3746474484.py:6: DeprecationWarning: `np.bool` is a deprecated alias for the builtin `bool`. To silence this warning, use `bool` by itself. Doing this will not modify any behavior and is safe. If you specifically wanted the numpy scalar type, use `np.bool_` here.\n",
      "Deprecated in NumPy 1.20; for more details and guidance: https://numpy.org/devdocs/release/1.20.0-notes.html#deprecations\n",
      "  z_p = np.zeros(n, dtype=np.bool)\n",
      "C:\\Users\\mlabadm\\AppData\\Local\\Programs\\Python\\Python39\\lib\\site-packages\\qiskit\\quantum_info\\operators\\symplectic\\pauli.py:195: DeprecationWarning: Initializing Pauli from `Pauli(z=z, x=x)` kwargs is deprecated as of version 0.17.0 and will be removed no earlier than 3 months after the release date. Use tuple initialization `Pauli((z, x))` instead.\n",
      "  base_z, base_x, base_phase = self._from_array_deprecated(z, x)\n",
      "C:\\Users\\mlabadm\\AppData\\Local\\Temp/ipykernel_3724/3746474484.py:17: DeprecationWarning: The package qiskit.aqua.operators is deprecated. It was moved/refactored to qiskit.opflow (pip install qiskit-terra). For more information see <https://github.com/Qiskit/qiskit-aqua/blob/main/README.md#migration-guide>\n",
      "  return WeightedPauliOperator(paulis=pauli_list)\n"
     ]
    },
    {
     "data": {
      "text/plain": [
       "'ZZIII\\t(1+0j)\\nIZZII\\t(1+0j)\\nIIZZI\\t(1+0j)\\nIIIZZ\\t(1+0j)\\nZIIIZ\\t(1+0j)\\n'"
      ]
     },
     "execution_count": 3,
     "metadata": {},
     "output_type": "execute_result"
    }
   ],
   "source": [
    "# Edges of the graph\n",
    "\n",
    "J1 = {(0,1):1, (1,2):1, (2,3):1, (3,4):1, (4,0):1}\n",
    "h1 = {}\n",
    "n = 5\n",
    "\n",
    "# Hamiltonian\n",
    "\n",
    "q_op =get_operator(J1,h1,n) \n",
    "print(q_op)\n",
    "q_op.print_details()"
   ]
  },
  {
   "cell_type": "markdown",
   "metadata": {},
   "source": [
    "We are going to run 10 repetitions on the statevector simulator"
   ]
  },
  {
   "cell_type": "code",
   "execution_count": 4,
   "metadata": {},
   "outputs": [
    {
     "name": "stderr",
     "output_type": "stream",
     "text": [
      "C:\\Users\\mlabadm\\AppData\\Local\\Programs\\Python\\Python39\\lib\\site-packages\\qiskit\\aqua\\quantum_instance.py:135: DeprecationWarning: The class qiskit.aqua.QuantumInstance is deprecated. It was moved/refactored to qiskit.utils.QuantumInstance (pip install qiskit-terra). For more information see <https://github.com/Qiskit/qiskit-aqua/blob/main/README.md#migration-guide>\n",
      "  warn_class('aqua.QuantumInstance',\n"
     ]
    }
   ],
   "source": [
    "rep = 10\n",
    "backend = Aer.get_backend('statevector_simulator')\n",
    "quantum_instance = QuantumInstance(backend)"
   ]
  },
  {
   "cell_type": "markdown",
   "metadata": {},
   "source": [
    "We run QAOA with COBYLA as the classical optimizer and with optimization level $p = 1$"
   ]
  },
  {
   "cell_type": "code",
   "execution_count": 5,
   "metadata": {},
   "outputs": [
    {
     "name": "stderr",
     "output_type": "stream",
     "text": [
      "C:\\Users\\mlabadm\\AppData\\Local\\Programs\\Python\\Python39\\lib\\site-packages\\qiskit\\aqua\\components\\optimizers\\optimizer.py:49: DeprecationWarning: The package qiskit.aqua.components.optimizers is deprecated. It was moved/refactored to qiskit.algorithms.optimizers (pip install qiskit-terra). For more information see <https://github.com/Qiskit/qiskit-aqua/blob/main/README.md#migration-guide>\n",
      "  warn_package('aqua.components.optimizers',\n",
      "C:\\Users\\mlabadm\\AppData\\Local\\Programs\\Python\\Python39\\lib\\site-packages\\qiskit\\aqua\\algorithms\\vq_algorithm.py:70: DeprecationWarning: The class qiskit.aqua.algorithms.VQAlgorithm is deprecated. It was moved/refactored to qiskit.algorithms.VariationalAlgorithm (pip install qiskit-terra). For more information see <https://github.com/Qiskit/qiskit-aqua/blob/main/README.md#migration-guide>\n",
      "  warn_class('aqua.algorithms.VQAlgorithm',\n"
     ]
    },
    {
     "name": "stdout",
     "output_type": "stream",
     "text": [
      "----- ITERATION  0  ------\n"
     ]
    },
    {
     "name": "stderr",
     "output_type": "stream",
     "text": [
      "C:\\Users\\mlabadm\\AppData\\Local\\Programs\\Python\\Python39\\lib\\site-packages\\qiskit\\aqua\\components\\variational_forms\\variational_form.py:48: DeprecationWarning: The package qiskit.aqua.components.variational_forms is deprecated. For more information see <https://github.com/Qiskit/qiskit-aqua/blob/main/README.md#migration-guide>\n",
      "  warn_package('aqua.components.variational_forms')\n",
      "C:\\Users\\mlabadm\\AppData\\Local\\Programs\\Python\\Python39\\lib\\site-packages\\qiskit\\aqua\\algorithms\\quantum_algorithm.py:46: DeprecationWarning: The variable qiskit.aqua.aqua_globals is deprecated. It was moved/refactored to qiskit.utils.algorithm_globals (pip install qiskit-terra). For more information see <https://github.com/Qiskit/qiskit-aqua/blob/main/README.md#migration-guide>\n",
      "  return aqua_globals.random\n",
      "C:\\Users\\mlabadm\\AppData\\Local\\Programs\\Python\\Python39\\lib\\site-packages\\qiskit\\utils\\deprecation.py:62: DeprecationWarning: Using a qobj for run() is deprecated as of qiskit-aer 0.9.0 and will be removed no sooner than 3 months from that release date. Transpiled circuits should now be passed directly using `backend.run(circuits, **run_options).\n",
      "  return func(*args, **kwargs)\n"
     ]
    },
    {
     "name": "stdout",
     "output_type": "stream",
     "text": [
      "Optimal value -2.499999855030786\n",
      "----- ITERATION  1  ------\n",
      "Optimal value -2.4999998518611806\n",
      "----- ITERATION  2  ------\n",
      "Optimal value -2.4999999187403876\n",
      "----- ITERATION  3  ------\n",
      "Optimal value -2.4999998821455427\n",
      "----- ITERATION  4  ------\n",
      "Optimal value -2.4999998520942603\n",
      "----- ITERATION  5  ------\n",
      "Optimal value -2.4999997363630335\n",
      "----- ITERATION  6  ------\n",
      "Optimal value -2.4999998050055856\n",
      "----- ITERATION  7  ------\n",
      "Optimal value -2.499999949087774\n",
      "----- ITERATION  8  ------\n",
      "Optimal value -2.4999998255135276\n",
      "----- ITERATION  9  ------\n",
      "Optimal value -2.499999807209517\n",
      "----- AVERAGE -----\n",
      "Average value -2.4999998483051593\n"
     ]
    }
   ],
   "source": [
    "p = 1\n",
    "val = 0\n",
    "for i in range(rep):\n",
    "    print(\"----- ITERATION \",i, \" ------\")\n",
    "    optimizer = COBYLA()\n",
    "    qaoa = QAOA(q_op, optimizer, p=p)\n",
    "    result = qaoa.run(quantum_instance)\n",
    "    print(\"Optimal value\", result['optimal_value'])\n",
    "    val+=result['optimal_value']\n",
    "print(\"----- AVERAGE -----\")\n",
    "print(\"Average value\",val/rep)"
   ]
  },
  {
   "cell_type": "markdown",
   "metadata": {},
   "source": [
    "Now, we increase $p$ to $2$"
   ]
  },
  {
   "cell_type": "code",
   "execution_count": 6,
   "metadata": {},
   "outputs": [
    {
     "name": "stdout",
     "output_type": "stream",
     "text": [
      "----- ITERATION  0  ------\n",
      "Optimal value -2.9999784005070196\n",
      "----- ITERATION  1  ------\n",
      "Optimal value -2.9999997943072403\n",
      "----- ITERATION  2  ------\n",
      "Optimal value -2.911968259801814\n",
      "----- ITERATION  3  ------\n",
      "Optimal value -2.999999427646115\n",
      "----- ITERATION  4  ------\n",
      "Optimal value -2.9999734734233847\n",
      "----- ITERATION  5  ------\n",
      "Optimal value -2.9999995691296375\n",
      "----- ITERATION  6  ------\n",
      "Optimal value -2.999864101120258\n",
      "----- ITERATION  7  ------\n",
      "Optimal value -2.999975750582995\n",
      "----- ITERATION  8  ------\n",
      "Optimal value -2.999932746411815\n",
      "----- ITERATION  9  ------\n",
      "Optimal value -2.9999869010692453\n",
      "----- AVERAGE -----\n",
      "Average value -2.9911678423999524\n"
     ]
    }
   ],
   "source": [
    "p = 2\n",
    "val = 0\n",
    "for i in range(rep):\n",
    "    print(\"----- ITERATION \",i, \" ------\")\n",
    "    optimizer = COBYLA()\n",
    "    qaoa = QAOA(q_op, optimizer, p=p)\n",
    "    result = qaoa.run(quantum_instance)\n",
    "    print(\"Optimal value\", result['optimal_value'])\n",
    "    val+=result['optimal_value']\n",
    "print(\"----- AVERAGE -----\")\n",
    "print(\"Average value\",val/rep)"
   ]
  },
  {
   "cell_type": "markdown",
   "metadata": {},
   "source": [
    "We are going to run the algorithm with a backend which includes a noise model"
   ]
  },
  {
   "cell_type": "code",
   "execution_count": 9,
   "metadata": {},
   "outputs": [],
   "source": [
    "rep = 10\n",
    "backendIBM = provider.get_backend('ibmq_quito')\n",
    "noise_model = NoiseModel.from_backend(backendIBM)\n",
    "coupling_map = backendIBM.configuration().coupling_map\n",
    "basis_gates = noise_model.basis_gates\n",
    "backend = Aer.get_backend(\"qasm_simulator\")\n",
    "\n",
    "\n",
    "shots = 8192\n",
    "optimization_level = 3\n",
    "p = 1\n",
    "quantum_instance = QuantumInstance(backend, shots = shots, \n",
    "                                    optimization_level = optimization_level,\n",
    "                                    noise_model = noise_model,\n",
    "                                    basis_gates = basis_gates,\n",
    "                                    coupling_map = coupling_map)"
   ]
  },
  {
   "cell_type": "code",
   "execution_count": 10,
   "metadata": {},
   "outputs": [
    {
     "name": "stdout",
     "output_type": "stream",
     "text": [
      "----- ITERATION  0  ------\n",
      "Optimal value -1.775390625\n",
      "----- ITERATION  1  ------\n",
      "Optimal value -1.7841796875\n",
      "----- ITERATION  2  ------\n",
      "Optimal value -1.80810546875\n",
      "----- ITERATION  3  ------\n",
      "Optimal value -1.7607421875\n",
      "----- ITERATION  4  ------\n",
      "Optimal value -1.826171875\n",
      "----- ITERATION  5  ------\n",
      "Optimal value -1.76611328125\n",
      "----- ITERATION  6  ------\n",
      "Optimal value -1.79541015625\n",
      "----- ITERATION  7  ------\n",
      "Optimal value -1.73046875\n",
      "----- ITERATION  8  ------\n",
      "Optimal value -1.81494140625\n",
      "----- ITERATION  9  ------\n",
      "Optimal value -1.74072265625\n",
      "----- AVERAGE -----\n",
      "Average value -1.780224609375\n"
     ]
    }
   ],
   "source": [
    "p = 1\n",
    "val = 0\n",
    "for i in range(rep):\n",
    "    print(\"----- ITERATION \",i, \" ------\")\n",
    "    optimizer = COBYLA()\n",
    "    qaoa = QAOA(q_op, optimizer, p=p)\n",
    "    result = qaoa.run(quantum_instance)\n",
    "    print(\"Optimal value\", result['optimal_value'])\n",
    "    val+=result['optimal_value']\n",
    "print(\"----- AVERAGE -----\")\n",
    "print(\"Average value\",val/rep)"
   ]
  },
  {
   "cell_type": "code",
   "execution_count": null,
   "metadata": {},
   "outputs": [],
   "source": []
  }
 ],
 "metadata": {
  "kernelspec": {
   "display_name": "Python 3 (ipykernel)",
   "language": "python",
   "name": "python3"
  },
  "language_info": {
   "codemirror_mode": {
    "name": "ipython",
    "version": 3
   },
   "file_extension": ".py",
   "mimetype": "text/x-python",
   "name": "python",
   "nbconvert_exporter": "python",
   "pygments_lexer": "ipython3",
   "version": "3.9.7"
  }
 },
 "nbformat": 4,
 "nbformat_minor": 4
}
