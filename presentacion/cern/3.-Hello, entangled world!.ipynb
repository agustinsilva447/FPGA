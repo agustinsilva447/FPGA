{
 "cells": [
  {
   "cell_type": "markdown",
   "metadata": {},
   "source": [
    "## HELLO, ENTANGLED WORLD!\n",
    "\n",
    "As an example of how we can work with two qubits in Qiskit, we are going to implement a circuit that prepares an entangled state (a Bell pair)"
   ]
  },
  {
   "cell_type": "code",
   "execution_count": 1,
   "metadata": {},
   "outputs": [
    {
     "data": {
      "image/png": "[encoded data removed]",
      "text/plain": [
       "<Figure size 327.252x204.68 with 1 Axes>"
      ]
     },
     "execution_count": 1,
     "metadata": {},
     "output_type": "execute_result"
    }
   ],
   "source": [
    "%matplotlib inline\n",
    "\n",
    "from qiskit import *\n",
    "from qiskit.visualization import *\n",
    "from qiskit.tools.monitor import *\n",
    "\n",
    "circ_bell = QuantumCircuit(2,2) # We need two qubits and two classical bits (for the measurements)\n",
    "\n",
    "circ_bell.h(0) # We apply the H gate on the first qubit\n",
    "circ_bell.cx(0,1) # We apply the CNOT gate with control on the first qubit and target on the second\n",
    "circ_bell.measure(range(2),range(2)) # Measurement\n",
    "\n",
    "circ_bell.draw(output='mpl')"
   ]
  },
  {
   "cell_type": "markdown",
   "metadata": {},
   "source": [
    "We execute the circuit 1000 times and print the results"
   ]
  },
  {
   "cell_type": "code",
   "execution_count": 2,
   "metadata": {},
   "outputs": [
    {
     "name": "stdout",
     "output_type": "stream",
     "text": [
      "{'00': 505, '11': 495}\n"
     ]
    }
   ],
   "source": [
    "backend = Aer.get_backend('qasm_simulator')\n",
    "job = execute(circ_bell, backend, shots=1000)\n",
    "\n",
    "counts = job.result().get_counts()\n",
    "\n",
    "print(counts)"
   ]
  },
  {
   "cell_type": "markdown",
   "metadata": {},
   "source": [
    "Now, we are going to directly access the amplitudes and probabilities of the states. For that, we need to remove the measurement and use the statevector simulator"
   ]
  },
  {
   "cell_type": "code",
   "execution_count": 3,
   "metadata": {},
   "outputs": [
    {
     "name": "stdout",
     "output_type": "stream",
     "text": [
      "Amplitude of 00 = (0.7071067811865476+0j)\n",
      "Amplitude of 01 = 0j\n",
      "Amplitude of 10 = 0j\n",
      "Amplitude of 11 = (0.7071067811865476+0j)\n",
      "\n",
      "Probability of 00 = 0.5000000000000001\n",
      "Probability of 01 = 0.0\n",
      "Probability of 10 = 0.0\n",
      "Probability of 11 = 0.5000000000000001\n"
     ]
    }
   ],
   "source": [
    "circ_bell2 = QuantumCircuit(2)\n",
    "circ_bell2.h(0) \n",
    "circ_bell2.cx(0,1) \n",
    "\n",
    "backend = Aer.get_backend('statevector_simulator')\n",
    "job = execute(circ_bell2, backend)\n",
    "\n",
    "state = job.result().get_statevector()\n",
    "\n",
    "for i in range(4):\n",
    "    s = format(i,\"b\") # Convert to binary\n",
    "    s = (2-len(s))*\"0\"+s # Prepend zeroes if needed\n",
    "    print(\"Amplitude of\",s,\"=\",state[i])\n",
    "    \n",
    "print()\n",
    "\n",
    "for i in range(4):\n",
    "    s = format(i,\"b\") # Convert to binary\n",
    "    s = (2-len(s))*\"0\"+s # Prepend zeroes if needed\n",
    "    print(\"Probability of\",s,\"=\",abs(state[i])**2)\n"
   ]
  },
  {
   "cell_type": "markdown",
   "metadata": {},
   "source": [
    "We are going to run the circuit on an actual computer. To reduce the wait, we would like to execute on the computer with the fewest pending jobs. We can check their properties, after loading our account, with the order *backend_overview()*"
   ]
  },
  {
   "cell_type": "code",
   "execution_count": 4,
   "metadata": {},
   "outputs": [
    {
     "name": "stdout",
     "output_type": "stream",
     "text": [
      "ibmq_manila                  ibmq_quito                   ibmq_belem\n",
      "-----------                  ----------                   ----------\n",
      "Num. Qubits:  5              Num. Qubits:  5              Num. Qubits:  5\n",
      "Pending Jobs: 82             Pending Jobs: 4              Pending Jobs: 7\n",
      "Least busy:   False          Least busy:   False          Least busy:   False\n",
      "Operational:  True           Operational:  True           Operational:  True\n",
      "Avg. T1:      107.3          Avg. T1:      90.3           Avg. T1:      99.7\n",
      "Avg. T2:      52.0           Avg. T2:      107.4          Avg. T2:      92.9\n",
      "\n",
      "\n",
      "\n",
      "ibmq_lima                    ibmq_bogota                  ibmq_santiago\n",
      "---------                    -----------                  -------------\n",
      "Num. Qubits:  5              Num. Qubits:  5              Num. Qubits:  5\n",
      "Pending Jobs: 5              Pending Jobs: 0              Pending Jobs: 354\n",
      "Least busy:   False          Least busy:   True           Least busy:   False\n",
      "Operational:  True           Operational:  True           Operational:  True\n",
      "Avg. T1:      59.4           Avg. T1:      98.8           Avg. T1:      74.4\n",
      "Avg. T2:      73.5           Avg. T2:      139.7          Avg. T2:      96.8\n",
      "\n",
      "\n",
      "\n",
      "ibmq_armonk\n",
      "-----------\n",
      "Num. Qubits:  1\n",
      "Pending Jobs: 3\n",
      "Least busy:   False\n",
      "Operational:  True\n",
      "Avg. T1:      109.0\n",
      "Avg. T2:      157.0\n",
      "\n",
      "\n",
      "\n"
     ]
    }
   ],
   "source": [
    "provider = IBMQ.load_account()\n",
    "backend_overview()"
   ]
  },
  {
   "cell_type": "markdown",
   "metadata": {},
   "source": [
    "We can also access more details of a particular computer with the following command"
   ]
  },
  {
   "cell_type": "code",
   "execution_count": 17,
   "metadata": {
    "scrolled": true
   },
   "outputs": [
    {
     "name": "stdout",
     "output_type": "stream",
     "text": [
      "ibmq_quito\n",
      "==========\n",
      "Configuration\n",
      "-------------\n",
      "    n_qubits: 5\n",
      "    operational: True\n",
      "    status_msg: active\n",
      "    pending_jobs: 3\n",
      "    backend_version: 1.1.11\n",
      "    basis_gates: ['id', 'rz', 'sx', 'x', 'cx', 'reset']\n",
      "    local: False\n",
      "    simulator: False\n",
      "    discriminators: ['quadratic_discriminator', 'hw_centroid', 'linear_discriminator']\n",
      "    dt: 0.2222222222222222\n",
      "    hamiltonian: {'description': 'Qubits are modeled as Duffing oscillators. In this case, the system includes higher energy states, i.e. not just |0> and |1>. The Pauli operators are generalized via the following set of transformations:\\n\\n$(\\\\mathbb{I}-\\\\sigma_{i}^z)/2 \\\\rightarrow O_i \\\\equiv b^\\\\dagger_{i} b_{i}$,\\n\\n$\\\\sigma_{+} \\\\rightarrow b^\\\\dagger$,\\n\\n$\\\\sigma_{-} \\\\rightarrow b$,\\n\\n$\\\\sigma_{i}^X \\\\rightarrow b^\\\\dagger_{i} + b_{i}$.\\n\\nQubits are coupled through resonator buses. The provided Hamiltonian has been projected into the zero excitation subspace of the resonator buses leading to an effective qubit-qubit flip-flop interaction. The qubit resonance frequencies in the Hamiltonian are the cavity dressed frequencies and not exactly what is returned by the backend defaults, which also includes the dressing due to the qubit-qubit interactions.\\n\\nQuantities are returned in angular frequencies, with units 2*pi*GHz.\\n\\nWARNING: Currently not all system Hamiltonian information is available to the public, missing values have been replaced with 0.\\n', 'h_latex': '\\\\begin{align} \\\\mathcal{H}/\\\\hbar = & \\\\sum_{i=0}^{4}\\\\left(\\\\frac{\\\\omega_{q,i}}{2}(\\\\mathbb{I}-\\\\sigma_i^{z})+\\\\frac{\\\\Delta_{i}}{2}(O_i^2-O_i)+\\\\Omega_{d,i}D_i(t)\\\\sigma_i^{X}\\\\right) \\\\\\\\ & + J_{0,1}(\\\\sigma_{0}^{+}\\\\sigma_{1}^{-}+\\\\sigma_{0}^{-}\\\\sigma_{1}^{+}) + J_{1,2}(\\\\sigma_{1}^{+}\\\\sigma_{2}^{-}+\\\\sigma_{1}^{-}\\\\sigma_{2}^{+}) + J_{1,3}(\\\\sigma_{1}^{+}\\\\sigma_{3}^{-}+\\\\sigma_{1}^{-}\\\\sigma_{3}^{+}) + J_{3,4}(\\\\sigma_{3}^{+}\\\\sigma_{4}^{-}+\\\\sigma_{3}^{-}\\\\sigma_{4}^{+}) \\\\\\\\ & + \\\\Omega_{d,0}(U_{0}^{(0,1)}(t))\\\\sigma_{0}^{X} + \\\\Omega_{d,1}(U_{1}^{(1,0)}(t)+U_{3}^{(1,3)}(t)+U_{2}^{(1,2)}(t))\\\\sigma_{1}^{X} \\\\\\\\ & + \\\\Omega_{d,2}(U_{4}^{(2,1)}(t))\\\\sigma_{2}^{X} + \\\\Omega_{d,3}(U_{6}^{(3,4)}(t)+U_{5}^{(3,1)}(t))\\\\sigma_{3}^{X} \\\\\\\\ & + \\\\Omega_{d,4}(U_{7}^{(4,3)}(t))\\\\sigma_{4}^{X} \\\\\\\\ \\\\end{align}', 'h_str': ['_SUM[i,0,4,wq{i}/2*(I{i}-Z{i})]', '_SUM[i,0,4,delta{i}/2*O{i}*O{i}]', '_SUM[i,0,4,-delta{i}/2*O{i}]', '_SUM[i,0,4,omegad{i}*X{i}||D{i}]', 'jq0q1*Sp0*Sm1', 'jq0q1*Sm0*Sp1', 'jq1q2*Sp1*Sm2', 'jq1q2*Sm1*Sp2', 'jq1q3*Sp1*Sm3', 'jq1q3*Sm1*Sp3', 'jq3q4*Sp3*Sm4', 'jq3q4*Sm3*Sp4', 'omegad1*X0||U0', 'omegad0*X1||U1', 'omegad3*X1||U3', 'omegad2*X1||U2', 'omegad1*X2||U4', 'omegad4*X3||U6', 'omegad1*X3||U5', 'omegad3*X4||U7'], 'osc': {}, 'qub': {'0': 3, '1': 3, '2': 3, '3': 3, '4': 3}, 'vars': {'delta0': -2.0827513300148186, 'delta1': -2.0058778622715616, 'delta2': -2.0880065449040663, 'delta3': -2.1053738129998156, 'delta4': -2.005987719908062, 'jq0q1': 0.011708244917214646, 'jq1q2': 0.012036525934936945, 'jq1q3': 0.011454603594507373, 'jq3q4': 0.010153599217904038, 'omegad0': 1.1309459168766791, 'omegad1': 1.3422829733199948, 'omegad2': 1.0533235325477859, 'omegad3': 1.1042694325313345, 'omegad4': 0.47117131670337054, 'wq0': 33.30510607678178, 'wq1': 31.922621710996307, 'wq2': 33.43992210933055, 'wq3': 32.4440989669457, 'wq4': 31.745212723326883}}\n",
      "    dynamic_reprate_enabled: True\n",
      "    pulse_num_channels: 9\n",
      "    quantum_volume: 16\n",
      "    timing_constraints: {'acquire_alignment': 16, 'granularity': 16, 'min_length': 64, 'pulse_alignment': 1}\n",
      "    n_uchannels: 8\n",
      "    dtm: 0.2222222222222222\n",
      "    qubit_lo_range: [[4.800672262319742, 5.800672262319742], [4.580643041757719, 5.580643041757719], [4.822128900307917, 5.822128900307917], [4.663638724752063, 5.663638724752063], [4.552407524421202, 5.552407524421202]]\n",
      "    supported_instructions: ['x', 'setf', 'play', 'rz', 'delay', 'cx', 'shiftf', 'u3', 'id', 'acquire', 'measure', 'sx', 'u1', 'reset', 'u2']\n",
      "    backend_name: ibmq_quito\n",
      "    max_experiments: 75\n",
      "    multi_meas_enabled: True\n",
      "    open_pulse: False\n",
      "    allow_q_object: True\n",
      "    coupling_map: [[0, 1], [1, 0], [1, 2], [1, 3], [2, 1], [3, 1], [3, 4], [4, 3]]\n",
      "    allow_object_storage: True\n",
      "    default_rep_delay: 250.0\n",
      "    meas_kernels: ['hw_boxcar']\n",
      "    channels: {'acquire0': {'operates': {'qubits': [0]}, 'purpose': 'acquire', 'type': 'acquire'}, 'acquire1': {'operates': {'qubits': [1]}, 'purpose': 'acquire', 'type': 'acquire'}, 'acquire2': {'operates': {'qubits': [2]}, 'purpose': 'acquire', 'type': 'acquire'}, 'acquire3': {'operates': {'qubits': [3]}, 'purpose': 'acquire', 'type': 'acquire'}, 'acquire4': {'operates': {'qubits': [4]}, 'purpose': 'acquire', 'type': 'acquire'}, 'd0': {'operates': {'qubits': [0]}, 'purpose': 'drive', 'type': 'drive'}, 'd1': {'operates': {'qubits': [1]}, 'purpose': 'drive', 'type': 'drive'}, 'd2': {'operates': {'qubits': [2]}, 'purpose': 'drive', 'type': 'drive'}, 'd3': {'operates': {'qubits': [3]}, 'purpose': 'drive', 'type': 'drive'}, 'd4': {'operates': {'qubits': [4]}, 'purpose': 'drive', 'type': 'drive'}, 'm0': {'operates': {'qubits': [0]}, 'purpose': 'measure', 'type': 'measure'}, 'm1': {'operates': {'qubits': [1]}, 'purpose': 'measure', 'type': 'measure'}, 'm2': {'operates': {'qubits': [2]}, 'purpose': 'measure', 'type': 'measure'}, 'm3': {'operates': {'qubits': [3]}, 'purpose': 'measure', 'type': 'measure'}, 'm4': {'operates': {'qubits': [4]}, 'purpose': 'measure', 'type': 'measure'}, 'u0': {'operates': {'qubits': [0, 1]}, 'purpose': 'cross-resonance', 'type': 'control'}, 'u1': {'operates': {'qubits': [1, 0]}, 'purpose': 'cross-resonance', 'type': 'control'}, 'u2': {'operates': {'qubits': [1, 2]}, 'purpose': 'cross-resonance', 'type': 'control'}, 'u3': {'operates': {'qubits': [1, 3]}, 'purpose': 'cross-resonance', 'type': 'control'}, 'u4': {'operates': {'qubits': [2, 1]}, 'purpose': 'cross-resonance', 'type': 'control'}, 'u5': {'operates': {'qubits': [3, 1]}, 'purpose': 'cross-resonance', 'type': 'control'}, 'u6': {'operates': {'qubits': [3, 4]}, 'purpose': 'cross-resonance', 'type': 'control'}, 'u7': {'operates': {'qubits': [4, 3]}, 'purpose': 'cross-resonance', 'type': 'control'}}\n",
      "    meas_levels: [1, 2]\n",
      "    rep_delay_range: [0.0, 500.0]\n",
      "    n_registers: 1\n",
      "    credits_required: True\n",
      "    sample_name: family: Falcon, revision: 4, segment: T\n",
      "    qubit_channel_mapping: [['u1', 'm0', 'u0', 'd0'], ['m1', 'u0', 'u3', 'u5', 'u1', 'u4', 'd1', 'u2'], ['m2', 'u4', 'd2', 'u2'], ['d3', 'u6', 'u7', 'u3', 'u5', 'm3'], ['u7', 'u6', 'd4', 'm4']]\n",
      "    pulse_num_qubits: 3\n",
      "    acquisition_latency: []\n",
      "    u_channel_lo: [[{'q': 1, 'scale': (1+0j)}], [{'q': 0, 'scale': (1+0j)}], [{'q': 2, 'scale': (1+0j)}], [{'q': 3, 'scale': (1+0j)}], [{'q': 1, 'scale': (1+0j)}], [{'q': 1, 'scale': (1+0j)}], [{'q': 4, 'scale': (1+0j)}], [{'q': 3, 'scale': (1+0j)}]]\n",
      "    conditional_latency: []\n",
      "    processor_type: {'family': 'Falcon', 'revision': 4, 'segment': 'T'}\n",
      "    max_shots: 8192\n",
      "    online_date: 2021-01-08 05:00:00+00:00\n",
      "    memory: True\n",
      "    description: 5 qubit device Quito\n",
      "    input_allowed: ['job', 'runtime']\n",
      "    measure_esp_enabled: False\n",
      "    uchannels_enabled: True\n",
      "    url: None\n",
      "    meas_map: [[0, 1, 2, 3, 4]]\n",
      "    meas_lo_range: [[6.807868157000001, 7.807868157000001], [6.7292695270000005, 7.7292695270000005], [6.991060108, 7.991060108], [6.8547510460000005, 7.8547510460000005], [6.904365522000001, 7.904365522000001]]\n",
      "    conditional: False\n",
      "    parametric_pulses: ['gaussian', 'gaussian_square', 'drag', 'constant']\n",
      "    rep_times: [1000.0]\n",
      "\n",
      "Qubits [Name / Freq / T1 / T2 / RZ err / SX err / X err / Readout err]\n",
      "----------------------------------------------------------------------\n",
      "    Q0 / 5.30067 GHz / 75.70674 us / 101.70533 us / 0.00000 / 0.00061 / 0.00061 / 0.04060 \n",
      "    Q1 / 5.08064 GHz / 97.98702 us / 140.68413 us / 0.00000 / 0.00028 / 0.00028 / 0.02250 \n",
      "    Q2 / 5.32213 GHz / 71.37072 us / 85.31916 us / 0.00000 / 0.00031 / 0.00031 / 0.02480 \n",
      "    Q3 / 5.16364 GHz / 78.61102 us / 10.29254 us / 0.00000 / 0.00031 / 0.00031 / 0.03820 \n",
      "    Q4 / 5.05241 GHz / 128.05589 us / 199.09676 us / 0.00000 / 0.00028 / 0.00028 / 0.02380 \n",
      "\n",
      "Multi-Qubit Gates [Name / Type / Gate Error]\n",
      "--------------------------------------------\n",
      "    cx3_4 / cx / 0.01786\n",
      "    cx4_3 / cx / 0.01786\n",
      "    cx1_3 / cx / 0.00849\n",
      "    cx3_1 / cx / 0.00849\n",
      "    cx2_1 / cx / 0.00802\n",
      "    cx1_2 / cx / 0.00802\n",
      "    cx0_1 / cx / 0.01146\n",
      "    cx1_0 / cx / 0.01146\n"
     ]
    }
   ],
   "source": [
    "backend_monitor(provider.get_backend(\"ibmq_quito\"))"
   ]
  },
  {
   "cell_type": "markdown",
   "metadata": {},
   "source": [
    "We are going to select the least busy device and run our circuit on it"
   ]
  },
  {
   "cell_type": "code",
   "execution_count": 15,
   "metadata": {
    "scrolled": true
   },
   "outputs": [
    {
     "name": "stdout",
     "output_type": "stream",
     "text": [
      "We are executing on... ibmq_quito\n",
      "It has 2 pending jobs\n",
      "Job Status: job has successfully run\n"
     ]
    }
   ],
   "source": [
    "from qiskit.providers.ibmq import least_busy\n",
    "\n",
    "# We execute on the least busy device (among the actual quantum computers)\n",
    "backend = least_busy(provider.backends(operational = True, simulator=False, status_msg='active',\n",
    "                                       filters=lambda x: x.configuration().n_qubits > 1)) \n",
    "backend = provider.get_backend('ibmq_quito')\n",
    "print(\"We are executing on...\",backend)\n",
    "print(\"It has\",backend.status().pending_jobs,\"pending jobs\")\n",
    "job_exp = execute(circ_bell, backend=backend)\n",
    "job_monitor(job_exp)"
   ]
  },
  {
   "cell_type": "markdown",
   "metadata": {},
   "source": [
    "Once that we have run the job, we draw the results and compare them to the one obtained by the simulator"
   ]
  },
  {
   "cell_type": "code",
   "execution_count": 16,
   "metadata": {},
   "outputs": [
    {
     "data": {
      "image/png": "[encoded data removed]",
      "text/plain": [
       "<Figure size 504x360 with 1 Axes>"
      ]
     },
     "execution_count": 16,
     "metadata": {},
     "output_type": "execute_result"
    }
   ],
   "source": [
    "result_exp = job_exp.result()\n",
    "counts_exp = result_exp.get_counts(circ_bell)\n",
    "plot_histogram([counts_exp,counts], legend=['Device', 'Simulator'])"
   ]
  },
  {
   "cell_type": "code",
   "execution_count": null,
   "metadata": {},
   "outputs": [],
   "source": []
  }
 ],
 "metadata": {
  "kernelspec": {
   "display_name": "Python 3 (ipykernel)",
   "language": "python",
   "name": "python3"
  },
  "language_info": {
   "codemirror_mode": {
    "name": "ipython",
    "version": 3
   },
   "file_extension": ".py",
   "mimetype": "text/x-python",
   "name": "python",
   "nbconvert_exporter": "python",
   "pygments_lexer": "ipython3",
   "version": "3.9.7"
  }
 },
 "nbformat": 4,
 "nbformat_minor": 4
}
