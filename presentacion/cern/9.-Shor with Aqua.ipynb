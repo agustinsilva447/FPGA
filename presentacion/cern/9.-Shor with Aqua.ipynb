{
 "cells": [
  {
   "cell_type": "markdown",
   "metadata": {},
   "source": [
    "# Shor with Aqua"
   ]
  },
  {
   "cell_type": "markdown",
   "metadata": {},
   "source": [
    "Executing Shor's algorithm with Aqua is very simple. We just need to specify the number $N$ we want to factor and the value $a$ that we are going to use. \n",
    "\n",
    "We will start with the default values: $N=15$ and $a=2$. "
   ]
  },
  {
   "cell_type": "code",
   "execution_count": 1,
   "metadata": {},
   "outputs": [
    {
     "name": "stderr",
     "output_type": "stream",
     "text": [
      "C:\\Users\\mlabadm\\AppData\\Local\\Programs\\Python\\Python39\\lib\\site-packages\\qiskit\\aqua\\__init__.py:86: DeprecationWarning: The package qiskit.aqua is deprecated. It was moved/refactored to qiskit-terra For more information see <https://github.com/Qiskit/qiskit-aqua/blob/main/README.md#migration-guide>\n",
      "  warn_package('aqua', 'qiskit-terra')\n"
     ]
    }
   ],
   "source": [
    "%matplotlib inline\n",
    "\n",
    "from qiskit import *\n",
    "from qiskit.visualization import *\n",
    "from qiskit.tools.monitor import *\n",
    "from qiskit.aqua import *\n",
    "from qiskit.aqua.algorithms import *"
   ]
  },
  {
   "cell_type": "code",
   "execution_count": 2,
   "metadata": {},
   "outputs": [
    {
     "name": "stderr",
     "output_type": "stream",
     "text": [
      "C:\\Users\\mlabadm\\AppData\\Local\\Programs\\Python\\Python39\\lib\\site-packages\\qiskit\\aqua\\algorithms\\factorizers\\shor.py:69: DeprecationWarning: The package qiskit.aqua.algorithms.factorizers is deprecated. It was moved/refactored to qiskit.algorithms.factorizers (pip install qiskit-terra). For more information see <https://github.com/Qiskit/qiskit-aqua/blob/main/README.md#migration-guide>\n",
      "  warn_package('aqua.algorithms.factorizers',\n",
      "C:\\Users\\mlabadm\\AppData\\Local\\Programs\\Python\\Python39\\lib\\site-packages\\qiskit\\aqua\\quantum_instance.py:135: DeprecationWarning: The class qiskit.aqua.QuantumInstance is deprecated. It was moved/refactored to qiskit.utils.QuantumInstance (pip install qiskit-terra). For more information see <https://github.com/Qiskit/qiskit-aqua/blob/main/README.md#migration-guide>\n",
      "  warn_class('aqua.QuantumInstance',\n",
      "C:\\Users\\mlabadm\\AppData\\Local\\Programs\\Python\\Python39\\lib\\site-packages\\qiskit\\utils\\deprecation.py:62: DeprecationWarning: Using a qobj for run() is deprecated as of qiskit-aer 0.9.0 and will be removed no sooner than 3 months from that release date. Transpiled circuits should now be passed directly using `backend.run(circuits, **run_options).\n",
      "  return func(*args, **kwargs)\n"
     ]
    },
    {
     "name": "stdout",
     "output_type": "stream",
     "text": [
      "{'factors': [[3, 5]], 'total_counts': 58, 'successful_counts': 13}\n"
     ]
    }
   ],
   "source": [
    "shor = Shor(N=15, a = 2)\n",
    "backend = Aer.get_backend('qasm_simulator')\n",
    "quantum_instance = QuantumInstance(backend)\n",
    "result = shor.run(quantum_instance)\n",
    "print(result)"
   ]
  },
  {
   "cell_type": "markdown",
   "metadata": {},
   "source": [
    "Now we are going to try $N=15$ and different values of $a$. We will first check that $N$ and $a$ do not share factors (that would be the trivial case!)  "
   ]
  },
  {
   "cell_type": "code",
   "execution_count": 3,
   "metadata": {},
   "outputs": [
    {
     "name": "stdout",
     "output_type": "stream",
     "text": [
      "N= 15\n",
      "\n",
      "***** a= 2\n",
      "\n",
      "[[3, 5]]\n",
      "\n",
      "***** a= 3\n",
      "\n",
      "A factor of 15 is 3\n",
      "\n",
      "***** a= 4\n",
      "\n",
      "[[3, 5]]\n",
      "\n",
      "***** a= 5\n",
      "\n",
      "A factor of 15 is 5\n",
      "\n",
      "***** a= 6\n",
      "\n",
      "A factor of 15 is 3\n",
      "\n",
      "***** a= 7\n",
      "\n",
      "[[3, 5]]\n",
      "\n",
      "***** a= 8\n",
      "\n",
      "[[3, 5]]\n",
      "\n",
      "***** a= 9\n",
      "\n",
      "A factor of 15 is 3\n",
      "\n",
      "***** a= 10\n",
      "\n",
      "A factor of 15 is 5\n",
      "\n",
      "***** a= 11\n",
      "\n",
      "[[3, 5]]\n",
      "\n",
      "***** a= 12\n",
      "\n",
      "A factor of 15 is 3\n",
      "\n",
      "***** a= 13\n",
      "\n",
      "[[3, 5]]\n",
      "\n",
      "***** a= 14\n",
      "\n",
      "[]\n"
     ]
    }
   ],
   "source": [
    "from math import gcd\n",
    "\n",
    "N=15\n",
    "print(\"N=\",N)\n",
    "for a in range(2,N):\n",
    "    print()\n",
    "    print(\"***** a=\",a)\n",
    "    print()\n",
    "    f = gcd(N,a)\n",
    "    if f==1:\n",
    "        shor = Shor(N,a)\n",
    "        result = shor.run(quantum_instance)\n",
    "        print(result[\"factors\"])\n",
    "    else:\n",
    "        print(\"A factor of\",N,\"is\",f)\n",
    "        "
   ]
  }
 ],
 "metadata": {
  "kernelspec": {
   "display_name": "Python 3 (ipykernel)",
   "language": "python",
   "name": "python3"
  },
  "language_info": {
   "codemirror_mode": {
    "name": "ipython",
    "version": 3
   },
   "file_extension": ".py",
   "mimetype": "text/x-python",
   "name": "python",
   "nbconvert_exporter": "python",
   "pygments_lexer": "ipython3",
   "version": "3.9.7"
  }
 },
 "nbformat": 4,
 "nbformat_minor": 4
}
