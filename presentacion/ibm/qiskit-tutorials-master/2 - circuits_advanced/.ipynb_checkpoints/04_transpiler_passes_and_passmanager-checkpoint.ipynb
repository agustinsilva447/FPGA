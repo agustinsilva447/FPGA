{
 "cells": [
  {
   "cell_type": "markdown",
   "metadata": {},
   "source": [
    "# Transpiler Passes and Pass Manager"
   ]
  },
  {
   "cell_type": "markdown",
   "metadata": {},
   "source": [
    "## Introduction"
   ]
  },
  {
   "cell_type": "markdown",
   "metadata": {},
   "source": [
    "A central component of Qiskit Terra is the transpiler, which is designed for modularity and extensibility. The goal is to be able to easily write new circuit transformations (known as transpiler **passes**), and combine them with other existing passes.  Which passes are chained together and in which order has a major effect on the final outcome. This pipeline is determined by a **pass manager**, which schedules the passes and also allows passes to communicate with each other by providing a shared space. In this way, the transpiler opens up the door for research into aggressive optimization of quantum circuits.\n",
    "\n",
    "In this notebook, we look at the built-in passes, how to use the pass manager, and develop a simple custom transpiler pass. In order to do the latter, we first need to introduce the internal representation of quantum circuits in Qiskit, in the form of a Directed Acyclic Graph, or **DAG**. Then, we illustrate a simple swap mapper pass, which transforms an input circuit to be compatible with a limited-connectivity quantum device.\n",
    "\n",
    "***Before you start***: You may need to install the `pydot` library and the `graphviz` library for the DAG plotting routines. If you are using Anaconda Python, you can install both with the `conda` command. If you use your system's native Python interpreter, install `pydot` using the `pip` command, and install `graphviz` using your system's native package manager (e.g. `yum`, `apt`, `dnf`, `brew`, etc.)."
   ]
  },
  {
   "cell_type": "code",
   "execution_count": 1,
   "metadata": {
    "ExecuteTime": {
     "end_time": "2019-12-10T21:47:56.857930Z",
     "start_time": "2019-12-10T21:47:54.444353Z"
    }
   },
   "outputs": [],
   "source": [
    "from qiskit import QuantumCircuit\n",
    "from qiskit.compiler import transpile\n",
    "from qiskit.transpiler import PassManager"
   ]
  },
  {
   "cell_type": "markdown",
   "metadata": {
    "ExecuteTime": {
     "end_time": "2019-08-21T09:12:12.822442Z",
     "start_time": "2019-08-21T09:12:12.819902Z"
    }
   },
   "source": [
    "## PassManager object\n",
    "\n",
    "Lets you specify the set of passes you want."
   ]
  },
  {
   "cell_type": "code",
   "execution_count": 2,
   "metadata": {
    "ExecuteTime": {
     "end_time": "2019-12-10T21:47:57.268332Z",
     "start_time": "2019-12-10T21:47:56.860709Z"
    }
   },
   "outputs": [
    {
     "data": {
      "image/png": "[encoded data removed]",
      "text/plain": [
       "<Figure size 146.797x204.68 with 1 Axes>"
      ]
     },
     "execution_count": 2,
     "metadata": {},
     "output_type": "execute_result"
    }
   ],
   "source": [
    "circ = QuantumCircuit(3)\n",
    "circ.ccx(0, 1, 2)\n",
    "circ.draw(output='mpl')"
   ]
  },
  {
   "cell_type": "code",
   "execution_count": 3,
   "metadata": {
    "ExecuteTime": {
     "end_time": "2019-12-10T21:47:57.533035Z",
     "start_time": "2019-12-10T21:47:57.270693Z"
    }
   },
   "outputs": [
    {
     "data": {
      "image/png": "[encoded data removed]",
      "text/plain": [
       "<Figure size 748.797x204.68 with 1 Axes>"
      ]
     },
     "execution_count": 3,
     "metadata": {},
     "output_type": "execute_result"
    }
   ],
   "source": [
    "from qiskit.transpiler.passes import Unroller\n",
    "pass_ = Unroller(['u1', 'u2', 'u3', 'cx'])\n",
    "pm = PassManager(pass_)\n",
    "new_circ = pm.run(circ)\n",
    "new_circ.draw(output='mpl')"
   ]
  },
  {
   "cell_type": "markdown",
   "metadata": {},
   "source": [
    "All of Qiskit's transpiler passes are accessible from ``qiskit.transpiler.passes``."
   ]
  },
  {
   "cell_type": "code",
   "execution_count": 4,
   "metadata": {
    "ExecuteTime": {
     "end_time": "2019-12-10T21:47:57.539422Z",
     "start_time": "2019-12-10T21:47:57.535048Z"
    }
   },
   "outputs": [
    {
     "data": {
      "text/plain": [
       "['ALAPSchedule',\n",
       " 'ASAPSchedule',\n",
       " 'AlignMeasures',\n",
       " 'ApplyLayout',\n",
       " 'BIPMapping',\n",
       " 'BarrierBeforeFinalMeasurements',\n",
       " 'BasicSwap',\n",
       " 'BasisTranslator',\n",
       " 'CSPLayout',\n",
       " 'CXCancellation',\n",
       " 'CXDirection',\n",
       " 'CheckCXDirection',\n",
       " 'CheckGateDirection',\n",
       " 'CheckMap',\n",
       " 'Collect2qBlocks',\n",
       " 'CommutationAnalysis',\n",
       " 'CommutativeCancellation',\n",
       " 'ConsolidateBlocks',\n",
       " 'CountOps',\n",
       " 'CountOpsLongestPath',\n",
       " 'CrosstalkAdaptiveSchedule',\n",
       " 'DAGFixedPoint',\n",
       " 'DAGLongestPath',\n",
       " 'Decompose',\n",
       " 'DenseLayout',\n",
       " 'Depth',\n",
       " 'DynamicalDecoupling',\n",
       " 'EnlargeWithAncilla',\n",
       " 'Error',\n",
       " 'FixedPoint',\n",
       " 'FullAncillaAllocation',\n",
       " 'GateDirection',\n",
       " 'HoareOptimizer',\n",
       " 'Layout2qDistance',\n",
       " 'LayoutTransformation',\n",
       " 'LookaheadSwap',\n",
       " 'MergeAdjacentBarriers',\n",
       " 'NoiseAdaptiveLayout',\n",
       " 'NumTensorFactors',\n",
       " 'Optimize1qGates',\n",
       " 'Optimize1qGatesDecomposition',\n",
       " 'OptimizeSwapBeforeMeasure',\n",
       " 'RZXCalibrationBuilder',\n",
       " 'RZXCalibrationBuilderNoEcho',\n",
       " 'RemoveBarriers',\n",
       " 'RemoveDiagonalGatesBeforeMeasure',\n",
       " 'RemoveFinalMeasurements',\n",
       " 'RemoveResetInZeroState',\n",
       " 'ResourceEstimation',\n",
       " 'SabreLayout',\n",
       " 'SabreSwap',\n",
       " 'SetLayout',\n",
       " 'Size',\n",
       " 'StochasticSwap',\n",
       " 'TemplateOptimization',\n",
       " 'TimeUnitConversion',\n",
       " 'TrivialLayout',\n",
       " 'UnitarySynthesis',\n",
       " 'Unroll3qOrMore',\n",
       " 'UnrollCustomDefinitions',\n",
       " 'Unroller',\n",
       " 'ValidatePulseGates',\n",
       " 'Width']"
      ]
     },
     "execution_count": 4,
     "metadata": {},
     "output_type": "execute_result"
    }
   ],
   "source": [
    "from qiskit.transpiler import passes\n",
    "[pass_ for pass_ in dir(passes) if pass_[0].isupper()]"
   ]
  },
  {
   "cell_type": "markdown",
   "metadata": {},
   "source": [
    "## Different Variants of the Same Pass\n",
    "\n",
    "There can be passes that do the same job, but in different ways. For example, the ``TrivialLayout``, ``DenseLayout`` and ``NoiseAdaptiveLayout`` all choose a layout (binding of virtual qubits to physical qubits), but use different algorithms and objectives. Similarly, the ``BasicSwap``, ``LookaheadSwap`` and ``StochasticSwap`` all insert swaps to make the circuit compatible with the coupling map. The modularity of the transpiler allows plug-and-play replacements for each pass.\n",
    "\n",
    "Below, we show the swapper passes all applied to the same circuit, to transform it to match a linear chain topology. You can see differences in performance, where the ``StochasticSwap`` is clearly the best. However, this can vary depending on the input circuit."
   ]
  },
  {
   "cell_type": "code",
   "execution_count": 5,
   "metadata": {
    "ExecuteTime": {
     "end_time": "2019-12-10T21:47:57.681468Z",
     "start_time": "2019-12-10T21:47:57.541513Z"
    }
   },
   "outputs": [],
   "source": [
    "from qiskit.transpiler import CouplingMap, Layout\n",
    "from qiskit.transpiler.passes import BasicSwap, LookaheadSwap, StochasticSwap\n",
    "\n",
    "coupling = [[0, 1], [1, 2], [2, 3], [3, 4], [4, 5], [5, 6]]\n",
    "\n",
    "circuit = QuantumCircuit(7)\n",
    "circuit.h(3)\n",
    "circuit.cx(0, 6)\n",
    "circuit.cx(6, 0)\n",
    "circuit.cx(0, 1)\n",
    "circuit.cx(3, 1)\n",
    "circuit.cx(3, 0)\n",
    "\n",
    "coupling_map = CouplingMap(couplinglist=coupling)\n",
    "\n",
    "bs = BasicSwap(coupling_map=coupling_map)\n",
    "pass_manager = PassManager(bs)\n",
    "basic_circ = pass_manager.run(circuit)\n",
    "\n",
    "ls = LookaheadSwap(coupling_map=coupling_map)\n",
    "pass_manager = PassManager(ls)\n",
    "lookahead_circ = pass_manager.run(circuit)\n",
    "\n",
    "ss = StochasticSwap(coupling_map=coupling_map)\n",
    "pass_manager = PassManager(ss)\n",
    "stochastic_circ = pass_manager.run(circuit)"
   ]
  },
  {
   "cell_type": "code",
   "execution_count": 6,
   "metadata": {
    "ExecuteTime": {
     "end_time": "2019-12-10T21:47:57.902461Z",
     "start_time": "2019-12-10T21:47:57.682997Z"
    }
   },
   "outputs": [
    {
     "data": {
      "image/png": "[encoded data removed]",
      "text/plain": [
       "<Figure size 447.797x445.48 with 1 Axes>"
      ]
     },
     "execution_count": 6,
     "metadata": {},
     "output_type": "execute_result"
    }
   ],
   "source": [
    "circuit.draw(output='mpl')"
   ]
  },
  {
   "cell_type": "code",
   "execution_count": 7,
   "metadata": {
    "ExecuteTime": {
     "end_time": "2019-12-10T21:47:58.238179Z",
     "start_time": "2019-12-10T21:47:57.904473Z"
    }
   },
   "outputs": [
    {
     "data": {
      "image/png": "[encoded data removed]",
      "text/plain": [
       "<Figure size 989.597x445.48 with 1 Axes>"
      ]
     },
     "execution_count": 7,
     "metadata": {},
     "output_type": "execute_result"
    }
   ],
   "source": [
    "basic_circ.draw(output='mpl')"
   ]
  },
  {
   "cell_type": "code",
   "execution_count": 8,
   "metadata": {
    "ExecuteTime": {
     "end_time": "2019-12-10T21:47:58.643611Z",
     "start_time": "2019-12-10T21:47:58.241545Z"
    }
   },
   "outputs": [
    {
     "data": {
      "image/png": "[encoded data removed]",
      "text/plain": [
       "<Figure size 628.397x445.48 with 1 Axes>"
      ]
     },
     "execution_count": 8,
     "metadata": {},
     "output_type": "execute_result"
    }
   ],
   "source": [
    "lookahead_circ.draw(output='mpl')"
   ]
  },
  {
   "cell_type": "code",
   "execution_count": 9,
   "metadata": {
    "ExecuteTime": {
     "end_time": "2019-12-10T21:47:58.935337Z",
     "start_time": "2019-12-10T21:47:58.646318Z"
    }
   },
   "outputs": [
    {
     "data": {
      "image/png": "[encoded data removed]",
      "text/plain": [
       "<Figure size 748.797x445.48 with 1 Axes>"
      ]
     },
     "execution_count": 9,
     "metadata": {},
     "output_type": "execute_result"
    }
   ],
   "source": [
    "stochastic_circ.draw(output='mpl')"
   ]
  },
  {
   "cell_type": "markdown",
   "metadata": {},
   "source": [
    "## Preset Pass Managers\n",
    "\n",
    "Qiskit comes with several pre-defined pass managers, corresponding to various levels of optimization achieved through different pipelines of passes. Currently ``optimization_level`` 0 through 3 are supported; the higher the number, the more optimized it is, at the expense of more time. Choosing a good pass manager may take trial and error, as it depends heavily on the circuit being transpiled and the backend being targeted.\n",
    "\n",
    "Here we illustrate the different levels by looking at a state synthesis circuit. We initialize four qubits to an arbitrary state, and then try to optimize the circuit that achieves this.\n",
    "\n",
    "- ``optimization_level=0``: just maps the circuit to the backend, with no explicit optimization (except whatever optimizations the mapper does).\n",
    "\n",
    "- ``optimization_level=1``: maps the circuit, but also does light-weight optimizations by collapsing adjacent gates.\n",
    "\n",
    "- ``optimization_level=2``: medium-weight optimization, including a noise-adaptive layout and a gate-cancellation procedure based on gate commutation relationships.\n",
    "\n",
    "- ``optimization_level=3``: heavy-weight optimization, which in addition to previous steps, does resynthesis of two-qubit blocks of gates in the circuit."
   ]
  },
  {
   "cell_type": "code",
   "execution_count": 10,
   "metadata": {
    "ExecuteTime": {
     "end_time": "2019-12-10T21:47:58.956270Z",
     "start_time": "2019-12-10T21:47:58.937115Z"
    }
   },
   "outputs": [],
   "source": [
    "import math\n",
    "from qiskit.test.mock import FakeTokyo\n",
    "\n",
    "backend = FakeTokyo()     # mimics the tokyo device in terms of coupling map and basis gates"
   ]
  },
  {
   "cell_type": "code",
   "execution_count": 11,
   "metadata": {
    "ExecuteTime": {
     "end_time": "2019-12-10T21:47:59.632459Z",
     "start_time": "2019-12-10T21:47:58.959187Z"
    }
   },
   "outputs": [
    {
     "data": {
      "text/html": [
       "<pre style=\"word-wrap: normal;white-space: pre;background: #fff0;line-height: 1.1;font-family: &quot;Courier New&quot;,Courier,monospace\">     »\n",
       "q_0: »\n",
       "     »\n",
       "q_1: »\n",
       "     »\n",
       "q_2: »\n",
       "     »\n",
       "q_3: »\n",
       "     »\n",
       "q_4: »\n",
       "     »\n",
       "q_5: »\n",
       "     »\n",
       "q_6: »\n",
       "     »\n",
       "q_7: »\n",
       "     »\n",
       "q_8: »\n",
       "     »\n",
       "q_9: »\n",
       "     »\n",
       "«     ┌────────────────────────────────────────────────────────────────────────────┐\n",
       "«q_0: ┤0                                                                           ├\n",
       "«     │                                                                            │\n",
       "«q_1: ┤1                                                                           ├\n",
       "«     │  Initialize(0.5j,0.35355,0,0,0,0,0,0,0.35355,0.35355j,0,0,0,0,0.5,0.35355) │\n",
       "«q_2: ┤2                                                                           ├\n",
       "«     │                                                                            │\n",
       "«q_3: ┤3                                                                           ├\n",
       "«     └────────────────────────────────────────────────────────────────────────────┘\n",
       "«q_4: ──────────────────────────────────────────────────────────────────────────────\n",
       "«                                                                                   \n",
       "«q_5: ──────────────────────────────────────────────────────────────────────────────\n",
       "«                                                                                   \n",
       "«q_6: ──────────────────────────────────────────────────────────────────────────────\n",
       "«                                                                                   \n",
       "«q_7: ──────────────────────────────────────────────────────────────────────────────\n",
       "«                                                                                   \n",
       "«q_8: ──────────────────────────────────────────────────────────────────────────────\n",
       "«                                                                                   \n",
       "«q_9: ──────────────────────────────────────────────────────────────────────────────\n",
       "«                                                                                   </pre>"
      ],
      "text/plain": [
       "     »\n",
       "q_0: »\n",
       "     »\n",
       "q_1: »\n",
       "     »\n",
       "q_2: »\n",
       "     »\n",
       "q_3: »\n",
       "     »\n",
       "q_4: »\n",
       "     »\n",
       "q_5: »\n",
       "     »\n",
       "q_6: »\n",
       "     »\n",
       "q_7: »\n",
       "     »\n",
       "q_8: »\n",
       "     »\n",
       "q_9: »\n",
       "     »\n",
       "«     ┌────────────────────────────────────────────────────────────────────────────┐\n",
       "«q_0: ┤0                                                                           ├\n",
       "«     │                                                                            │\n",
       "«q_1: ┤1                                                                           ├\n",
       "«     │  Initialize(0.5j,0.35355,0,0,0,0,0,0,0.35355,0.35355j,0,0,0,0,0.5,0.35355) │\n",
       "«q_2: ┤2                                                                           ├\n",
       "«     │                                                                            │\n",
       "«q_3: ┤3                                                                           ├\n",
       "«     └────────────────────────────────────────────────────────────────────────────┘\n",
       "«q_4: ──────────────────────────────────────────────────────────────────────────────\n",
       "«                                                                                   \n",
       "«q_5: ──────────────────────────────────────────────────────────────────────────────\n",
       "«                                                                                   \n",
       "«q_6: ──────────────────────────────────────────────────────────────────────────────\n",
       "«                                                                                   \n",
       "«q_7: ──────────────────────────────────────────────────────────────────────────────\n",
       "«                                                                                   \n",
       "«q_8: ──────────────────────────────────────────────────────────────────────────────\n",
       "«                                                                                   \n",
       "«q_9: ──────────────────────────────────────────────────────────────────────────────\n",
       "«                                                                                   "
      ]
     },
     "execution_count": 11,
     "metadata": {},
     "output_type": "execute_result"
    }
   ],
   "source": [
    "qc = QuantumCircuit(10)\n",
    "\n",
    "random_state = [\n",
    "    1 / math.sqrt(4) * complex(0, 1),\n",
    "    1 / math.sqrt(8) * complex(1, 0),\n",
    "    0,\n",
    "    0,\n",
    "    0,\n",
    "    0,\n",
    "    0,\n",
    "    0,\n",
    "    1 / math.sqrt(8) * complex(1, 0),\n",
    "    1 / math.sqrt(8) * complex(0, 1),\n",
    "    0,\n",
    "    0,\n",
    "    0,\n",
    "    0,\n",
    "    1 / math.sqrt(4) * complex(1, 0),\n",
    "    1 / math.sqrt(8) * complex(1, 0)]\n",
    "\n",
    "qc.initialize(random_state, range(4))\n",
    "qc.draw()"
   ]
  },
  {
   "cell_type": "markdown",
   "metadata": {},
   "source": [
    "Now map this to the 20-qubit Tokyo device, with different optimization levels:"
   ]
  },
  {
   "cell_type": "code",
   "execution_count": 12,
   "metadata": {
    "ExecuteTime": {
     "end_time": "2019-12-10T21:48:00.000884Z",
     "start_time": "2019-12-10T21:47:59.634920Z"
    }
   },
   "outputs": [
    {
     "name": "stdout",
     "output_type": "stream",
     "text": [
      "gates =  OrderedDict([('cx', 70), ('u3', 15), ('u1', 15), ('reset', 4)])\n",
      "depth =  73\n"
     ]
    }
   ],
   "source": [
    "optimized_0 = transpile(qc, backend=backend, seed_transpiler=11, optimization_level=0)\n",
    "print('gates = ', optimized_0.count_ops())\n",
    "print('depth = ', optimized_0.depth())"
   ]
  },
  {
   "cell_type": "code",
   "execution_count": 13,
   "metadata": {
    "ExecuteTime": {
     "end_time": "2019-12-10T21:48:00.474954Z",
     "start_time": "2019-12-10T21:48:00.003129Z"
    }
   },
   "outputs": [
    {
     "name": "stdout",
     "output_type": "stream",
     "text": [
      "gates =  OrderedDict([('cx', 70), ('u3', 15), ('u1', 6)])\n",
      "depth =  64\n"
     ]
    }
   ],
   "source": [
    "optimized_1 = transpile(qc, backend=backend, seed_transpiler=11, optimization_level=1)\n",
    "print('gates = ', optimized_1.count_ops())\n",
    "print('depth = ', optimized_1.depth())"
   ]
  },
  {
   "cell_type": "code",
   "execution_count": 14,
   "metadata": {
    "ExecuteTime": {
     "end_time": "2019-12-10T21:48:01.649048Z",
     "start_time": "2019-12-10T21:48:00.477272Z"
    }
   },
   "outputs": [
    {
     "name": "stdout",
     "output_type": "stream",
     "text": [
      "gates =  OrderedDict([('cx', 64), ('u3', 15), ('u1', 6)])\n",
      "depth =  60\n"
     ]
    }
   ],
   "source": [
    "optimized_2 = transpile(qc, backend=backend, seed_transpiler=11, optimization_level=2)\n",
    "print('gates = ', optimized_2.count_ops())\n",
    "print('depth = ', optimized_2.depth())"
   ]
  },
  {
   "cell_type": "code",
   "execution_count": 15,
   "metadata": {
    "ExecuteTime": {
     "end_time": "2019-12-10T21:48:03.166110Z",
     "start_time": "2019-12-10T21:48:01.651535Z"
    }
   },
   "outputs": [
    {
     "name": "stdout",
     "output_type": "stream",
     "text": [
      "gates =  OrderedDict([('cx', 20), ('u3', 15), ('u1', 6)])\n",
      "depth =  38\n"
     ]
    }
   ],
   "source": [
    "optimized_3 = transpile(qc, backend=backend, seed_transpiler=11, optimization_level=3)\n",
    "print('gates = ', optimized_3.count_ops())\n",
    "print('depth = ', optimized_3.depth())"
   ]
  },
  {
   "cell_type": "markdown",
   "metadata": {},
   "source": [
    "## Introducing the DAG"
   ]
  },
  {
   "cell_type": "markdown",
   "metadata": {},
   "source": [
    "In Qiskit, we represent circuits internally using a Directed Acyclic Graph (DAG). The advantage of this representation over a pure list of gates (i.e., *netlist*) is that the flow of information between operations are explicit, making it easier for passes to make transformation decisions without changing the semantics of the circuit.\n",
    "\n",
    "Let's start by building a simple circuit, and examining its DAG."
   ]
  },
  {
   "cell_type": "code",
   "execution_count": 16,
   "metadata": {
    "ExecuteTime": {
     "end_time": "2019-12-10T21:48:03.375950Z",
     "start_time": "2019-12-10T21:48:03.169405Z"
    }
   },
   "outputs": [
    {
     "data": {
      "image/png": "[encoded data removed]",
      "text/plain": [
       "<Figure size 327.397x264.88 with 1 Axes>"
      ]
     },
     "execution_count": 16,
     "metadata": {},
     "output_type": "execute_result"
    }
   ],
   "source": [
    "from qiskit import QuantumRegister, ClassicalRegister, QuantumCircuit\n",
    "from qiskit.dagcircuit import DAGCircuit\n",
    "q = QuantumRegister(3, 'q')\n",
    "c = ClassicalRegister(3, 'c')\n",
    "circ = QuantumCircuit(q, c)\n",
    "circ.h(q[0])\n",
    "circ.cx(q[0], q[1])\n",
    "circ.measure(q[0], c[0])\n",
    "circ.rz(0.5, q[1]).c_if(c, 2)\n",
    "circ.draw(output='mpl')"
   ]
  },
  {
   "cell_type": "markdown",
   "metadata": {},
   "source": [
    "In the DAG, there are three kinds of graph nodes: qubit/clbit input nodes (green), operation nodes (blue), and output nodes (red). Each edge indicates data flow (or dependency) between two nodes. "
   ]
  },
  {
   "cell_type": "code",
   "execution_count": 17,
   "metadata": {
    "ExecuteTime": {
     "end_time": "2019-12-10T21:48:03.525267Z",
     "start_time": "2019-12-10T21:48:03.378085Z"
    },
    "scrolled": true
   },
   "outputs": [
    {
     "ename": "FileNotFoundError",
     "evalue": "[WinError 2] \"dot\" not found in path.",
     "output_type": "error",
     "traceback": [
      "\u001b[1;31m---------------------------------------------------------------------------\u001b[0m",
      "\u001b[1;31mFileNotFoundError\u001b[0m                         Traceback (most recent call last)",
      "\u001b[1;32m~\\AppData\\Local\\Programs\\Python\\Python39\\lib\\site-packages\\pydot.py\u001b[0m in \u001b[0;36mcreate\u001b[1;34m(self, prog, format, encoding)\u001b[0m\n\u001b[0;32m   1922\u001b[0m         \u001b[1;32mtry\u001b[0m\u001b[1;33m:\u001b[0m\u001b[1;33m\u001b[0m\u001b[1;33m\u001b[0m\u001b[0m\n\u001b[1;32m-> 1923\u001b[1;33m             stdout_data, stderr_data, process = call_graphviz(\n\u001b[0m\u001b[0;32m   1924\u001b[0m                 \u001b[0mprogram\u001b[0m\u001b[1;33m=\u001b[0m\u001b[0mprog\u001b[0m\u001b[1;33m,\u001b[0m\u001b[1;33m\u001b[0m\u001b[1;33m\u001b[0m\u001b[0m\n",
      "\u001b[1;32m~\\AppData\\Local\\Programs\\Python\\Python39\\lib\\site-packages\\pydot.py\u001b[0m in \u001b[0;36mcall_graphviz\u001b[1;34m(program, arguments, working_dir, **kwargs)\u001b[0m\n\u001b[0;32m    131\u001b[0m \u001b[1;33m\u001b[0m\u001b[0m\n\u001b[1;32m--> 132\u001b[1;33m     process = subprocess.Popen(\n\u001b[0m\u001b[0;32m    133\u001b[0m         \u001b[0mprogram_with_args\u001b[0m\u001b[1;33m,\u001b[0m\u001b[1;33m\u001b[0m\u001b[1;33m\u001b[0m\u001b[0m\n",
      "\u001b[1;32m~\\AppData\\Local\\Programs\\Python\\Python39\\lib\\subprocess.py\u001b[0m in \u001b[0;36m__init__\u001b[1;34m(self, args, bufsize, executable, stdin, stdout, stderr, preexec_fn, close_fds, shell, cwd, env, universal_newlines, startupinfo, creationflags, restore_signals, start_new_session, pass_fds, user, group, extra_groups, encoding, errors, text, umask)\u001b[0m\n\u001b[0;32m    950\u001b[0m \u001b[1;33m\u001b[0m\u001b[0m\n\u001b[1;32m--> 951\u001b[1;33m             self._execute_child(args, executable, preexec_fn, close_fds,\n\u001b[0m\u001b[0;32m    952\u001b[0m                                 \u001b[0mpass_fds\u001b[0m\u001b[1;33m,\u001b[0m \u001b[0mcwd\u001b[0m\u001b[1;33m,\u001b[0m \u001b[0menv\u001b[0m\u001b[1;33m,\u001b[0m\u001b[1;33m\u001b[0m\u001b[1;33m\u001b[0m\u001b[0m\n",
      "\u001b[1;32m~\\AppData\\Local\\Programs\\Python\\Python39\\lib\\subprocess.py\u001b[0m in \u001b[0;36m_execute_child\u001b[1;34m(self, args, executable, preexec_fn, close_fds, pass_fds, cwd, env, startupinfo, creationflags, shell, p2cread, p2cwrite, c2pread, c2pwrite, errread, errwrite, unused_restore_signals, unused_gid, unused_gids, unused_uid, unused_umask, unused_start_new_session)\u001b[0m\n\u001b[0;32m   1419\u001b[0m             \u001b[1;32mtry\u001b[0m\u001b[1;33m:\u001b[0m\u001b[1;33m\u001b[0m\u001b[1;33m\u001b[0m\u001b[0m\n\u001b[1;32m-> 1420\u001b[1;33m                 hp, ht, pid, tid = _winapi.CreateProcess(executable, args,\n\u001b[0m\u001b[0;32m   1421\u001b[0m                                          \u001b[1;31m# no special security\u001b[0m\u001b[1;33m\u001b[0m\u001b[1;33m\u001b[0m\u001b[0m\n",
      "\u001b[1;31mFileNotFoundError\u001b[0m: [WinError 2] The system cannot find the file specified",
      "\nDuring handling of the above exception, another exception occurred:\n",
      "\u001b[1;31mFileNotFoundError\u001b[0m                         Traceback (most recent call last)",
      "\u001b[1;32m~\\AppData\\Local\\Temp/ipykernel_12224/1903678437.py\u001b[0m in \u001b[0;36m<module>\u001b[1;34m\u001b[0m\n\u001b[0;32m      2\u001b[0m \u001b[1;32mfrom\u001b[0m \u001b[0mqiskit\u001b[0m\u001b[1;33m.\u001b[0m\u001b[0mtools\u001b[0m\u001b[1;33m.\u001b[0m\u001b[0mvisualization\u001b[0m \u001b[1;32mimport\u001b[0m \u001b[0mdag_drawer\u001b[0m\u001b[1;33m\u001b[0m\u001b[1;33m\u001b[0m\u001b[0m\n\u001b[0;32m      3\u001b[0m \u001b[0mdag\u001b[0m \u001b[1;33m=\u001b[0m \u001b[0mcircuit_to_dag\u001b[0m\u001b[1;33m(\u001b[0m\u001b[0mcirc\u001b[0m\u001b[1;33m)\u001b[0m\u001b[1;33m\u001b[0m\u001b[1;33m\u001b[0m\u001b[0m\n\u001b[1;32m----> 4\u001b[1;33m \u001b[0mdag_drawer\u001b[0m\u001b[1;33m(\u001b[0m\u001b[0mdag\u001b[0m\u001b[1;33m)\u001b[0m\u001b[1;33m\u001b[0m\u001b[1;33m\u001b[0m\u001b[0m\n\u001b[0m",
      "\u001b[1;32m~\\AppData\\Local\\Programs\\Python\\Python39\\lib\\site-packages\\qiskit\\visualization\\dag_visualization.py\u001b[0m in \u001b[0;36mdag_drawer\u001b[1;34m(dag, scale, filename, style)\u001b[0m\n\u001b[0;32m    179\u001b[0m         \u001b[1;32mwith\u001b[0m \u001b[0mtempfile\u001b[0m\u001b[1;33m.\u001b[0m\u001b[0mTemporaryDirectory\u001b[0m\u001b[1;33m(\u001b[0m\u001b[1;33m)\u001b[0m \u001b[1;32mas\u001b[0m \u001b[0mtmpdirname\u001b[0m\u001b[1;33m:\u001b[0m\u001b[1;33m\u001b[0m\u001b[1;33m\u001b[0m\u001b[0m\n\u001b[0;32m    180\u001b[0m             \u001b[0mtmp_path\u001b[0m \u001b[1;33m=\u001b[0m \u001b[0mos\u001b[0m\u001b[1;33m.\u001b[0m\u001b[0mpath\u001b[0m\u001b[1;33m.\u001b[0m\u001b[0mjoin\u001b[0m\u001b[1;33m(\u001b[0m\u001b[0mtmpdirname\u001b[0m\u001b[1;33m,\u001b[0m \u001b[1;34m\"dag.png\"\u001b[0m\u001b[1;33m)\u001b[0m\u001b[1;33m\u001b[0m\u001b[1;33m\u001b[0m\u001b[0m\n\u001b[1;32m--> 181\u001b[1;33m             \u001b[0mdot\u001b[0m\u001b[1;33m.\u001b[0m\u001b[0mwrite_png\u001b[0m\u001b[1;33m(\u001b[0m\u001b[0mtmp_path\u001b[0m\u001b[1;33m)\u001b[0m\u001b[1;33m\u001b[0m\u001b[1;33m\u001b[0m\u001b[0m\n\u001b[0m\u001b[0;32m    182\u001b[0m             \u001b[1;32mwith\u001b[0m \u001b[0mImage\u001b[0m\u001b[1;33m.\u001b[0m\u001b[0mopen\u001b[0m\u001b[1;33m(\u001b[0m\u001b[0mtmp_path\u001b[0m\u001b[1;33m)\u001b[0m \u001b[1;32mas\u001b[0m \u001b[0mtest_image\u001b[0m\u001b[1;33m:\u001b[0m\u001b[1;33m\u001b[0m\u001b[1;33m\u001b[0m\u001b[0m\n\u001b[0;32m    183\u001b[0m                 \u001b[0mimage\u001b[0m \u001b[1;33m=\u001b[0m \u001b[0mtest_image\u001b[0m\u001b[1;33m.\u001b[0m\u001b[0mcopy\u001b[0m\u001b[1;33m(\u001b[0m\u001b[1;33m)\u001b[0m\u001b[1;33m\u001b[0m\u001b[1;33m\u001b[0m\u001b[0m\n",
      "\u001b[1;32m~\\AppData\\Local\\Programs\\Python\\Python39\\lib\\site-packages\\pydot.py\u001b[0m in \u001b[0;36mnew_method\u001b[1;34m(path, f, prog, encoding)\u001b[0m\n\u001b[0;32m   1741\u001b[0m                     encoding=None):\n\u001b[0;32m   1742\u001b[0m                 \u001b[1;34m\"\"\"Refer to docstring of method `write.`\"\"\"\u001b[0m\u001b[1;33m\u001b[0m\u001b[1;33m\u001b[0m\u001b[0m\n\u001b[1;32m-> 1743\u001b[1;33m                 self.write(\n\u001b[0m\u001b[0;32m   1744\u001b[0m                     \u001b[0mpath\u001b[0m\u001b[1;33m,\u001b[0m \u001b[0mformat\u001b[0m\u001b[1;33m=\u001b[0m\u001b[0mf\u001b[0m\u001b[1;33m,\u001b[0m \u001b[0mprog\u001b[0m\u001b[1;33m=\u001b[0m\u001b[0mprog\u001b[0m\u001b[1;33m,\u001b[0m\u001b[1;33m\u001b[0m\u001b[1;33m\u001b[0m\u001b[0m\n\u001b[0;32m   1745\u001b[0m                     encoding=encoding)\n",
      "\u001b[1;32m~\\AppData\\Local\\Programs\\Python\\Python39\\lib\\site-packages\\pydot.py\u001b[0m in \u001b[0;36mwrite\u001b[1;34m(self, path, prog, format, encoding)\u001b[0m\n\u001b[0;32m   1826\u001b[0m                 \u001b[0mf\u001b[0m\u001b[1;33m.\u001b[0m\u001b[0mwrite\u001b[0m\u001b[1;33m(\u001b[0m\u001b[0ms\u001b[0m\u001b[1;33m)\u001b[0m\u001b[1;33m\u001b[0m\u001b[1;33m\u001b[0m\u001b[0m\n\u001b[0;32m   1827\u001b[0m         \u001b[1;32melse\u001b[0m\u001b[1;33m:\u001b[0m\u001b[1;33m\u001b[0m\u001b[1;33m\u001b[0m\u001b[0m\n\u001b[1;32m-> 1828\u001b[1;33m             \u001b[0ms\u001b[0m \u001b[1;33m=\u001b[0m \u001b[0mself\u001b[0m\u001b[1;33m.\u001b[0m\u001b[0mcreate\u001b[0m\u001b[1;33m(\u001b[0m\u001b[0mprog\u001b[0m\u001b[1;33m,\u001b[0m \u001b[0mformat\u001b[0m\u001b[1;33m,\u001b[0m \u001b[0mencoding\u001b[0m\u001b[1;33m=\u001b[0m\u001b[0mencoding\u001b[0m\u001b[1;33m)\u001b[0m\u001b[1;33m\u001b[0m\u001b[1;33m\u001b[0m\u001b[0m\n\u001b[0m\u001b[0;32m   1829\u001b[0m             \u001b[1;32mwith\u001b[0m \u001b[0mio\u001b[0m\u001b[1;33m.\u001b[0m\u001b[0mopen\u001b[0m\u001b[1;33m(\u001b[0m\u001b[0mpath\u001b[0m\u001b[1;33m,\u001b[0m \u001b[0mmode\u001b[0m\u001b[1;33m=\u001b[0m\u001b[1;34m'wb'\u001b[0m\u001b[1;33m)\u001b[0m \u001b[1;32mas\u001b[0m \u001b[0mf\u001b[0m\u001b[1;33m:\u001b[0m\u001b[1;33m\u001b[0m\u001b[1;33m\u001b[0m\u001b[0m\n\u001b[0;32m   1830\u001b[0m                 \u001b[0mf\u001b[0m\u001b[1;33m.\u001b[0m\u001b[0mwrite\u001b[0m\u001b[1;33m(\u001b[0m\u001b[0ms\u001b[0m\u001b[1;33m)\u001b[0m\u001b[1;33m\u001b[0m\u001b[1;33m\u001b[0m\u001b[0m\n",
      "\u001b[1;32m~\\AppData\\Local\\Programs\\Python\\Python39\\lib\\site-packages\\pydot.py\u001b[0m in \u001b[0;36mcreate\u001b[1;34m(self, prog, format, encoding)\u001b[0m\n\u001b[0;32m   1931\u001b[0m                 args[1] = '\"{prog}\" not found in path.'.format(\n\u001b[0;32m   1932\u001b[0m                     prog=prog)\n\u001b[1;32m-> 1933\u001b[1;33m                 \u001b[1;32mraise\u001b[0m \u001b[0mOSError\u001b[0m\u001b[1;33m(\u001b[0m\u001b[1;33m*\u001b[0m\u001b[0margs\u001b[0m\u001b[1;33m)\u001b[0m\u001b[1;33m\u001b[0m\u001b[1;33m\u001b[0m\u001b[0m\n\u001b[0m\u001b[0;32m   1934\u001b[0m             \u001b[1;32melse\u001b[0m\u001b[1;33m:\u001b[0m\u001b[1;33m\u001b[0m\u001b[1;33m\u001b[0m\u001b[0m\n\u001b[0;32m   1935\u001b[0m                 \u001b[1;32mraise\u001b[0m\u001b[1;33m\u001b[0m\u001b[1;33m\u001b[0m\u001b[0m\n",
      "\u001b[1;31mFileNotFoundError\u001b[0m: [WinError 2] \"dot\" not found in path."
     ]
    }
   ],
   "source": [
    "from qiskit.converters import circuit_to_dag\n",
    "from qiskit.tools.visualization import dag_drawer\n",
    "dag = circuit_to_dag(circ)\n",
    "dag_drawer(dag)"
   ]
  },
  {
   "cell_type": "markdown",
   "metadata": {},
   "source": [
    "Therefore, writing a transpiler pass means using Qiskit's DAGCircuit API to analyze or transform the circuit. Let's see some examples of this."
   ]
  },
  {
   "cell_type": "markdown",
   "metadata": {},
   "source": [
    "**a. Get all op nodes in the DAG:**"
   ]
  },
  {
   "cell_type": "code",
   "execution_count": null,
   "metadata": {
    "ExecuteTime": {
     "end_time": "2019-12-10T21:48:03.532050Z",
     "start_time": "2019-12-10T21:48:03.527373Z"
    }
   },
   "outputs": [],
   "source": [
    "dag.op_nodes()"
   ]
  },
  {
   "cell_type": "markdown",
   "metadata": {},
   "source": [
    "Each node is an instance of the ``DAGNode`` class. Let's examine the information stored in the second op node."
   ]
  },
  {
   "cell_type": "code",
   "execution_count": null,
   "metadata": {
    "ExecuteTime": {
     "end_time": "2019-12-10T21:48:03.540054Z",
     "start_time": "2019-12-10T21:48:03.534378Z"
    }
   },
   "outputs": [],
   "source": [
    "node = dag.op_nodes()[3]\n",
    "print(\"node name: \", node.name)\n",
    "print(\"node op: \", node.op)\n",
    "print(\"node qargs: \", node.qargs)\n",
    "print(\"node cargs: \", node.cargs)\n",
    "print(\"node condition: \", node.condition)"
   ]
  },
  {
   "cell_type": "markdown",
   "metadata": {},
   "source": [
    "**b. Add an operation to the back:**"
   ]
  },
  {
   "cell_type": "code",
   "execution_count": null,
   "metadata": {
    "ExecuteTime": {
     "end_time": "2019-12-10T21:48:03.660392Z",
     "start_time": "2019-12-10T21:48:03.542892Z"
    },
    "tags": [
     "nbsphinx-thumbnail"
    ]
   },
   "outputs": [],
   "source": [
    "from qiskit.circuit.library import HGate\n",
    "dag.apply_operation_back(HGate(), qargs=[q[0]])\n",
    "dag_drawer(dag)"
   ]
  },
  {
   "cell_type": "markdown",
   "metadata": {},
   "source": [
    "**c. Add an operation to the front:**"
   ]
  },
  {
   "cell_type": "code",
   "execution_count": null,
   "metadata": {
    "ExecuteTime": {
     "end_time": "2019-12-10T21:48:03.773434Z",
     "start_time": "2019-12-10T21:48:03.662725Z"
    }
   },
   "outputs": [],
   "source": [
    "from qiskit.circuit.library import CCXGate\n",
    "dag.apply_operation_front(CCXGate(), qargs=[q[0], q[1], q[2]], cargs=[])\n",
    "dag_drawer(dag)"
   ]
  },
  {
   "cell_type": "markdown",
   "metadata": {},
   "source": [
    "**d. Substitute a node with a subcircuit:**"
   ]
  },
  {
   "cell_type": "code",
   "execution_count": null,
   "metadata": {
    "ExecuteTime": {
     "end_time": "2019-12-10T21:48:03.905653Z",
     "start_time": "2019-12-10T21:48:03.776373Z"
    }
   },
   "outputs": [],
   "source": [
    "from qiskit.circuit.library import CHGate, U2Gate, CXGate\n",
    "mini_dag = DAGCircuit()\n",
    "p = QuantumRegister(2, \"p\")\n",
    "mini_dag.add_qreg(p)\n",
    "mini_dag.apply_operation_back(CHGate(), qargs=[p[1], p[0]])\n",
    "mini_dag.apply_operation_back(U2Gate(0.1, 0.2), qargs=[p[1]])\n",
    "\n",
    "# substitute the cx node with the above mini-dag\n",
    "cx_node = dag.op_nodes(op=CXGate).pop()\n",
    "dag.substitute_node_with_dag(node=cx_node, input_dag=mini_dag, wires=[p[0], p[1]])\n",
    "dag_drawer(dag)"
   ]
  },
  {
   "cell_type": "markdown",
   "metadata": {},
   "source": [
    "Finally, after all transformations are complete, we can convert back to a regular QuantumCircuit object.\n",
    "This is what the transpiler does! It takes a circuit, operates on it in DAG form, and outputs a transformed circuit."
   ]
  },
  {
   "cell_type": "code",
   "execution_count": null,
   "metadata": {
    "ExecuteTime": {
     "end_time": "2019-12-10T21:48:04.154317Z",
     "start_time": "2019-12-10T21:48:03.916725Z"
    }
   },
   "outputs": [],
   "source": [
    "from qiskit.converters import dag_to_circuit\n",
    "circuit = dag_to_circuit(dag)\n",
    "circuit.draw(output='mpl')"
   ]
  },
  {
   "cell_type": "markdown",
   "metadata": {},
   "source": [
    "## Implementing a BasicMapper Pass"
   ]
  },
  {
   "cell_type": "markdown",
   "metadata": {},
   "source": [
    "Now that we are familiar with the DAG, let's use it to write a transpiler pass. Here we will implement a basic pass for mapping an arbitrary circuit to a device with limited qubit connectivity. We call this the BasicMapper. This pass is included in Qiskit Terra as well.\n",
    "\n",
    "The first thing to do when writing a transpiler pass is to decide whether the pass class derives from a ``TransformationPass`` or ``AnalysisPass``. Transformation passes modify the circuit, while analysis passes only collect information about a circuit (to be used by other passes). Then, the ``run(dag)`` method is implemented, which does the main task. Finally, the pass is registered inside the ``qiskit.transpiler.passes`` module.\n",
    "\n",
    "This pass functions as follows: it traverses the DAG layer-by-layer (each layer is a group of operations that does not act on independent qubits, so in theory all operations in a layer can be done independently). For each operation, if it does not already meet the coupling map constraints, the pass identifies a swap path and inserts swaps to bring the two qubits close to each other.\n",
    "\n",
    "Follow the comments in the code for more details."
   ]
  },
  {
   "cell_type": "code",
   "execution_count": null,
   "metadata": {
    "ExecuteTime": {
     "end_time": "2019-12-10T21:48:04.178919Z",
     "start_time": "2019-12-10T21:48:04.159510Z"
    }
   },
   "outputs": [],
   "source": [
    "from copy import copy\n",
    "\n",
    "from qiskit.transpiler.basepasses import TransformationPass\n",
    "from qiskit.transpiler import Layout\n",
    "from qiskit.circuit.library import SwapGate\n",
    "\n",
    "\n",
    "class BasicSwap(TransformationPass):\n",
    "    \"\"\"Maps (with minimum effort) a DAGCircuit onto a `coupling_map` adding swap gates.\"\"\"\n",
    "\n",
    "    def __init__(self,\n",
    "                 coupling_map,\n",
    "                 initial_layout=None):\n",
    "        \"\"\"Maps a DAGCircuit onto a `coupling_map` using swap gates.\n",
    "        \n",
    "        Args:\n",
    "            coupling_map (CouplingMap): Directed graph represented a coupling map.\n",
    "            initial_layout (Layout): initial layout of qubits in mapping\n",
    "        \"\"\"\n",
    "        super().__init__()\n",
    "        self.coupling_map = coupling_map\n",
    "        self.initial_layout = initial_layout\n",
    "\n",
    "    def run(self, dag):\n",
    "        \"\"\"Runs the BasicSwap pass on `dag`.\n",
    "        \n",
    "        Args:\n",
    "            dag (DAGCircuit): DAG to map.\n",
    "\n",
    "        Returns:\n",
    "            DAGCircuit: A mapped DAG.\n",
    "\n",
    "        Raises:\n",
    "            TranspilerError: if the coupling map or the layout are not\n",
    "            compatible with the DAG.\n",
    "        \"\"\"\n",
    "        new_dag = DAGCircuit()\n",
    "        for qreg in dag.qregs.values():\n",
    "            new_dag.add_qreg(qreg)\n",
    "        for creg in dag.cregs.values():\n",
    "            new_dag.add_creg(creg)\n",
    "        \n",
    "\n",
    "        if self.initial_layout is None:\n",
    "            if self.property_set[\"layout\"]:\n",
    "                self.initial_layout = self.property_set[\"layout\"]\n",
    "            else:\n",
    "                self.initial_layout = Layout.generate_trivial_layout(*dag.qregs.values())\n",
    "\n",
    "        if len(dag.qubits) != len(self.initial_layout):\n",
    "            raise TranspilerError('The layout does not match the amount of qubits in the DAG')\n",
    "\n",
    "        if len(self.coupling_map.physical_qubits) != len(self.initial_layout):\n",
    "            raise TranspilerError(\n",
    "                \"Mappers require to have the layout to be the same size as the coupling map\")\n",
    "            \n",
    "        canonical_register = dag.qregs['q']\n",
    "        trivial_layout = Layout.generate_trivial_layout(canonical_register)\n",
    "        current_layout = trivial_layout.copy()\n",
    "\n",
    "        for layer in dag.serial_layers():\n",
    "            subdag = layer['graph']\n",
    "\n",
    "            for gate in subdag.two_qubit_ops():\n",
    "                physical_q0 = current_layout[gate.qargs[0]]\n",
    "                physical_q1 = current_layout[gate.qargs[1]]\n",
    "                if self.coupling_map.distance(physical_q0, physical_q1) != 1:\n",
    "                    # Insert a new layer with the SWAP(s).\n",
    "                    swap_layer = DAGCircuit()\n",
    "                    swap_layer.add_qreg(canonical_register)\n",
    "\n",
    "                    path = self.coupling_map.shortest_undirected_path(physical_q0, physical_q1)\n",
    "                    for swap in range(len(path) - 2):\n",
    "                        connected_wire_1 = path[swap]\n",
    "                        connected_wire_2 = path[swap + 1]\n",
    "\n",
    "                        qubit_1 = current_layout[connected_wire_1]\n",
    "                        qubit_2 = current_layout[connected_wire_2]\n",
    "\n",
    "                        # create the swap operation\n",
    "                        swap_layer.apply_operation_back(SwapGate(),\n",
    "                                                        qargs=[qubit_1, qubit_2],\n",
    "                                                        cargs=[])\n",
    "\n",
    "                    # layer insertion\n",
    "                    order = current_layout.reorder_bits(new_dag.qubits)\n",
    "                    new_dag.compose(swap_layer, qubits=order)\n",
    "\n",
    "                    # update current_layout\n",
    "                    for swap in range(len(path) - 2):\n",
    "                        current_layout.swap(path[swap], path[swap + 1])\n",
    "\n",
    "            order = current_layout.reorder_bits(new_dag.qubits)\n",
    "            new_dag.compose(subdag, qubits=order)\n",
    "\n",
    "        return new_dag"
   ]
  },
  {
   "cell_type": "markdown",
   "metadata": {},
   "source": [
    "Let's test this pass on a small example circuit."
   ]
  },
  {
   "cell_type": "code",
   "execution_count": null,
   "metadata": {
    "ExecuteTime": {
     "end_time": "2019-12-10T21:48:04.189596Z",
     "start_time": "2019-12-10T21:48:04.181850Z"
    }
   },
   "outputs": [],
   "source": [
    "q = QuantumRegister(7, 'q')\n",
    "in_circ = QuantumCircuit(q)\n",
    "in_circ.h(q[0])\n",
    "in_circ.cx(q[0], q[4])\n",
    "in_circ.cx(q[2], q[3])\n",
    "in_circ.cx(q[6], q[1])\n",
    "in_circ.cx(q[5], q[0])\n",
    "in_circ.rz(0.1, q[2])\n",
    "in_circ.cx(q[5], q[0])"
   ]
  },
  {
   "cell_type": "markdown",
   "metadata": {},
   "source": [
    "Now we construct a pass manager that contains our new pass. We pass the example circuit above to this pass manager, and obtain a new, transformed circuit."
   ]
  },
  {
   "cell_type": "code",
   "execution_count": null,
   "metadata": {
    "ExecuteTime": {
     "end_time": "2019-12-10T21:48:04.207681Z",
     "start_time": "2019-12-10T21:48:04.191604Z"
    }
   },
   "outputs": [],
   "source": [
    "from qiskit.transpiler import PassManager\n",
    "from qiskit.transpiler import CouplingMap\n",
    "from qiskit import BasicAer\n",
    "pm = PassManager()\n",
    "coupling = [[0, 1], [1, 2], [2, 3], [3, 4], [4, 5], [5, 6]]\n",
    "coupling_map = CouplingMap(couplinglist=coupling)\n",
    "\n",
    "pm.append([BasicSwap(coupling_map)])\n",
    "\n",
    "out_circ = pm.run(in_circ)"
   ]
  },
  {
   "cell_type": "code",
   "execution_count": null,
   "metadata": {
    "ExecuteTime": {
     "end_time": "2019-12-10T21:48:04.457320Z",
     "start_time": "2019-12-10T21:48:04.210267Z"
    }
   },
   "outputs": [],
   "source": [
    "in_circ.draw(output='mpl')"
   ]
  },
  {
   "cell_type": "code",
   "execution_count": null,
   "metadata": {
    "ExecuteTime": {
     "end_time": "2019-12-10T21:48:04.807143Z",
     "start_time": "2019-12-10T21:48:04.459740Z"
    }
   },
   "outputs": [],
   "source": [
    "out_circ.draw(output='mpl')"
   ]
  },
  {
   "cell_type": "markdown",
   "metadata": {},
   "source": [
    "Note that this pass only inserts the swaps necessary to make every two-qubit interaction conform to the device coupling map. It does not, for example, care about the direction of interactions, or the native gate set supported by the device. This is a design philosophy of Qiskit's transpiler: every pass performs a small, well-defined action, and the aggressive circuit optimization is achieved by the pass manager through combining multiple passes."
   ]
  },
  {
   "cell_type": "markdown",
   "metadata": {},
   "source": [
    "## Transpiler Logging <a name='logging'></a>\n",
    "\n",
    "Due to the complexity of the internal operations that the transpiler is performing it's likely that you'll end up in a situation where you'd like to debug an issue or just understand more of what is happening inside the transpiler when you call it. To facilitate this the transpiler emits log messages as part of its normal operation. This logging uses the Python standard library `logging` module to emit the log messages. Python's standard logging was used because it allows Qiskit-Terra's logging to integrate in a standard way with other applications and libraries.\n",
    "\n",
    "For a more thorough introduction to Python logging refer to the [official documentation](https://docs.python.org/3/library/logging.html) and the tutorials and cookbook linked off of there."
   ]
  },
  {
   "cell_type": "markdown",
   "metadata": {},
   "source": [
    "<div class=\"alert alert-block alert-success\">\n",
    "    <b>Note:</b> Most of the <code>logging</code> module functions used in this section adjust global settings. If you run commands in this section it might effect the output from other cells if they are run in a different order.\n",
    "</div>"
   ]
  },
  {
   "cell_type": "markdown",
   "metadata": {},
   "source": [
    "### Configuring Python Standard Library Logging\n",
    "\n",
    "By default Python Standard Logging only prints log messages at the `WARNING`, `ERROR`, or `CRITICAL` log levels.\n",
    "Since none of the logs emitted by the transpiler use these log levels (they're all informative) you need to configure logging.\n",
    "\n",
    "The simplest way to do this is to just run:"
   ]
  },
  {
   "cell_type": "code",
   "execution_count": null,
   "metadata": {
    "ExecuteTime": {
     "end_time": "2019-12-10T21:48:04.813322Z",
     "start_time": "2019-12-10T21:48:04.809390Z"
    }
   },
   "outputs": [],
   "source": [
    "import logging\n",
    "\n",
    "logging.basicConfig(level='DEBUG')"
   ]
  },
  {
   "cell_type": "markdown",
   "metadata": {},
   "source": [
    "The `basicConfig()` function (see the docs here: https://docs.python.org/3/library/logging.html#logging.basicConfig) configures a root handler and formatter. We also specify the [log level](https://docs.python.org/3/library/logging.html#levels) to display with the `level` kwarg. Setting it to a level will also include and higher levels. For example, if you set it to `'INFO'` in addition to the `INFO` level this will also include the `WARNING`, `ERROR`, and `CRITICAL` log levels.\n",
    "\n",
    "Now the python environment in this notebook is configured to emit log messages to stderr when you run the transpiler. For example:"
   ]
  },
  {
   "cell_type": "markdown",
   "metadata": {},
   "source": [
    "<div class=\"alert alert-block alert-success\">\n",
    "    <b>Note:</b> <code>basicConfig()</code> will only work when called the first time it's called. It detects if a root handler and formatter have already been setup (either by using an earlier <code>basicConfig()</code> call or otherwise) and does nothing if they have. Further adjustments will have to by interacting with the handler directly.\n",
    "</div>"
   ]
  },
  {
   "cell_type": "code",
   "execution_count": null,
   "metadata": {
    "ExecuteTime": {
     "end_time": "2019-12-10T21:48:04.870900Z",
     "start_time": "2019-12-10T21:48:04.815673Z"
    }
   },
   "outputs": [],
   "source": [
    "from qiskit.test.mock import FakeTenerife\n",
    "\n",
    "\n",
    "log_circ = QuantumCircuit(2, 2)\n",
    "log_circ.h(0)\n",
    "log_circ.h(1)\n",
    "log_circ.h(1)\n",
    "log_circ.x(1)\n",
    "log_circ.cx(0, 1)\n",
    "log_circ.measure([0,1], [0,1])\n",
    "\n",
    "backend = FakeTenerife()\n",
    "\n",
    "transpile(log_circ, backend);"
   ]
  },
  {
   "cell_type": "markdown",
   "metadata": {},
   "source": [
    "As you can clearly see here when calling `transpile()` it now prints 2 types of log messages. The first is at the `INFO` log level and come from the pass manager. These indicate each pass that was executed and how long that took. The second are at the `DEBUG` level and come from the StochasticSwap pass and describes the internal operation of that pass. It's useful for debugging issues in the pass's operation."
   ]
  },
  {
   "cell_type": "markdown",
   "metadata": {},
   "source": [
    "### Adjusting the log level for the transpiler\n",
    "\n",
    "The qiskit transpiler uses a single namespace ``qiskit.transpiler``, as used by ``logging.getLogger('qiskit.transpiler')``. This makes it very easy to adjust the log level for just the transpiler. For example if you only wish to see log messages at the INFO level or above you can run:"
   ]
  },
  {
   "cell_type": "code",
   "execution_count": null,
   "metadata": {
    "ExecuteTime": {
     "end_time": "2019-12-10T21:48:04.917836Z",
     "start_time": "2019-12-10T21:48:04.872823Z"
    }
   },
   "outputs": [],
   "source": [
    "logging.getLogger('qiskit.transpiler').setLevel('INFO')\n",
    "transpile(log_circ, backend);"
   ]
  },
  {
   "cell_type": "markdown",
   "metadata": {},
   "source": [
    "### Setting up logging to deal with parallel execution\n",
    "\n",
    "When running the transpiler with multiple circuits by default these circuits are transpiled in parallel. If you want to do this with logging enabled and be able to understand the output some additional steps are required.\n",
    "\n",
    "If you were just to enable logging as above and then pass `transpile()` multiple circuits you'll get results that are difficult to decipher. For example:"
   ]
  },
  {
   "cell_type": "code",
   "execution_count": null,
   "metadata": {
    "ExecuteTime": {
     "end_time": "2019-12-10T21:48:05.069815Z",
     "start_time": "2019-12-10T21:48:04.920183Z"
    },
    "scrolled": false
   },
   "outputs": [],
   "source": [
    "# Change log level back to DEBUG\n",
    "logging.getLogger('qiskit.transpiler').setLevel('DEBUG')\n",
    "# Transpile multiple circuits\n",
    "circuits = [log_circ, log_circ]\n",
    "transpile(circuits, backend);"
   ]
  },
  {
   "cell_type": "markdown",
   "metadata": {},
   "source": [
    "As you can see here we get log messages from all 3 circuits being transpiled together. There is no way to know which pass is part of which circuit's transpilation.  Luckily Python logging provides tools to deal with this. The simplest one is to just change the [log formatter](https://docs.python.org/3/library/logging.html#logging.Formatter) so that includes additional information so we can associate a log message with the process it came from."
   ]
  },
  {
   "cell_type": "code",
   "execution_count": null,
   "metadata": {
    "ExecuteTime": {
     "end_time": "2019-12-10T21:48:05.077804Z",
     "start_time": "2019-12-10T21:48:05.073526Z"
    }
   },
   "outputs": [],
   "source": [
    "formatter = logging.Formatter('%(name)s - %(processName)-10s - %(levelname)s: %(message)s')\n",
    "handler = logging.getLogger().handlers[0]\n",
    "handler.setFormatter(formatter)"
   ]
  },
  {
   "cell_type": "markdown",
   "metadata": {},
   "source": [
    "Then rerun the `transpile()` call and see the new log formatter."
   ]
  },
  {
   "cell_type": "code",
   "execution_count": null,
   "metadata": {
    "ExecuteTime": {
     "end_time": "2019-12-10T21:48:05.205597Z",
     "start_time": "2019-12-10T21:48:05.081153Z"
    },
    "scrolled": false
   },
   "outputs": [],
   "source": [
    "transpile(circuits, backend);"
   ]
  },
  {
   "cell_type": "markdown",
   "metadata": {},
   "source": [
    "Now the format for the log messages has been changed and it includes a process name for each of the transpilation processes so it's at least clear which log messages go together.\n",
    "\n",
    "There are many different options for how you can configure, this example is pretty limited. Refer to the documentation for more examples and options to build more sophisticated use cases that suit your specific use case or preferences."
   ]
  },
  {
   "cell_type": "code",
   "execution_count": null,
   "metadata": {
    "ExecuteTime": {
     "end_time": "2019-12-10T21:48:10.920429Z",
     "start_time": "2019-12-10T21:48:10.912305Z"
    },
    "scrolled": false
   },
   "outputs": [],
   "source": [
    "import qiskit.tools.jupyter\n",
    "%qiskit_version_table\n",
    "%qiskit_copyright"
   ]
  },
  {
   "cell_type": "code",
   "execution_count": null,
   "metadata": {},
   "outputs": [],
   "source": []
  }
 ],
 "metadata": {
  "celltoolbar": "Tags",
  "kernelspec": {
   "display_name": "Python 3 (ipykernel)",
   "language": "python",
   "name": "python3"
  },
  "language_info": {
   "codemirror_mode": {
    "name": "ipython",
    "version": 3
   },
   "file_extension": ".py",
   "mimetype": "text/x-python",
   "name": "python",
   "nbconvert_exporter": "python",
   "pygments_lexer": "ipython3",
   "version": "3.9.7"
  },
  "varInspector": {
   "cols": {
    "lenName": 16,
    "lenType": 16,
    "lenVar": 40
   },
   "kernels_config": {
    "python": {
     "delete_cmd_postfix": "",
     "delete_cmd_prefix": "del ",
     "library": "var_list.py",
     "varRefreshCmd": "print(var_dic_list())"
    },
    "r": {
     "delete_cmd_postfix": ") ",
     "delete_cmd_prefix": "rm(",
     "library": "var_list.r",
     "varRefreshCmd": "cat(var_dic_list()) "
    }
   },
   "types_to_exclude": [
    "module",
    "function",
    "builtin_function_or_method",
    "instance",
    "_Feature"
   ],
   "window_display": false
  }
 },
 "nbformat": 4,
 "nbformat_minor": 2
}
