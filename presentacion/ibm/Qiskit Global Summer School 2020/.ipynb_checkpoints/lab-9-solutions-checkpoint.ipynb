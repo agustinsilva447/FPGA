{
 "cells": [
  {
   "cell_type": "markdown",
   "metadata": {},
   "source": [
    "![image](resources/qcqh-lab-header.png)"
   ]
  },
  {
   "cell_type": "markdown",
   "metadata": {},
   "source": [
    "# Lab 9: Hardware-efficient trial states for variational quantum eigensolvers"
   ]
  },
  {
   "cell_type": "markdown",
   "metadata": {},
   "source": [
    "In this lab, we want to find the ground state energy of the following two-qubit Hamiltonian representing molecular $H_2$ at its equilibrium distance. Note that we have already mapped the fermionic operators onto qubits here.\n",
    "\n",
    "```\n",
    "h2_hamiltonian = (-1.0523732)  II + \n",
    "                 (0.39793742)  IZ + \n",
    "                 (-0.3979374)  ZI + \n",
    "                 (-0.0112801)  ZZ + \n",
    "                 (0.18093119)  XX\n",
    "```\n",
    "                \n",
    "Note that these co-efficients are functions of the interatomic distance between the atoms. A term like `IZ` is shorthand notation for a tensor product of two-qubit operators -- the identity operator ($I$) on one qubit and pauli-Z operator ($Z$) on the other qubit."
   ]
  },
  {
   "cell_type": "markdown",
   "metadata": {},
   "source": [
    "### Installing necessary packages\n",
    "\n",
    "Before we begin, you will need to install some prerequisites into your environment. Run the cell below to complete these installations. At the end, the cell outputs will be cleared."
   ]
  },
  {
   "cell_type": "code",
   "execution_count": 1,
   "metadata": {},
   "outputs": [],
   "source": [
    "#!pip install -U -r resources/requirements.txt\n",
    "\n",
    "from IPython.display import clear_output\n",
    "clear_output()"
   ]
  },
  {
   "cell_type": "markdown",
   "metadata": {},
   "source": [
    "# Hardware efficient trial states"
   ]
  },
  {
   "cell_type": "markdown",
   "metadata": {},
   "source": [
    "We need to prepare a guess for the ground state of this Hamiltonian. For this exercise, we will construct a hardware efficient trial state of depth `d=2`, with CNOT (`CX`) gates for the entanglers. We will interleave each entangling layer with a set of $R_yR_z$ gates on each qubit (total 4 layers). For the first guess, we will use rotation angles of $\\pi/2$ on all the $R_y$ and $R_z$ gates."
   ]
  },
  {
   "cell_type": "code",
   "execution_count": 2,
   "metadata": {},
   "outputs": [],
   "source": [
    "import numpy as np\n",
    "pi = np.pi\n",
    "from qiskit import QuantumCircuit, Aer, execute\n",
    "from qiskit.visualization import plot_histogram"
   ]
  },
  {
   "cell_type": "code",
   "execution_count": 3,
   "metadata": {},
   "outputs": [],
   "source": [
    "def prepare_hets_circuit(depth, angle1, angle2):\n",
    "\n",
    "    hets_circ = QuantumCircuit(depth)\n",
    "    hets_circ.ry(angle1, 0)\n",
    "    hets_circ.rz(angle1, 0)\n",
    "    hets_circ.ry(angle1, 1)\n",
    "    hets_circ.rz(angle1, 1)\n",
    "\n",
    "    for ii in range(depth):\n",
    "        hets_circ.cx(0,1)\n",
    "        hets_circ.ry(angle2,0)\n",
    "        hets_circ.rz(angle2,0)\n",
    "        hets_circ.ry(angle2,1)\n",
    "        hets_circ.rz(angle2,1)\n",
    "    \n",
    "    return hets_circ "
   ]
  },
  {
   "cell_type": "code",
   "execution_count": 4,
   "metadata": {},
   "outputs": [
    {
     "data": {
      "text/html": [
       "<pre style=\"word-wrap: normal;white-space: pre;background: #fff0;line-height: 1.1;font-family: &quot;Courier New&quot;,Courier,monospace\">     ┌─────────┐┌─────────┐     ┌─────────┐┌─────────┐     ┌─────────┐»\n",
       "q_0: ┤ Ry(π/2) ├┤ Rz(π/2) ├──■──┤ Ry(π/2) ├┤ Rz(π/2) ├──■──┤ Ry(π/2) ├»\n",
       "     ├─────────┤├─────────┤┌─┴─┐├─────────┤├─────────┤┌─┴─┐├─────────┤»\n",
       "q_1: ┤ Ry(π/2) ├┤ Rz(π/2) ├┤ X ├┤ Ry(π/2) ├┤ Rz(π/2) ├┤ X ├┤ Ry(π/2) ├»\n",
       "     └─────────┘└─────────┘└───┘└─────────┘└─────────┘└───┘└─────────┘»\n",
       "«     ┌─────────┐\n",
       "«q_0: ┤ Rz(π/2) ├\n",
       "«     ├─────────┤\n",
       "«q_1: ┤ Rz(π/2) ├\n",
       "«     └─────────┘</pre>"
      ],
      "text/plain": [
       "     ┌─────────┐┌─────────┐     ┌─────────┐┌─────────┐     ┌─────────┐»\n",
       "q_0: ┤ Ry(π/2) ├┤ Rz(π/2) ├──■──┤ Ry(π/2) ├┤ Rz(π/2) ├──■──┤ Ry(π/2) ├»\n",
       "     ├─────────┤├─────────┤┌─┴─┐├─────────┤├─────────┤┌─┴─┐├─────────┤»\n",
       "q_1: ┤ Ry(π/2) ├┤ Rz(π/2) ├┤ X ├┤ Ry(π/2) ├┤ Rz(π/2) ├┤ X ├┤ Ry(π/2) ├»\n",
       "     └─────────┘└─────────┘└───┘└─────────┘└─────────┘└───┘└─────────┘»\n",
       "«     ┌─────────┐\n",
       "«q_0: ┤ Rz(π/2) ├\n",
       "«     ├─────────┤\n",
       "«q_1: ┤ Rz(π/2) ├\n",
       "«     └─────────┘"
      ]
     },
     "execution_count": 4,
     "metadata": {},
     "output_type": "execute_result"
    }
   ],
   "source": [
    "hets_circuit = prepare_hets_circuit(2, pi/2, pi/2)\n",
    "hets_circuit.draw()"
   ]
  },
  {
   "cell_type": "markdown",
   "metadata": {},
   "source": [
    "# Measuring expectation values"
   ]
  },
  {
   "cell_type": "markdown",
   "metadata": {},
   "source": [
    "Next, we measure expectation values. **We will begin by measuring the ZZ expectation value, or $\\langle ZZ \\rangle$**. We will first create a copy of the `hets_circ` quantum circuit that we created above, and add measurements to it."
   ]
  },
  {
   "cell_type": "code",
   "execution_count": 5,
   "metadata": {},
   "outputs": [
    {
     "data": {
      "text/html": [
       "<pre style=\"word-wrap: normal;white-space: pre;background: #fff0;line-height: 1.1;font-family: &quot;Courier New&quot;,Courier,monospace\">        ┌─────────┐┌─────────┐     ┌─────────┐┌─────────┐     ┌─────────┐»\n",
       "   q_0: ┤ Ry(π/2) ├┤ Rz(π/2) ├──■──┤ Ry(π/2) ├┤ Rz(π/2) ├──■──┤ Ry(π/2) ├»\n",
       "        ├─────────┤├─────────┤┌─┴─┐├─────────┤├─────────┤┌─┴─┐├─────────┤»\n",
       "   q_1: ┤ Ry(π/2) ├┤ Rz(π/2) ├┤ X ├┤ Ry(π/2) ├┤ Rz(π/2) ├┤ X ├┤ Ry(π/2) ├»\n",
       "        └─────────┘└─────────┘└───┘└─────────┘└─────────┘└───┘└─────────┘»\n",
       "meas: 2/═════════════════════════════════════════════════════════════════»\n",
       "                                                                         »\n",
       "«        ┌─────────┐ ░ ┌─┐   \n",
       "«   q_0: ┤ Rz(π/2) ├─░─┤M├───\n",
       "«        ├─────────┤ ░ └╥┘┌─┐\n",
       "«   q_1: ┤ Rz(π/2) ├─░──╫─┤M├\n",
       "«        └─────────┘ ░  ║ └╥┘\n",
       "«meas: 2/═══════════════╩══╩═\n",
       "«                       0  1 </pre>"
      ],
      "text/plain": [
       "        ┌─────────┐┌─────────┐     ┌─────────┐┌─────────┐     ┌─────────┐»\n",
       "   q_0: ┤ Ry(π/2) ├┤ Rz(π/2) ├──■──┤ Ry(π/2) ├┤ Rz(π/2) ├──■──┤ Ry(π/2) ├»\n",
       "        ├─────────┤├─────────┤┌─┴─┐├─────────┤├─────────┤┌─┴─┐├─────────┤»\n",
       "   q_1: ┤ Ry(π/2) ├┤ Rz(π/2) ├┤ X ├┤ Ry(π/2) ├┤ Rz(π/2) ├┤ X ├┤ Ry(π/2) ├»\n",
       "        └─────────┘└─────────┘└───┘└─────────┘└─────────┘└───┘└─────────┘»\n",
       "meas: 2/═════════════════════════════════════════════════════════════════»\n",
       "                                                                         »\n",
       "«        ┌─────────┐ ░ ┌─┐   \n",
       "«   q_0: ┤ Rz(π/2) ├─░─┤M├───\n",
       "«        ├─────────┤ ░ └╥┘┌─┐\n",
       "«   q_1: ┤ Rz(π/2) ├─░──╫─┤M├\n",
       "«        └─────────┘ ░  ║ └╥┘\n",
       "«meas: 2/═══════════════╩══╩═\n",
       "«                       0  1 "
      ]
     },
     "execution_count": 5,
     "metadata": {},
     "output_type": "execute_result"
    }
   ],
   "source": [
    "def measure_zz_circuit(given_circuit):\n",
    "    zz_meas = given_circuit.copy()\n",
    "    zz_meas.measure_all()\n",
    "    return zz_meas\n",
    "\n",
    "zz_meas = measure_zz_circuit(hets_circuit)\n",
    "zz_meas.draw()"
   ]
  },
  {
   "cell_type": "markdown",
   "metadata": {},
   "source": [
    "Next, let's execute this quantum circuit and see the measurement outcomes."
   ]
  },
  {
   "cell_type": "code",
   "execution_count": 6,
   "metadata": {},
   "outputs": [],
   "source": [
    "simulator = Aer.get_backend('qasm_simulator')"
   ]
  },
  {
   "cell_type": "code",
   "execution_count": 7,
   "metadata": {},
   "outputs": [
    {
     "data": {
      "image/png": "[encoded data removed]",
      "text/plain": [
       "<Figure size 504x360 with 1 Axes>"
      ]
     },
     "execution_count": 7,
     "metadata": {},
     "output_type": "execute_result"
    }
   ],
   "source": [
    "result = execute(zz_meas, backend = simulator, shots=10000).result()\n",
    "counts = result.get_counts(zz_meas)\n",
    "\n",
    "plot_histogram(counts)"
   ]
  },
  {
   "cell_type": "markdown",
   "metadata": {},
   "source": [
    "We can analyze the counts and calculate the $\\langle ZZ \\rangle$ as follows:"
   ]
  },
  {
   "cell_type": "code",
   "execution_count": 8,
   "metadata": {},
   "outputs": [],
   "source": [
    "def measure_zz(given_circuit, num_shots = 10000):\n",
    "\n",
    "    zz_meas = measure_zz_circuit(given_circuit)\n",
    "    \n",
    "    result = execute(zz_meas, backend = simulator, shots = num_shots).result()\n",
    "    counts = result.get_counts(zz_meas)\n",
    "\n",
    "    if '00' not in counts:\n",
    "        counts['00'] = 0\n",
    "    if '01' not in counts:\n",
    "        counts['01'] = 0\n",
    "    if '10' not in counts:\n",
    "        counts['10'] = 0\n",
    "    if '11' not in counts:\n",
    "        counts['11'] = 0 \n",
    "\n",
    "    total_counts = counts['00'] + counts['11'] + counts['01'] + counts['10']\n",
    "    zz = counts['00'] + counts['11'] - counts['01'] - counts['10']\n",
    "    zz = zz / total_counts\n",
    "    \n",
    "    return zz"
   ]
  },
  {
   "cell_type": "code",
   "execution_count": 9,
   "metadata": {},
   "outputs": [
    {
     "name": "stdout",
     "output_type": "stream",
     "text": [
      "<ZZ> = 0.0014\n"
     ]
    }
   ],
   "source": [
    "zz = measure_zz(hets_circuit)\n",
    "print(\"<ZZ> =\", str(zz))"
   ]
  },
  {
   "cell_type": "markdown",
   "metadata": {},
   "source": [
    "**What about $\\langle ZI \\rangle$ and  $\\langle IZ \\rangle$? Do these need new circuits?**\n",
    "\n",
    "The answer is no, and they can be computed from the results above."
   ]
  },
  {
   "cell_type": "code",
   "execution_count": 10,
   "metadata": {},
   "outputs": [],
   "source": [
    "def measure_zi(given_circuit, num_shots = 10000):\n",
    "    \n",
    "    zz_meas = measure_zz_circuit(given_circuit)\n",
    "    \n",
    "    result = execute(zz_meas, backend = simulator, shots = num_shots).result()\n",
    "    counts = result.get_counts(zz_meas)\n",
    "\n",
    "    if '00' not in counts:\n",
    "        counts['00'] = 0\n",
    "    if '01' not in counts:\n",
    "        counts['01'] = 0\n",
    "    if '10' not in counts:\n",
    "        counts['10'] = 0\n",
    "    if '11' not in counts:\n",
    "        counts['11'] = 0 \n",
    "\n",
    "    total_counts = counts['00'] + counts['11'] + counts['01'] + counts['10']\n",
    "    \n",
    "    zi = counts['00'] - counts['11'] + counts['01'] - counts['10']\n",
    "    zi = zi / total_counts\n",
    "    \n",
    "    return zi\n",
    "\n",
    "def measure_iz(given_circuit, num_shots = 10000):\n",
    "    \n",
    "    zz_meas = measure_zz_circuit(given_circuit)\n",
    "    \n",
    "    result = execute(zz_meas, backend = simulator, shots = num_shots).result()\n",
    "    counts = result.get_counts(zz_meas)\n",
    "\n",
    "    if '00' not in counts:\n",
    "        counts['00'] = 0\n",
    "    if '01' not in counts:\n",
    "        counts['01'] = 0\n",
    "    if '10' not in counts:\n",
    "        counts['10'] = 0\n",
    "    if '11' not in counts:\n",
    "        counts['11'] = 0 \n",
    "\n",
    "    total_counts = counts['00'] + counts['11'] + counts['01'] + counts['10']\n",
    "    \n",
    "    iz = counts['00'] - counts['11'] - counts['01'] + counts['10']\n",
    "    iz = iz / total_counts\n",
    "    \n",
    "    return iz"
   ]
  },
  {
   "cell_type": "code",
   "execution_count": 11,
   "metadata": {},
   "outputs": [
    {
     "name": "stdout",
     "output_type": "stream",
     "text": [
      "<ZI> = 0.005\n",
      "<IZ> = -0.0068\n"
     ]
    }
   ],
   "source": [
    "zi = measure_zi(hets_circuit)\n",
    "print(\"<ZI> =\", str(zi))\n",
    "\n",
    "iz = measure_iz(hets_circuit)\n",
    "print(\"<IZ> =\", str(iz))"
   ]
  },
  {
   "cell_type": "markdown",
   "metadata": {},
   "source": [
    "**Next, we measure $\\langle XX \\rangle$**"
   ]
  },
  {
   "cell_type": "code",
   "execution_count": 12,
   "metadata": {},
   "outputs": [],
   "source": [
    "def measure_xx_circuit(given_circuit):\n",
    "    xx_meas = given_circuit.copy()\n",
    "    \n",
    "    ### WRITE YOUR CODE BETWEEN THESE LINES - START\n",
    "    \n",
    "    xx_meas.h(0)\n",
    "    xx_meas.h(1)\n",
    "    xx_meas.measure_all()\n",
    "    \n",
    "    ### WRITE YOUR CODE BETWEEN THESE LINES - END\n",
    "\n",
    "    return xx_meas"
   ]
  },
  {
   "cell_type": "code",
   "execution_count": 13,
   "metadata": {},
   "outputs": [
    {
     "data": {
      "text/html": [
       "<pre style=\"word-wrap: normal;white-space: pre;background: #fff0;line-height: 1.1;font-family: &quot;Courier New&quot;,Courier,monospace\">        ┌─────────┐┌─────────┐     ┌─────────┐┌─────────┐     ┌─────────┐»\n",
       "   q_0: ┤ Ry(π/2) ├┤ Rz(π/2) ├──■──┤ Ry(π/2) ├┤ Rz(π/2) ├──■──┤ Ry(π/2) ├»\n",
       "        ├─────────┤├─────────┤┌─┴─┐├─────────┤├─────────┤┌─┴─┐├─────────┤»\n",
       "   q_1: ┤ Ry(π/2) ├┤ Rz(π/2) ├┤ X ├┤ Ry(π/2) ├┤ Rz(π/2) ├┤ X ├┤ Ry(π/2) ├»\n",
       "        └─────────┘└─────────┘└───┘└─────────┘└─────────┘└───┘└─────────┘»\n",
       "meas: 2/═════════════════════════════════════════════════════════════════»\n",
       "                                                                         »\n",
       "«        ┌─────────┐┌───┐ ░ ┌─┐   \n",
       "«   q_0: ┤ Rz(π/2) ├┤ H ├─░─┤M├───\n",
       "«        ├─────────┤├───┤ ░ └╥┘┌─┐\n",
       "«   q_1: ┤ Rz(π/2) ├┤ H ├─░──╫─┤M├\n",
       "«        └─────────┘└───┘ ░  ║ └╥┘\n",
       "«meas: 2/════════════════════╩══╩═\n",
       "«                            0  1 </pre>"
      ],
      "text/plain": [
       "        ┌─────────┐┌─────────┐     ┌─────────┐┌─────────┐     ┌─────────┐»\n",
       "   q_0: ┤ Ry(π/2) ├┤ Rz(π/2) ├──■──┤ Ry(π/2) ├┤ Rz(π/2) ├──■──┤ Ry(π/2) ├»\n",
       "        ├─────────┤├─────────┤┌─┴─┐├─────────┤├─────────┤┌─┴─┐├─────────┤»\n",
       "   q_1: ┤ Ry(π/2) ├┤ Rz(π/2) ├┤ X ├┤ Ry(π/2) ├┤ Rz(π/2) ├┤ X ├┤ Ry(π/2) ├»\n",
       "        └─────────┘└─────────┘└───┘└─────────┘└─────────┘└───┘└─────────┘»\n",
       "meas: 2/═════════════════════════════════════════════════════════════════»\n",
       "                                                                         »\n",
       "«        ┌─────────┐┌───┐ ░ ┌─┐   \n",
       "«   q_0: ┤ Rz(π/2) ├┤ H ├─░─┤M├───\n",
       "«        ├─────────┤├───┤ ░ └╥┘┌─┐\n",
       "«   q_1: ┤ Rz(π/2) ├┤ H ├─░──╫─┤M├\n",
       "«        └─────────┘└───┘ ░  ║ └╥┘\n",
       "«meas: 2/════════════════════╩══╩═\n",
       "«                            0  1 "
      ]
     },
     "execution_count": 13,
     "metadata": {},
     "output_type": "execute_result"
    }
   ],
   "source": [
    "xx_meas = measure_xx_circuit(hets_circuit)\n",
    "xx_meas.draw()"
   ]
  },
  {
   "cell_type": "code",
   "execution_count": 14,
   "metadata": {},
   "outputs": [
    {
     "name": "stdout",
     "output_type": "stream",
     "text": [
      "<XX> = -1.0\n"
     ]
    }
   ],
   "source": [
    "def measure_xx(given_circuit, num_shots = 10000):\n",
    "    \n",
    "    xx_meas = measure_xx_circuit(given_circuit)\n",
    "    \n",
    "    result = execute(xx_meas, backend = simulator, shots = num_shots).result()\n",
    "    counts = result.get_counts(xx_meas)\n",
    "\n",
    "    if '00' not in counts:\n",
    "        counts['00'] = 0\n",
    "    if '01' not in counts:\n",
    "        counts['01'] = 0\n",
    "    if '10' not in counts:\n",
    "        counts['10'] = 0\n",
    "    if '11' not in counts:\n",
    "        counts['11'] = 0\n",
    "\n",
    "    total_counts = counts['00'] + counts['11'] + counts['01'] + counts['10']\n",
    "    xx = counts['00'] + counts['11'] - counts['01'] - counts['10']\n",
    "    xx = xx / total_counts\n",
    "    \n",
    "    return xx\n",
    "\n",
    "xx = measure_xx(hets_circuit)\n",
    "print(\"<XX> =\", str(xx))"
   ]
  },
  {
   "cell_type": "markdown",
   "metadata": {},
   "source": [
    "### Now we evaluate the energy of the trial state"
   ]
  },
  {
   "cell_type": "code",
   "execution_count": 15,
   "metadata": {},
   "outputs": [],
   "source": [
    "def get_energy(given_circuit, num_shots = 10000):\n",
    "    \n",
    "    zz = measure_zz(given_circuit, num_shots = num_shots)\n",
    "    iz = measure_iz(given_circuit, num_shots = num_shots)\n",
    "    zi = measure_zi(given_circuit, num_shots = num_shots)\n",
    "    xx = measure_xx(given_circuit, num_shots = num_shots)\n",
    "    \n",
    "    energy = (-1.0523732)*1 + (0.39793742)*iz + (-0.3979374)*zi + (-0.0112801)*zz + (0.18093119)*xx\n",
    "    \n",
    "    return energy"
   ]
  },
  {
   "cell_type": "code",
   "execution_count": 16,
   "metadata": {},
   "outputs": [
    {
     "name": "stdout",
     "output_type": "stream",
     "text": [
      "The energy of the trial state is -1.2300400496119999\n"
     ]
    }
   ],
   "source": [
    "energy = get_energy(hets_circuit)\n",
    "print(\"The energy of the trial state is\", str(energy))"
   ]
  },
  {
   "cell_type": "markdown",
   "metadata": {},
   "source": [
    "# Computing gradients"
   ]
  },
  {
   "cell_type": "markdown",
   "metadata": {},
   "source": [
    "The objective of the next set of exercises is to compute the next set of angles to use for the trial state preparation. Create two quantum circuits using `prepare_hets_circuit(depth=2, angle2 = pi/2)` for measuring expectation values with values for `angle1 = pi/2 + 0.1*pi/2` and `angle1 = pi/2 - 0.1*pi/2`, and measure the energy of both trial states."
   ]
  },
  {
   "cell_type": "code",
   "execution_count": 17,
   "metadata": {},
   "outputs": [
    {
     "name": "stdout",
     "output_type": "stream",
     "text": [
      "-1.1604857245772 -1.276443218153\n"
     ]
    }
   ],
   "source": [
    "hets_circuit_plus = None\n",
    "hets_circuit_minus = None\n",
    "\n",
    "### WRITE YOUR CODE BETWEEN THESE LINES - START\n",
    "\n",
    "hets_circuit_plus = prepare_hets_circuit(2, pi/2 + 0.1*pi/2, pi/2)\n",
    "hets_circuit_minus = prepare_hets_circuit(2, pi/2 - 0.1*pi/2, pi/2)\n",
    "\n",
    "### WRITE YOUR CODE BETWEEN THESE LINES - END\n",
    "\n",
    "energy_plus = get_energy(hets_circuit_plus, num_shots=100000)\n",
    "energy_minus = get_energy(hets_circuit_minus, num_shots=100000)\n",
    "\n",
    "print(energy_plus, energy_minus)"
   ]
  },
  {
   "cell_type": "markdown",
   "metadata": {},
   "source": [
    "As you can see, one of these is certainly lower energy than the other, and is also lower energy than the case when `angle1 = pi/2`. This is a suitable next point for our iteration of a variational eigensolver."
   ]
  },
  {
   "cell_type": "markdown",
   "metadata": {},
   "source": [
    "## Bonus 1"
   ]
  },
  {
   "cell_type": "markdown",
   "metadata": {},
   "source": [
    "While this is not graded, explore whether the decision above would be easy if your execution ran different numbers of shots. In particular, measure `energy_plus` and `energy_minus` again with `100`, `1000` and `10000` shots to explore how easy or difficult this decision gets with each one."
   ]
  },
  {
   "cell_type": "code",
   "execution_count": 18,
   "metadata": {},
   "outputs": [
    {
     "name": "stdout",
     "output_type": "stream",
     "text": [
      "-1.1401001268 -1.1732977214 difference =  -0.03319759460000005\n",
      "-1.1745675497399999 -1.2923287179599998 difference =  -0.11776116821999993\n",
      "-1.1608425457519997 -1.276429267202 difference =  -0.11558672145000015\n"
     ]
    }
   ],
   "source": [
    "energy_plus_100, energy_plus_1000, energy_plus_10000 = 0, 0, 0\n",
    "energy_minus_100, energy_minus_1000, energy_minus_10000 = 0, 0, 0\n",
    "\n",
    "### WRITE YOUR CODE BETWEEN THESE LINES - START\n",
    "\n",
    "energy_plus_100 = get_energy(hets_circuit_plus, num_shots = 100)\n",
    "energy_minus_100 = get_energy(hets_circuit_minus, num_shots = 100)\n",
    "\n",
    "energy_plus_1000 = get_energy(hets_circuit_plus, num_shots = 1000)\n",
    "energy_minus_1000 = get_energy(hets_circuit_minus, num_shots = 1000)\n",
    "\n",
    "energy_plus_10000 = get_energy(hets_circuit_plus, num_shots = 10000)\n",
    "energy_minus_10000 = get_energy(hets_circuit_minus, num_shots = 10000)\n",
    "\n",
    "### WRITE YOUR CODE BETWEEN THESE LINES - END\n",
    "\n",
    "print(energy_plus_100, energy_minus_100, \"difference = \", energy_minus_100 - energy_plus_100)\n",
    "print(energy_plus_1000, energy_minus_1000, \"difference = \", energy_minus_1000 - energy_plus_1000)\n",
    "print(energy_plus_10000, energy_minus_10000, \"difference = \", energy_minus_10000 - energy_plus_10000)"
   ]
  },
  {
   "cell_type": "markdown",
   "metadata": {},
   "source": [
    "## Bonus 2"
   ]
  },
  {
   "cell_type": "markdown",
   "metadata": {},
   "source": [
    "While this is not graded, diagonalize the Hamiltonian by writing down the matrices for the Pauli operators `I`, `X` and `Z`, and find the exact ground state energy."
   ]
  },
  {
   "cell_type": "code",
   "execution_count": 19,
   "metadata": {},
   "outputs": [
    {
     "name": "stdout",
     "output_type": "stream",
     "text": [
      "Eigenvector [0.70710682 0.         0.         0.70710674] has energy -0.8827221099999987\n",
      "Eigenvector [ 0.70710674  0.          0.         -0.70710682] has energy -1.2445844900000007\n",
      "Eigenvector [-2.07048005e-16 -9.93760401e-01  1.11535937e-01  8.23943737e-16] has energy -1.857274957569039\n",
      "Eigenvector [5.61877442e-18 1.11535937e-01 9.93760401e-01 3.55011052e-17] has energy -0.22491124243096008\n",
      "\n",
      "Minimum energy is -1.857274957569039\n"
     ]
    }
   ],
   "source": [
    "### WRITE YOUR CODE BETWEEN THESE LINES - START\n",
    "\n",
    "I = np.array([\n",
    "[1, 0],\n",
    "[0, 1]\n",
    "])\n",
    "\n",
    "X = np.array([\n",
    "[0, 1],\n",
    "[1, 0]\n",
    "])\n",
    "\n",
    "Z = np.array([\n",
    "[1, 0],\n",
    "[0, -1]\n",
    "])\n",
    "\n",
    "h2_hamiltonian = (-1.0523732) * np.kron(I, I) + \\\n",
    "                 (0.39793742) * np.kron(I, Z) + \\\n",
    "                 (-0.3979374) * np.kron(Z, I) + \\\n",
    "                 (-0.0112801) * np.kron(Z, Z) + \\\n",
    "                 (0.18093119) * np.kron(X, X)\n",
    "\n",
    "from numpy import linalg as LA\n",
    "eigenvalues, eigenvectors = LA.eig(h2_hamiltonian)\n",
    "for ii, eigenvalue in enumerate(eigenvalues):\n",
    "    print(f\"Eigenvector {eigenvectors[:,ii]} has energy {eigenvalue}\")\n",
    "\n",
    "exact_eigenvector = eigenvectors[:,np.argmin(eigenvalues)]\n",
    "exact_eigenvalue = np.min(eigenvalues)\n",
    "\n",
    "print()\n",
    "print(\"Minimum energy is\", exact_eigenvalue)\n",
    "\n",
    "### WRITE YOUR CODE BETWEEN THESE LINES - END"
   ]
  }
 ],
 "metadata": {
  "kernelspec": {
   "display_name": "Python 3 (ipykernel)",
   "language": "python",
   "name": "python3"
  },
  "language_info": {
   "codemirror_mode": {
    "name": "ipython",
    "version": 3
   },
   "file_extension": ".py",
   "mimetype": "text/x-python",
   "name": "python",
   "nbconvert_exporter": "python",
   "pygments_lexer": "ipython3",
   "version": "3.9.7"
  }
 },
 "nbformat": 4,
 "nbformat_minor": 2
}
