{
 "cells": [
  {
   "cell_type": "markdown",
   "metadata": {},
   "source": [
    "![image](resources/qcqh-lab-header.png)"
   ]
  },
  {
   "cell_type": "markdown",
   "metadata": {},
   "source": [
    "# Lab 6: Qubit Drive: Rabi & Ramsey Experiments"
   ]
  },
  {
   "cell_type": "markdown",
   "metadata": {},
   "source": [
    "In this lab, you will take what you learned about qubit drive to perform Rabi and Ramsey experiment on a Pulse Simulator. The goal of this lab is to familiarize yourself with the important concepts of manipulating qubit states with microwave pulses."
   ]
  },
  {
   "cell_type": "markdown",
   "metadata": {},
   "source": [
    "### Installing Necessary Packages\n",
    "Before we begin, you will need to install some prerequisites into your environment. Run the cell below to complete these installations. At the end, the cell outputs will be cleared."
   ]
  },
  {
   "cell_type": "code",
   "execution_count": 1,
   "metadata": {},
   "outputs": [],
   "source": [
    "#!pip install -U -r resources/requirements.txt\n",
    "\n",
    "from IPython.display import clear_output\n",
    "clear_output()"
   ]
  },
  {
   "cell_type": "markdown",
   "metadata": {},
   "source": [
    "## Simulating the Transmon as a Duffing Oscillator"
   ]
  },
  {
   "cell_type": "markdown",
   "metadata": {},
   "source": [
    "As you learned in lectures 16 to 18, the transmon can be understood as a Duffing oscillator specified by a frequency $\\nu$, anharmonicity $\\alpha$, and drive strength $r$, which results in the Hamiltonian\n",
    "$$\n",
    "   \\hat{H}_{\\rm Duff}/\\hbar = 2\\pi\\nu a^\\dagger a + \\pi \\alpha a^\\dagger a(a^\\dagger a - 1) + 2 \\pi r (a + a^\\dagger) \\times D(t),\n",
    "$$\n",
    "\n",
    "where $D(t)$ is the signal on the drive channel for the qubit, and $a^\\dagger$ and $a$ are, respectively, the creation and annihilation operators for the qubit. Note that the drive strength $r$ sets the scaling of the control term, with $D(t)$ assumed to be a complex and unitless number satisfying $|D(t)| \\leq 1$. "
   ]
  },
  {
   "cell_type": "markdown",
   "metadata": {},
   "source": [
    "## Qiskit Pulse Overview\n",
    "\n",
    "As a brief overview, Qiskit Pulse schedules (experiments) consist of Instructions (i.e., Play) acting on Channels (i.e., the drive channel). Here is a summary table of available Instructions and Channels:\n",
    "\n",
    "![image](resources/pulse-instr.png)\n",
    "\n",
    "For more detail, this table summarizes the interaction of the channels with the actual quantum hardware:\n",
    "\n",
    "![image](resources/pulse-user-device-layers.png)\n",
    "\n",
    "However, we find it is more instructive to begin with guided programming in Pulse. Below you will learn how to create pulses, schedules, and run experiments on a simulator. These lessons can be immediately applied to actual pulse-enabled quantum hardware, in particular [`ibmq_armonk`](https://www.ibm.com/blogs/research/2019/12/qiskit-openpulse/)."
   ]
  },
  {
   "cell_type": "markdown",
   "metadata": {},
   "source": [
    "## Let's get started!"
   ]
  },
  {
   "cell_type": "markdown",
   "metadata": {},
   "source": [
    "In most of the cells below, nothing needs to be modified. **However, you will need to execute the cells by pressing `shift+Enter` in each code block**. In order to keep things tidy and focus on the important aspects of Qiskit Pulse, the following cells make use of methods from the `helper` module. For the gory details, please refer back to the [Lab 6 notebook](lab6-drive-ham-rabi-ramsey.ipynb). Before coming to Exercise 1a, the following code blocks\n",
    "\n",
    "- create backend pulse simulator and instantiate the transmon as a Duffing oscillator of frequency $\\sim 5$ GHz\n",
    "- import libraries for numerics and visualization, and define helpful constants\n",
    "- create the channels for the pulse schedule and define measurment schedule (we will only work with the drive channel)"
   ]
  },
  {
   "cell_type": "code",
   "execution_count": 2,
   "metadata": {},
   "outputs": [],
   "source": [
    "# our backend is the Pulse Simulator\n",
    "from resources import helper\n",
    "from qiskit.providers.aer import PulseSimulator\n",
    "backend_sim = PulseSimulator()\n",
    "\n",
    "# sample duration for pulse instructions \n",
    "dt = 1e-9\n",
    "\n",
    "# create the model\n",
    "duffing_model = helper.get_transmon(dt)\n",
    "\n",
    "# get qubit frequency from Duffing model\n",
    "qubit_lo_freq = duffing_model.hamiltonian.get_qubit_lo_from_drift()"
   ]
  },
  {
   "cell_type": "code",
   "execution_count": 3,
   "metadata": {},
   "outputs": [],
   "source": [
    "import numpy as np\n",
    "\n",
    "# visualization tools\n",
    "import matplotlib.pyplot as plt\n",
    "plt.style.use('dark_background')\n",
    "\n",
    "# unit conversion factors -> all backend properties returned in SI (Hz, sec, etc)\n",
    "GHz = 1.0e9 # Gigahertz\n",
    "MHz = 1.0e6 # Megahertz\n",
    "kHz = 1.0e3 # kilohertz\n",
    "us = 1.0e-6 # microseconds\n",
    "ns = 1.0e-9 # nanoseconds"
   ]
  },
  {
   "cell_type": "markdown",
   "metadata": {},
   "source": [
    "### Instantiate channels and create measurement schedule\n",
    "\n",
    "We will use the same measurement schedule throughout, whereas the drive schedules will vary. This must be built for the simulator, for a real backend we can ask for its default measurement pulse."
   ]
  },
  {
   "cell_type": "code",
   "execution_count": 4,
   "metadata": {},
   "outputs": [],
   "source": [
    "from qiskit import pulse\n",
    "from qiskit.pulse import Play, Acquire\n",
    "from qiskit.pulse.library import GaussianSquare\n",
    "\n",
    "# qubit to be used throughout the notebook\n",
    "qubit = 0\n",
    "\n",
    "### Collect the necessary channels\n",
    "drive_chan = pulse.DriveChannel(qubit)\n",
    "meas_chan = pulse.MeasureChannel(qubit)\n",
    "acq_chan = pulse.AcquireChannel(qubit)\n",
    "\n",
    "# Construct a measurement schedule and add it to an InstructionScheduleMap\n",
    "meas_samples = 1200\n",
    "meas_pulse = GaussianSquare(duration=meas_samples, amp=0.025, sigma=4, width=1150)\n",
    "measure_sched = Play(meas_pulse, meas_chan) | Acquire(meas_samples, acq_chan, pulse.MemorySlot(qubit))\n",
    "\n",
    "inst_map = pulse.InstructionScheduleMap()\n",
    "inst_map.add('measure', [qubit], measure_sched)\n",
    "\n",
    "# save the measurement/acquire pulse for later\n",
    "measure = inst_map.get('measure', qubits=[qubit])"
   ]
  },
  {
   "cell_type": "markdown",
   "metadata": {},
   "source": [
    "## Graded Exercise 1a: Rabi Schedule\n",
    "\n",
    "Add code to the method below in order to build a Rabi pulse schedule. A Rabi experiment consists of a drive pulse at the qubit frequency, followed by a measurement. A list of Rabis schedules will vary the drive amplitude each time. For a review of creating pulse schedules, see [Lab 6 notebook](lab6-drive-ham-rabi-ramsey.ipynb)."
   ]
  },
  {
   "cell_type": "code",
   "execution_count": 5,
   "metadata": {},
   "outputs": [],
   "source": [
    "from qiskit.pulse.library import Gaussian\n",
    "\n",
    "def build_rabi_pulse_schedule(drive_duration, drive_amp, drive_sigma):\n",
    "    ### create a Rabi schedule (already done)\n",
    "    ### create a Gaussian Rabi pulse using the pulse library\n",
    "    ### play Rabi pulse on the Rabi schedule and return\n",
    "    \n",
    "    rabi_schedule = pulse.Schedule(name='rabi_experiment')\n",
    "    \n",
    "    ### WRITE YOUR CODE BETWEEN THESE LINES - START\n",
    "    \n",
    "    rabi_pulse = Gaussian(duration=drive_duration, amp=drive_amp,\n",
    "                                        sigma=drive_sigma)\n",
    "    rabi_schedule = pulse.Schedule()\n",
    "    rabi_schedule += Play(rabi_pulse, drive_chan)\n",
    "    \n",
    "    ### WRITE YOUR CODE BETWEEN THESE LINES - END\n",
    "    \n",
    "    # add measurement to rabi_schedule\n",
    "    # << indicates time shift the beginning to the start of the schedule\n",
    "    rabi_schedule += measure << rabi_schedule.duration\n",
    "    return rabi_schedule"
   ]
  },
  {
   "cell_type": "markdown",
   "metadata": {},
   "source": [
    "### From the Rabi schedule of Exercise 1a, create a list of schedules for the experiment"
   ]
  },
  {
   "cell_type": "code",
   "execution_count": 6,
   "metadata": {},
   "outputs": [],
   "source": [
    "# Gaussian pulse parameters, with varying amplitude\n",
    "drive_duration = 128\n",
    "num_rabi_points = 41\n",
    "drive_amps = np.linspace(0, 0.9, num_rabi_points)\n",
    "drive_sigma = 16\n",
    "\n",
    "# now vary the amplitude for each drive amp\n",
    "rabi_schedules = []\n",
    "for drive_amp in drive_amps:\n",
    "    rabi_schedules.append(build_rabi_pulse_schedule(drive_duration, drive_amp, drive_sigma))"
   ]
  },
  {
   "cell_type": "code",
   "execution_count": 7,
   "metadata": {},
   "outputs": [
    {
     "data": {
      "image/png": "[encoded data removed]",
      "text/plain": [
       "<Figure size 936x237.6 with 1 Axes>"
      ]
     },
     "execution_count": 7,
     "metadata": {},
     "output_type": "execute_result"
    }
   ],
   "source": [
    "rabi_schedules[-1].draw() "
   ]
  },
  {
   "cell_type": "code",
   "execution_count": 8,
   "metadata": {
    "scrolled": false
   },
   "outputs": [],
   "source": [
    "# assemble the schedules into a Qobj\n",
    "from qiskit import assemble\n",
    "\n",
    "rabi_qobj = assemble(**helper.get_params('rabi', globals()))"
   ]
  },
  {
   "cell_type": "code",
   "execution_count": 9,
   "metadata": {},
   "outputs": [
    {
     "name": "stderr",
     "output_type": "stream",
     "text": [
      "C:\\Users\\mlabadm\\AppData\\Local\\Programs\\Python\\Python39\\lib\\site-packages\\qiskit\\utils\\deprecation.py:62: DeprecationWarning: Using a qobj for run() is deprecated as of qiskit-aer 0.9.0 and will be removed no sooner than 3 months from that release date. Transpiled circuits should now be passed directly using `backend.run(circuits, **run_options).\n",
      "  return func(*args, **kwargs)\n"
     ]
    },
    {
     "ename": "AerError",
     "evalue": "'PulseSimulator requires a system model to run.'",
     "output_type": "error",
     "traceback": [
      "\u001b[1;31m---------------------------------------------------------------------------\u001b[0m",
      "\u001b[1;31mAerError\u001b[0m                                  Traceback (most recent call last)",
      "\u001b[1;32m~\\AppData\\Local\\Temp/ipykernel_2064/3717156541.py\u001b[0m in \u001b[0;36m<module>\u001b[1;34m\u001b[0m\n\u001b[0;32m      1\u001b[0m \u001b[1;31m# run the simulation\u001b[0m\u001b[1;33m\u001b[0m\u001b[1;33m\u001b[0m\u001b[0m\n\u001b[1;32m----> 2\u001b[1;33m \u001b[0mrabi_result\u001b[0m \u001b[1;33m=\u001b[0m \u001b[0mbackend_sim\u001b[0m\u001b[1;33m.\u001b[0m\u001b[0mrun\u001b[0m\u001b[1;33m(\u001b[0m\u001b[0mrabi_qobj\u001b[0m\u001b[1;33m,\u001b[0m \u001b[0mduffing_model\u001b[0m\u001b[1;33m)\u001b[0m\u001b[1;33m.\u001b[0m\u001b[0mresult\u001b[0m\u001b[1;33m(\u001b[0m\u001b[1;33m)\u001b[0m\u001b[1;33m\u001b[0m\u001b[1;33m\u001b[0m\u001b[0m\n\u001b[0m",
      "\u001b[1;32m~\\AppData\\Local\\Programs\\Python\\Python39\\lib\\site-packages\\qiskit\\utils\\deprecation.py\u001b[0m in \u001b[0;36mwrapper\u001b[1;34m(*args, **kwargs)\u001b[0m\n\u001b[0;32m     60\u001b[0m             \u001b[1;32mif\u001b[0m \u001b[0mkwargs\u001b[0m\u001b[1;33m:\u001b[0m\u001b[1;33m\u001b[0m\u001b[1;33m\u001b[0m\u001b[0m\n\u001b[0;32m     61\u001b[0m                 \u001b[0m_rename_kwargs\u001b[0m\u001b[1;33m(\u001b[0m\u001b[0mfunc\u001b[0m\u001b[1;33m.\u001b[0m\u001b[0m__name__\u001b[0m\u001b[1;33m,\u001b[0m \u001b[0mkwargs\u001b[0m\u001b[1;33m,\u001b[0m \u001b[0mkwarg_map\u001b[0m\u001b[1;33m)\u001b[0m\u001b[1;33m\u001b[0m\u001b[1;33m\u001b[0m\u001b[0m\n\u001b[1;32m---> 62\u001b[1;33m             \u001b[1;32mreturn\u001b[0m \u001b[0mfunc\u001b[0m\u001b[1;33m(\u001b[0m\u001b[1;33m*\u001b[0m\u001b[0margs\u001b[0m\u001b[1;33m,\u001b[0m \u001b[1;33m**\u001b[0m\u001b[0mkwargs\u001b[0m\u001b[1;33m)\u001b[0m\u001b[1;33m\u001b[0m\u001b[1;33m\u001b[0m\u001b[0m\n\u001b[0m\u001b[0;32m     63\u001b[0m \u001b[1;33m\u001b[0m\u001b[0m\n\u001b[0;32m     64\u001b[0m         \u001b[1;32mreturn\u001b[0m \u001b[0mwrapper\u001b[0m\u001b[1;33m\u001b[0m\u001b[1;33m\u001b[0m\u001b[0m\n",
      "\u001b[1;32m~\\AppData\\Local\\Programs\\Python\\Python39\\lib\\site-packages\\qiskit\\providers\\aer\\backends\\pulse_simulator.py\u001b[0m in \u001b[0;36mrun\u001b[1;34m(self, schedules, validate, **run_options)\u001b[0m\n\u001b[0;32m    232\u001b[0m         \u001b[1;32melif\u001b[0m \u001b[0misinstance\u001b[0m\u001b[1;33m(\u001b[0m\u001b[0mschedules\u001b[0m\u001b[1;33m,\u001b[0m \u001b[0mQuantumCircuit\u001b[0m\u001b[1;33m)\u001b[0m\u001b[1;33m:\u001b[0m\u001b[1;33m\u001b[0m\u001b[1;33m\u001b[0m\u001b[0m\n\u001b[0;32m    233\u001b[0m             \u001b[0mschedules\u001b[0m \u001b[1;33m=\u001b[0m \u001b[0mschedule\u001b[0m\u001b[1;33m(\u001b[0m\u001b[0mschedules\u001b[0m\u001b[1;33m,\u001b[0m \u001b[0mself\u001b[0m\u001b[1;33m)\u001b[0m\u001b[1;33m\u001b[0m\u001b[1;33m\u001b[0m\u001b[0m\n\u001b[1;32m--> 234\u001b[1;33m         \u001b[1;32mreturn\u001b[0m \u001b[0msuper\u001b[0m\u001b[1;33m(\u001b[0m\u001b[1;33m)\u001b[0m\u001b[1;33m.\u001b[0m\u001b[0mrun\u001b[0m\u001b[1;33m(\u001b[0m\u001b[0mschedules\u001b[0m\u001b[1;33m,\u001b[0m \u001b[0mvalidate\u001b[0m\u001b[1;33m=\u001b[0m\u001b[0mvalidate\u001b[0m\u001b[1;33m,\u001b[0m \u001b[1;33m**\u001b[0m\u001b[0mrun_options\u001b[0m\u001b[1;33m)\u001b[0m\u001b[1;33m\u001b[0m\u001b[1;33m\u001b[0m\u001b[0m\n\u001b[0m\u001b[0;32m    235\u001b[0m \u001b[1;33m\u001b[0m\u001b[0m\n\u001b[0;32m    236\u001b[0m     \u001b[1;33m@\u001b[0m\u001b[0mproperty\u001b[0m\u001b[1;33m\u001b[0m\u001b[1;33m\u001b[0m\u001b[0m\n",
      "\u001b[1;32m~\\AppData\\Local\\Programs\\Python\\Python39\\lib\\site-packages\\qiskit\\utils\\deprecation.py\u001b[0m in \u001b[0;36mwrapper\u001b[1;34m(*args, **kwargs)\u001b[0m\n\u001b[0;32m     60\u001b[0m             \u001b[1;32mif\u001b[0m \u001b[0mkwargs\u001b[0m\u001b[1;33m:\u001b[0m\u001b[1;33m\u001b[0m\u001b[1;33m\u001b[0m\u001b[0m\n\u001b[0;32m     61\u001b[0m                 \u001b[0m_rename_kwargs\u001b[0m\u001b[1;33m(\u001b[0m\u001b[0mfunc\u001b[0m\u001b[1;33m.\u001b[0m\u001b[0m__name__\u001b[0m\u001b[1;33m,\u001b[0m \u001b[0mkwargs\u001b[0m\u001b[1;33m,\u001b[0m \u001b[0mkwarg_map\u001b[0m\u001b[1;33m)\u001b[0m\u001b[1;33m\u001b[0m\u001b[1;33m\u001b[0m\u001b[0m\n\u001b[1;32m---> 62\u001b[1;33m             \u001b[1;32mreturn\u001b[0m \u001b[0mfunc\u001b[0m\u001b[1;33m(\u001b[0m\u001b[1;33m*\u001b[0m\u001b[0margs\u001b[0m\u001b[1;33m,\u001b[0m \u001b[1;33m**\u001b[0m\u001b[0mkwargs\u001b[0m\u001b[1;33m)\u001b[0m\u001b[1;33m\u001b[0m\u001b[1;33m\u001b[0m\u001b[0m\n\u001b[0m\u001b[0;32m     63\u001b[0m \u001b[1;33m\u001b[0m\u001b[0m\n\u001b[0;32m     64\u001b[0m         \u001b[1;32mreturn\u001b[0m \u001b[0mwrapper\u001b[0m\u001b[1;33m\u001b[0m\u001b[1;33m\u001b[0m\u001b[0m\n",
      "\u001b[1;32m~\\AppData\\Local\\Programs\\Python\\Python39\\lib\\site-packages\\qiskit\\providers\\aer\\backends\\aerbackend.py\u001b[0m in \u001b[0;36mrun\u001b[1;34m(self, circuits, validate, parameter_binds, **run_options)\u001b[0m\n\u001b[0;32m    206\u001b[0m         \u001b[1;31m# Optional validation\u001b[0m\u001b[1;33m\u001b[0m\u001b[1;33m\u001b[0m\u001b[0m\n\u001b[0;32m    207\u001b[0m         \u001b[1;32mif\u001b[0m \u001b[0mvalidate\u001b[0m\u001b[1;33m:\u001b[0m\u001b[1;33m\u001b[0m\u001b[1;33m\u001b[0m\u001b[0m\n\u001b[1;32m--> 208\u001b[1;33m             \u001b[0mself\u001b[0m\u001b[1;33m.\u001b[0m\u001b[0m_validate\u001b[0m\u001b[1;33m(\u001b[0m\u001b[0mqobj\u001b[0m\u001b[1;33m)\u001b[0m\u001b[1;33m\u001b[0m\u001b[1;33m\u001b[0m\u001b[0m\n\u001b[0m\u001b[0;32m    209\u001b[0m \u001b[1;33m\u001b[0m\u001b[0m\n\u001b[0;32m    210\u001b[0m         \u001b[1;31m# Optionally split the job\u001b[0m\u001b[1;33m\u001b[0m\u001b[1;33m\u001b[0m\u001b[0m\n",
      "\u001b[1;32m~\\AppData\\Local\\Programs\\Python\\Python39\\lib\\site-packages\\qiskit\\providers\\aer\\backends\\pulse_simulator.py\u001b[0m in \u001b[0;36m_validate\u001b[1;34m(self, qobj)\u001b[0m\n\u001b[0;32m    321\u001b[0m         \"\"\"\n\u001b[0;32m    322\u001b[0m         \u001b[1;32mif\u001b[0m \u001b[0mgetattr\u001b[0m\u001b[1;33m(\u001b[0m\u001b[0mqobj\u001b[0m\u001b[1;33m.\u001b[0m\u001b[0mconfig\u001b[0m\u001b[1;33m,\u001b[0m \u001b[1;34m'system_model'\u001b[0m\u001b[1;33m,\u001b[0m \u001b[1;32mNone\u001b[0m\u001b[1;33m)\u001b[0m \u001b[1;32mis\u001b[0m \u001b[1;32mNone\u001b[0m\u001b[1;33m:\u001b[0m\u001b[1;33m\u001b[0m\u001b[1;33m\u001b[0m\u001b[0m\n\u001b[1;32m--> 323\u001b[1;33m             \u001b[1;32mraise\u001b[0m \u001b[0mAerError\u001b[0m\u001b[1;33m(\u001b[0m\u001b[1;34m\"PulseSimulator requires a system model to run.\"\u001b[0m\u001b[1;33m)\u001b[0m\u001b[1;33m\u001b[0m\u001b[1;33m\u001b[0m\u001b[0m\n\u001b[0m\u001b[0;32m    324\u001b[0m \u001b[1;33m\u001b[0m\u001b[0m\n\u001b[0;32m    325\u001b[0m         \u001b[1;32mfor\u001b[0m \u001b[0mexp\u001b[0m \u001b[1;32min\u001b[0m \u001b[0mqobj\u001b[0m\u001b[1;33m.\u001b[0m\u001b[0mexperiments\u001b[0m\u001b[1;33m:\u001b[0m\u001b[1;33m\u001b[0m\u001b[1;33m\u001b[0m\u001b[0m\n",
      "\u001b[1;31mAerError\u001b[0m: 'PulseSimulator requires a system model to run.'"
     ]
    }
   ],
   "source": [
    "# run the simulation\n",
    "rabi_result = backend_sim.run(rabi_qobj, duffing_model).result()"
   ]
  },
  {
   "cell_type": "code",
   "execution_count": null,
   "metadata": {},
   "outputs": [],
   "source": [
    "# retrieve the data from the experiment\n",
    "rabi_values = helper.get_values_from_result(rabi_result, qubit)"
   ]
  },
  {
   "cell_type": "markdown",
   "metadata": {},
   "source": [
    "### Fit Results and Plot Rabi Experiment\n",
    "Once the rough frequency of the qubit is know, the Rabi experiment determines the amplitude of a $\\pi$-pulse, that is, the strength of a pulse needed to rotate the qubit around the Bloch sphere from the $|0\\rangle$ to $|1\\rangle$ states (or vice versa). We assume the rotation axis to be the $x$-axis."
   ]
  },
  {
   "cell_type": "code",
   "execution_count": null,
   "metadata": {},
   "outputs": [],
   "source": [
    "fit_params, y_fit = helper.fit_sinusoid(drive_amps, rabi_values, [1, 0, 0.5, 0])\n",
    "\n",
    "plt.scatter(drive_amps, rabi_values, color='white')\n",
    "plt.plot(drive_amps, y_fit, color='red')\n",
    "\n",
    "drive_period = fit_params[2] # get period of rabi oscillation\n",
    "\n",
    "plt.axvline(0, color='red', linestyle='--')\n",
    "plt.axvline(drive_period/2, color='red', linestyle='--')\n",
    "plt.xlabel(\"Drive amp [a.u.]\", fontsize=15)\n",
    "plt.ylabel(\"Measured signal [a.u.]\", fontsize=15)\n",
    "plt.show()\n",
    "\n",
    "print(\"Pi pulse amplitude is %f\"%float(drive_period/2))"
   ]
  },
  {
   "cell_type": "markdown",
   "metadata": {},
   "source": [
    "The $\\pi$ pulse amplitude is half the period of the sinusoid (a full period of $360^\\circ$ brings it back to zero, but we wish to take the qubit from the zero to one state). For the following experiment, we want a $\\pi/2$ pulse: we wish to place the qubit on the equator of the Bloch sphere. The following creates a pulse that rotates the qubit $\\pi/2$ ($90^\\circ$ degrees) around the Bloch sphere:"
   ]
  },
  {
   "cell_type": "code",
   "execution_count": null,
   "metadata": {},
   "outputs": [],
   "source": [
    "# x_90 is a concise way to say pi_over_2; i.e., an X rotation of 90 degrees\n",
    "x90_pulse = Gaussian(duration=drive_duration,\n",
    "                               amp=drive_period/4, \n",
    "                               sigma=drive_sigma,\n",
    "                               name='x90_pulse')"
   ]
  },
  {
   "cell_type": "markdown",
   "metadata": {},
   "source": [
    "## Ramsey Experiment\n",
    "\n",
    "The Ramsey experiment reveals the time dynamics of driving the qubit off-resonantly. In particular, we vary the delay between two $\\pi/2$-pulses."
   ]
  },
  {
   "cell_type": "code",
   "execution_count": null,
   "metadata": {},
   "outputs": [],
   "source": [
    "# Ramsey experiment parameters\n",
    "time_max_us = 0.4\n",
    "time_step_us = 0.0035\n",
    "times_us = np.arange(0.1, time_max_us, time_step_us)\n",
    "# Convert to units of dt\n",
    "delay_times_dt = times_us * us / dt"
   ]
  },
  {
   "cell_type": "markdown",
   "metadata": {},
   "source": [
    "## Graded Exercise 1b: Ramsey Schedule\n",
    "\n",
    "Add code to the method below in order to build a Ramsey pulse schedule. For a review of creating pulse schedules, see [the Qiskit Textbook's section on calibrating qubits](https://qiskit.org/textbook/ch-quantum-hardware/calibrating-qubits-pulse.html)."
   ]
  },
  {
   "cell_type": "code",
   "execution_count": null,
   "metadata": {},
   "outputs": [],
   "source": [
    "def build_ramsey_pulse_schedule(delay):\n",
    "    ### create a Ramsey pulse schedule (already done)\n",
    "    ### play an x90 pulse on the drive channel\n",
    "    ### play another x90 pulse after delay\n",
    "    ### add measurement pulse to schedule\n",
    "    \n",
    "    ramsey_schedule = pulse.Schedule(name='ramsey_experiment')\n",
    "    \n",
    "    ### HINT: include delay by adding it to the duration of the schedule\n",
    "    ###       round delay to nearest integer with int(delay)\n",
    "    \n",
    "    ### WRITE YOUR CODE BETWEEN THESE LINES - START\n",
    "\n",
    "    ramsey_schedule = pulse.Schedule()\n",
    "    ramsey_schedule += Play(x90_pulse, drive_chan)\n",
    "    ramsey_schedule += Play(x90_pulse, drive_chan) << ramsey_schedule.duration + int(delay)\n",
    "    ramsey_schedule += measure << ramsey_schedule.duration\n",
    "     \n",
    "    ### WRITE YOUR CODE BETWEEN THESE LINES - END\n",
    "    \n",
    "    return ramsey_schedule"
   ]
  },
  {
   "cell_type": "code",
   "execution_count": null,
   "metadata": {},
   "outputs": [],
   "source": [
    "# create schedules for Ramsey experiment \n",
    "ramsey_schedules = []\n",
    "for delay in delay_times_dt:\n",
    "    ramsey_schedules.append(build_ramsey_pulse_schedule(delay))"
   ]
  },
  {
   "cell_type": "code",
   "execution_count": null,
   "metadata": {},
   "outputs": [],
   "source": [
    "ramsey_schedules[-1].draw()"
   ]
  },
  {
   "cell_type": "code",
   "execution_count": null,
   "metadata": {
    "scrolled": false
   },
   "outputs": [],
   "source": [
    "# assemble the schedules into a Qobj\n",
    "# the helper will drive the pulses off-resonantly by an unknown value\n",
    "ramsey_qobj = assemble(**helper.get_params('ramsey', globals()))"
   ]
  },
  {
   "cell_type": "code",
   "execution_count": null,
   "metadata": {},
   "outputs": [],
   "source": [
    "# run the simulation\n",
    "ramsey_result = backend_sim.run(ramsey_qobj, duffing_model).result()"
   ]
  },
  {
   "cell_type": "code",
   "execution_count": null,
   "metadata": {},
   "outputs": [],
   "source": [
    "# retrieve the data from the experiment\n",
    "ramsey_values = helper.get_values_from_result(ramsey_result, qubit)"
   ]
  },
  {
   "cell_type": "code",
   "execution_count": null,
   "metadata": {},
   "outputs": [],
   "source": [
    "# off-resonance component\n",
    "fit_params, y_fit = helper.fit_sinusoid(times_us, ramsey_values, [1, 0.7, 0.1, 0.25])\n",
    "_, _, ramsey_period_us, _, = fit_params \n",
    "del_f_MHz = 1/ramsey_period_us # freq is MHz since times in us\n",
    "\n",
    "plt.scatter(times_us, np.real(ramsey_values), color='white')\n",
    "plt.plot(times_us, y_fit, color='red', label=f\"df = {del_f_MHz:.6f} MHz\")\n",
    "plt.xlim(np.min(times_us), np.max(times_us))\n",
    "plt.xlabel('Delay between X90 pulses [$\\mu$s]', fontsize=15)\n",
    "plt.ylabel('Measured Signal [a.u.]', fontsize=15)\n",
    "plt.title('Ramsey Experiment', fontsize=15)\n",
    "plt.legend(loc=3)\n",
    "plt.show()\n",
    "\n",
    "print(\"Drive is off-resonant by %f MHz\"%float(del_f_MHz))"
   ]
  },
  {
   "cell_type": "markdown",
   "metadata": {},
   "source": [
    "# Additional Resources\n",
    "\n",
    "- The Qiskit textbook sections that cover this material are\n",
    "  - [Introduction to Transmon Physics](https://qiskit.org/textbook/ch-quantum-hardware/transmon-physics.html)\n",
    "  - [Calibrating Qubits with Qiskit Pulse](https://qiskit.org/textbook/ch-quantum-hardware/calibrating-qubits-openpulse.html)\n",
    "\n",
    "- Watch the videos\n",
    "  - [Quantum Coding with Lauren Capelluto](https://www.youtube.com/watch?v=ZvipHRY-URs)\n",
    "  - [\"Qiskit Pulse: Programming Quantum Computers Through the Cloud with Pulses\"](https://www.youtube.com/watch?v=V_as5PufUiU) webinar at CQT by Nicholas Bronn"
   ]
  }
 ],
 "metadata": {
  "kernelspec": {
   "display_name": "Python 3 (ipykernel)",
   "language": "python",
   "name": "python3"
  },
  "language_info": {
   "codemirror_mode": {
    "name": "ipython",
    "version": 3
   },
   "file_extension": ".py",
   "mimetype": "text/x-python",
   "name": "python",
   "nbconvert_exporter": "python",
   "pygments_lexer": "ipython3",
   "version": "3.9.7"
  }
 },
 "nbformat": 4,
 "nbformat_minor": 4
}
