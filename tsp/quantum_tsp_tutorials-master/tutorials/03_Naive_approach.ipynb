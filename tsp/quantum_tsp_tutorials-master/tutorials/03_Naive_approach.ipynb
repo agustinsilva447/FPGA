{
 "cells": [
  {
   "cell_type": "markdown",
   "metadata": {},
   "source": [
    "# TSP + QAOA - naive approach"
   ]
  },
  {
   "cell_type": "markdown",
   "metadata": {},
   "source": [
    "We need to run this line to have a proper [bra-ket](https://en.wikipedia.org/wiki/Bra–ket_notation) formatting in markdown.\n",
    "$$\n",
    "\\newcommand{\\ket}[1]{\\left| #1 \\right\\rangle}\n",
    "\\newcommand{\\bra}[1]{\\left\\langle #1 \\right|}\n",
    "$$"
   ]
  },
  {
   "cell_type": "markdown",
   "metadata": {},
   "source": [
    "In the previous tutorials we learned what is the Traveling Salesman Problem and how to use QAOA to solve optimization problems.\n",
    "<br>\n",
    "Now it's finally time to solve TSP using quantum computing!"
   ]
  },
  {
   "cell_type": "markdown",
   "metadata": {},
   "source": [
    "In this tutorial you will learn the following:\n",
    "\n",
    "- How to encode TSP for QAOA\n",
    "- How to solve constrained optimization problems using QAOA"
   ]
  },
  {
   "cell_type": "markdown",
   "metadata": {},
   "source": [
    "I realize that it might be hard to grasp all the concepts here if you are new to the field. It sometimes gets pretty low-level and mathematical. But that's not because it's inherently difficult, rather:\n",
    "- we (or I at least) have not yet discovered how to explain it in the most efficient way\n",
    "- the QAOA was invented in 2014 - it's pretty new stuff. \n",
    "\n",
    "So don't get discouraged, asked others for help if you something seems too complicated or just get some rest and come back with a fresh mind. And remember - you're pioneer!"
   ]
  },
  {
   "cell_type": "markdown",
   "metadata": {},
   "source": [
    "## Encoding the problem"
   ]
  },
  {
   "cell_type": "markdown",
   "metadata": {},
   "source": [
    "One of the important decisions we need to make with any problem we encounter is how to encode our input and output data. What will be the good choice depends on many factors:\n",
    "- what algorithm we use?\n",
    "- do we have any constraints (e.g. amount of data, memory)?\n",
    "- what hardware do we use?\n",
    "- many others"
   ]
  },
  {
   "cell_type": "markdown",
   "metadata": {},
   "source": [
    "One of the most convenient way of encoding solution to TSP is the one we used in the first part:\n",
    "\n",
    "0 -> 1 -> 2 -> 3 , which for Python translates into `[0,1,2,3]` or `(0,1,2,3)`.\n",
    "\n",
    "This means that we start from the city 0, then go to 1 and so on.\n",
    "\n",
    "However, in case of quantum computers, one of the main constraints is that we need to use binary representation. Qubits can take only 0 or 1 values during the measurement, so this format won't work."
   ]
  },
  {
   "cell_type": "markdown",
   "metadata": {},
   "source": [
    "We know that at any given time we can be only in one city. Hence, for N cities we have N time slots.\n",
    "<br>\n",
    "Using binary representation, we could use N strings (representing time slots) of N bits (representing cities), where the active bit in each string is the city that we visit.\n",
    "\n",
    "So in the case of [0,1,2,3] we will get the following matrix (row represents time slots, columns - cities):\n",
    "\n",
    "$\\begin{bmatrix}\n",
    "1 & 0 & 0 & 0 \\\\\n",
    "0 & 1 & 0 & 0 \\\\\n",
    "0 & 0 & 1 & 0 \\\\\n",
    "0 & 0 & 0 & 1 \\\\\n",
    "\\end{bmatrix}$\n",
    "\n",
    "Which translates into the following string of bits:\n",
    "\n",
    "`[1,0,0,0, 0,1,0,0, 0,0,1,0, 0,0,0,1]`\n"
   ]
  },
  {
   "cell_type": "markdown",
   "metadata": {},
   "source": [
    "This is a little bit unwieldy, so we will use the following helper methods:"
   ]
  },
  {
   "cell_type": "code",
   "execution_count": 1,
   "metadata": {},
   "outputs": [],
   "source": [
    "import numpy as np\n",
    "%matplotlib inline\n",
    "\n",
    "\n",
    "def points_order_to_binary_state(points_order):\n",
    "    \"\"\"\n",
    "    Transforms the order of points from the standard representation: [0, 1, 2],\n",
    "    to the binary one: [1,0,0,0,1,0,0,0,1]\n",
    "    \"\"\"\n",
    "    number_of_points = len(points_order)\n",
    "    binary_state = np.zeros((len(points_order))**2)\n",
    "    for j in range(len(points_order)):\n",
    "        p = points_order[j]\n",
    "        binary_state[(number_of_points) * (j) + (p)] = 1\n",
    "    return binary_state\n",
    "\n",
    "def binary_state_to_points_order(binary_state):\n",
    "    \"\"\"\n",
    "    Transforms the the order of points from the binary representation: [1,0,0,0,1,0,0,0,1],\n",
    "    to the binary one: [0, 1, 2]\n",
    "    \"\"\"\n",
    "    points_order = []\n",
    "    number_of_points = int(np.sqrt(len(binary_state)))\n",
    "    for p in range(number_of_points):\n",
    "        for j in range(number_of_points):\n",
    "            if binary_state[(number_of_points) * p + j] == 1:\n",
    "                points_order.append(j)\n",
    "    return points_order"
   ]
  },
  {
   "cell_type": "markdown",
   "metadata": {},
   "source": [
    "Let's see if it works on an example:"
   ]
  },
  {
   "cell_type": "code",
   "execution_count": 2,
   "metadata": {},
   "outputs": [
    {
     "name": "stdout",
     "output_type": "stream",
     "text": [
      "Binary representation of  [0, 1, 2] is [1. 0. 0. 0. 1. 0. 0. 0. 1.]\n",
      "[0, 1, 2] should be equal to [0, 1, 2]\n"
     ]
    }
   ],
   "source": [
    "points_order = [0, 1, 2]\n",
    "binary_state = points_order_to_binary_state(points_order)\n",
    "points_order_again = binary_state_to_points_order(binary_state)\n",
    "\n",
    "print(\"Binary representation of \", points_order, \"is\", binary_state)\n",
    "print(points_order_again, \"should be equal to\", points_order)"
   ]
  },
  {
   "cell_type": "markdown",
   "metadata": {},
   "source": [
    "## Solving TSP"
   ]
  },
  {
   "cell_type": "markdown",
   "metadata": {},
   "source": [
    "Now that we know how to encode our problem, we will use `ForestTSPSolverNaive` class to solve it. We will start with 3 cities since the calcultions are faster this way. We will go to more cities when we are sure that our code is working properly."
   ]
  },
  {
   "cell_type": "code",
   "execution_count": 3,
   "metadata": {},
   "outputs": [],
   "source": [
    "from scripts.forest_tsp_solver_naive import ForestTSPSolverNaive"
   ]
  },
  {
   "cell_type": "code",
   "execution_count": 4,
   "metadata": {},
   "outputs": [
    {
     "data": {
      "image/png": "[encoded data removed]",
      "text/plain": [
       "<Figure size 432x288 with 1 Axes>"
      ]
     },
     "metadata": {
      "needs_background": "light"
     },
     "output_type": "display_data"
    }
   ],
   "source": [
    "from scripts import utilities\n",
    "from scripts import plots\n",
    "import matplotlib.pyplot as plt\n",
    "# cities = utilities.create_cities(3)\n",
    "cities = np.array([[0, 4],[0, 0],[3, 0]])\n",
    "distance_matrix = utilities.get_distance_matrix(cities)\n",
    "plots.plot_cities(cities)\n",
    "plt.show()"
   ]
  },
  {
   "cell_type": "code",
   "execution_count": 5,
   "metadata": {},
   "outputs": [
    {
     "ename": "AttributeError",
     "evalue": "module 'pyquil.api' has no attribute 'QVMConnection'",
     "output_type": "error",
     "traceback": [
      "\u001b[1;31m---------------------------------------------------------------------------\u001b[0m",
      "\u001b[1;31mAttributeError\u001b[0m                            Traceback (most recent call last)",
      "\u001b[1;32m~\\AppData\\Local\\Temp/ipykernel_7164/2285065991.py\u001b[0m in \u001b[0;36m<module>\u001b[1;34m\u001b[0m\n\u001b[1;32m----> 1\u001b[1;33m \u001b[0mtsp_solver\u001b[0m \u001b[1;33m=\u001b[0m \u001b[0mForestTSPSolverNaive\u001b[0m\u001b[1;33m(\u001b[0m\u001b[0mdistance_matrix\u001b[0m\u001b[1;33m,\u001b[0m \u001b[0muse_constraints\u001b[0m\u001b[1;33m=\u001b[0m\u001b[1;32mTrue\u001b[0m\u001b[1;33m)\u001b[0m\u001b[1;33m\u001b[0m\u001b[1;33m\u001b[0m\u001b[0m\n\u001b[0m\u001b[0;32m      2\u001b[0m \u001b[0msolution\u001b[0m\u001b[1;33m,\u001b[0m \u001b[0mnaive_distribution\u001b[0m \u001b[1;33m=\u001b[0m \u001b[0mtsp_solver\u001b[0m\u001b[1;33m.\u001b[0m\u001b[0msolve_tsp\u001b[0m\u001b[1;33m(\u001b[0m\u001b[1;33m)\u001b[0m\u001b[1;33m\u001b[0m\u001b[1;33m\u001b[0m\u001b[0m\n\u001b[0;32m      3\u001b[0m \u001b[0mprint\u001b[0m\u001b[1;33m(\u001b[0m\u001b[1;34m\"The solution is:\"\u001b[0m\u001b[1;33m,\u001b[0m \u001b[0msolution\u001b[0m\u001b[1;33m)\u001b[0m\u001b[1;33m\u001b[0m\u001b[1;33m\u001b[0m\u001b[0m\n",
      "\u001b[1;32m~\\Desktop\\Github\\FPGA\\tsp\\quantum_tsp_tutorials-master\\tutorials\\scripts\\forest_tsp_solver_naive.py\u001b[0m in \u001b[0;36m__init__\u001b[1;34m(self, distance_matrix, steps, ftol, xtol, use_constraints)\u001b[0m\n\u001b[0;32m     15\u001b[0m \u001b[1;33m\u001b[0m\u001b[0m\n\u001b[0;32m     16\u001b[0m         \u001b[0mself\u001b[0m\u001b[1;33m.\u001b[0m\u001b[0mdistance_matrix\u001b[0m \u001b[1;33m=\u001b[0m \u001b[0mdistance_matrix\u001b[0m\u001b[1;33m\u001b[0m\u001b[1;33m\u001b[0m\u001b[0m\n\u001b[1;32m---> 17\u001b[1;33m         \u001b[0mself\u001b[0m\u001b[1;33m.\u001b[0m\u001b[0mqvm\u001b[0m \u001b[1;33m=\u001b[0m \u001b[0mapi\u001b[0m\u001b[1;33m.\u001b[0m\u001b[0mQVMConnection\u001b[0m\u001b[1;33m(\u001b[0m\u001b[1;33m)\u001b[0m\u001b[1;33m\u001b[0m\u001b[1;33m\u001b[0m\u001b[0m\n\u001b[0m\u001b[0;32m     18\u001b[0m         \u001b[0mself\u001b[0m\u001b[1;33m.\u001b[0m\u001b[0msteps\u001b[0m \u001b[1;33m=\u001b[0m \u001b[0msteps\u001b[0m\u001b[1;33m\u001b[0m\u001b[1;33m\u001b[0m\u001b[0m\n\u001b[0;32m     19\u001b[0m         \u001b[0mself\u001b[0m\u001b[1;33m.\u001b[0m\u001b[0mftol\u001b[0m \u001b[1;33m=\u001b[0m \u001b[0mftol\u001b[0m\u001b[1;33m\u001b[0m\u001b[1;33m\u001b[0m\u001b[0m\n",
      "\u001b[1;31mAttributeError\u001b[0m: module 'pyquil.api' has no attribute 'QVMConnection'"
     ]
    }
   ],
   "source": [
    "tsp_solver = ForestTSPSolverNaive(distance_matrix, use_constraints=True)\n",
    "solution, naive_distribution = tsp_solver.solve_tsp()\n",
    "print(\"The solution is:\", solution)"
   ]
  },
  {
   "cell_type": "markdown",
   "metadata": {},
   "source": [
    "Wait a minute... This doesn't make sense at all. We wanted to get `[0, 1, 2]`, and I got `[0, 1, 2, 2]`. \n",
    "(Since the result is probabilistic, you might have gotten something different. Also every time I update this notebook I get something different, so sorry for some inconsistencies here.)\n",
    "<br>\n",
    "Maybe something is wrong with the `binary_state_to_points_order` in our solver? We should investigate the binary string."
   ]
  },
  {
   "cell_type": "code",
   "execution_count": 6,
   "metadata": {},
   "outputs": [
    {
     "name": "stdout",
     "output_type": "stream",
     "text": [
      "Your binary solution is: (1, 0, 0, 1, 0, 0, 0, 0, 1)\n",
      "My initial binary solution is: (1, 1, 1, 0, 0, 0, 0, 0, 1)\n"
     ]
    }
   ],
   "source": [
    "print(\"Your binary solution is:\", tsp_solver.most_frequent_string)\n",
    "print(\"My initial binary solution is:\", (1,1,1,0,0,0,0,0,1))"
   ]
  },
  {
   "cell_type": "markdown",
   "metadata": {},
   "source": [
    "This solution doesn't make sense at all! This string means, that at t=0 we are in all the cities at the same time, then at t=1 we are not present anywhere and at t=2 we are in the city 2.\n",
    "<br>\n",
    "It's not a surprise, that our order of traveling looks weird."
   ]
  },
  {
   "cell_type": "markdown",
   "metadata": {},
   "source": [
    "At this point you may have noticed something suspicious with our class. It's called `ForestTSPSolverNaive`.\n",
    "<br>\n",
    "\"Naive\"... It doesn't sound very promising to me. Let's see why I named it naive, what's actually inside it and why we got such a crappy solution."
   ]
  },
  {
   "cell_type": "markdown",
   "metadata": {},
   "source": [
    "## Creating cost operators"
   ]
  },
  {
   "cell_type": "markdown",
   "metadata": {},
   "source": [
    "As you remember from the previous part, in order to make QAOA solve the problem we want, we need to translate it into its native language - language of Pauli operators.\n",
    "<br>\n",
    "What we need to do for the TSP is pretty similar to what we have done for MaxCut, so let's code it."
   ]
  },
  {
   "cell_type": "code",
   "execution_count": 6,
   "metadata": {},
   "outputs": [
    {
     "name": "stdout",
     "output_type": "stream",
     "text": [
      "[[0. 4. 5.]\n",
      " [4. 0. 3.]\n",
      " [5. 3. 0.]]\n"
     ]
    }
   ],
   "source": [
    "distance_matrix = utilities.get_distance_matrix(cities)\n",
    "print(distance_matrix)\n",
    "number_of_cities = len(cities)"
   ]
  },
  {
   "cell_type": "markdown",
   "metadata": {},
   "source": [
    "The last time we learned two useful equations for MaxCut which will guide us now. \n",
    "<br>\n",
    "One for the classical cost function:\n",
    "<br>\n",
    "$C_{total} = \\sum C_{ij} = \\sum \\frac{1}{2} w_{ij} (1 - z_i z_j) $,\n",
    "\n",
    "And one showing how to construct the quantum cost operator:\n",
    "<br>\n",
    "$H_{cost} = \\sum \\frac{1}{2} w_{ij} (\\mathbb{1} - \\sigma^z_i \\sigma^z_j$)"
   ]
  },
  {
   "cell_type": "markdown",
   "metadata": {},
   "source": [
    "However, for TSP it's a little bit more complicated, since $i$ and $j$ correspond to indices of qubits, not the indices of cities.\n",
    "<br>\n",
    "I tried to write a nice mathematical formula for you, but after several minutes I have not produced anything concise and elegant.\n",
    "I guess that I'm so spoiled with the programming that it's much more intuitive for me to just show you how it works in code ;)\n"
   ]
  },
  {
   "cell_type": "code",
   "execution_count": 7,
   "metadata": {},
   "outputs": [
    {
     "name": "stdout",
     "output_type": "stream",
     "text": [
      "City 0 to 1 at t = 0 costs -2.0 Qubits: 0 4\n",
      "City 0 to 1 at t = 1 costs -2.0 Qubits: 3 7\n",
      "City 0 to 2 at t = 0 costs -2.5 Qubits: 0 5\n",
      "City 0 to 2 at t = 1 costs -2.5 Qubits: 3 8\n",
      "City 1 to 2 at t = 0 costs -1.5 Qubits: 1 5\n",
      "City 1 to 2 at t = 1 costs -1.5 Qubits: 4 8\n"
     ]
    }
   ],
   "source": [
    "from pyquil.paulis import PauliTerm\n",
    "\n",
    "cost_operators = []\n",
    "number_of_cities = len(distance_matrix)\n",
    "\n",
    "for i in range(number_of_cities):\n",
    "    for j in range(i, number_of_cities):\n",
    "        for t in range(number_of_cities - 1):\n",
    "            weight = -distance_matrix[i][j]/2\n",
    "            if distance_matrix[i][j] != 0:\n",
    "                qubit_1 = t * number_of_cities + i\n",
    "                qubit_2 = (t + 1) * number_of_cities + j\n",
    "                cost_operators.append(PauliTerm(\"I\", 0, weight) - PauliTerm(\"Z\", qubit_1, weight) * PauliTerm(\"Z\", qubit_2))\n",
    "                print(\"City\", i, \"to\", j, \"at t =\", t, \"costs\", weight, \"Qubits:\", qubit_1, qubit_2)"
   ]
  },
  {
   "cell_type": "markdown",
   "metadata": {},
   "source": [
    "There are several things going on here:\n",
    "1. We have \"-\" sign before Z terms - that's because we want to get the shortest, not the longest path.\n",
    "2. In principle we could omit the $\\frac{1}{2}$ term. Since constants don't influence the optimization process, we can do that, though it's good to be consistent with the equations, to avoid confusion, so we finally included it.\n",
    "3. We need to include every cost (N-1) times - once for each step between the cities. 3 time slots -> 2 steps.\n",
    "4. It's hard to see right away why we use these qubits and not the others. Take your time to understand where are those two lines defining `qubit_1` and `qubit_2` coming from. Pen and paper is useful for that :)\n",
    "5. We ommited terms with zeros - well, it didn't cost us anything ;)"
   ]
  },
  {
   "cell_type": "markdown",
   "metadata": {},
   "source": [
    "And this is how the cost operators look like. As you can see, the `Z` terms correspond to the qubit indices above."
   ]
  },
  {
   "cell_type": "code",
   "execution_count": 9,
   "metadata": {},
   "outputs": [
    {
     "name": "stdout",
     "output_type": "stream",
     "text": [
      "(-2+0j)*I + (2-0j)*Z0*Z4\n",
      "(-2+0j)*I + (2-0j)*Z3*Z7\n",
      "(-2.5+0j)*I + (2.5-0j)*Z0*Z5\n",
      "(-2.5+0j)*I + (2.5-0j)*Z3*Z8\n",
      "(-1.5+0j)*I + (1.5-0j)*Z1*Z5\n",
      "(-1.5+0j)*I + (1.5-0j)*Z4*Z8\n"
     ]
    }
   ],
   "source": [
    "for single_cost_operator in cost_operators:\n",
    "    print(single_cost_operator)"
   ]
  },
  {
   "cell_type": "markdown",
   "metadata": {},
   "source": [
    "Ok, so this is basically the code we used (you can check out `forest_tsp_solver_naive.py` in `scripts` directory). \n",
    "But it doesn't answer the question, why the results we got don't make sense at all.\n",
    "\n",
    "Take your time to solve this puzzle by yourself and when you are ready, go to the next section"
   ]
  },
  {
   "cell_type": "markdown",
   "metadata": {},
   "source": [
    "I leave some blank space, so you can try to solve this mystery by yourself, without the next header spoiling it.\n",
    "<br><br><br><br><br><br><br><br><br><br><br><br><br><br><br><br>\n",
    "<br><br><br><br><br><br><br><br><br><br><br><br><br><br><br><br>"
   ]
  },
  {
   "cell_type": "markdown",
   "metadata": {},
   "source": [
    "## Spoiler-free header (just in case)"
   ]
  },
  {
   "cell_type": "markdown",
   "metadata": {},
   "source": [
    "One of the main reasons why it didn't work is that we forgot about the constraints.\n",
    "<br>\n",
    "Constraints in TSP are pretty important and there are two of them:\n",
    "- we need to visit each city once\n",
    "- in every moment we need to be in exactly one city\n",
    "\n",
    "It wasn't immediately obvious to me how to encode that into our problem, so I used a standard optimization approach - adding a penalty."
   ]
  },
  {
   "cell_type": "markdown",
   "metadata": {},
   "source": [
    "### What is a penalty?"
   ]
  },
  {
   "cell_type": "markdown",
   "metadata": {},
   "source": [
    "Let's say we want to find the minimum of function $x^2$, but we want only values higher than 2."
   ]
  },
  {
   "cell_type": "code",
   "execution_count": 8,
   "metadata": {},
   "outputs": [
    {
     "data": {
      "image/png": "[encoded data removed]",
      "text/plain": [
       "<Figure size 432x288 with 1 Axes>"
      ]
     },
     "metadata": {
      "needs_background": "light"
     },
     "output_type": "display_data"
    }
   ],
   "source": [
    "x = np.linspace(0, 10, 1000)\n",
    "y = x**2\n",
    "plt.plot(x,y)\n",
    "plt.vlines(2, 0, 100)\n",
    "plt.show()"
   ]
  },
  {
   "cell_type": "markdown",
   "metadata": {},
   "source": [
    "It's hard to do that using some simple classical optimization methods which work only for unconstrained problems. However, we can artificially add a penalty, for values lower than 2 or higher than 8:"
   ]
  },
  {
   "cell_type": "code",
   "execution_count": 9,
   "metadata": {},
   "outputs": [],
   "source": [
    "penalty = np.piecewise(x, [x<2, x>=2], [lambda x: 100*(-x+2)**3, 0])"
   ]
  },
  {
   "cell_type": "code",
   "execution_count": 10,
   "metadata": {},
   "outputs": [
    {
     "data": {
      "image/png": "[encoded data removed]",
      "text/plain": [
       "<Figure size 432x288 with 1 Axes>"
      ]
     },
     "metadata": {
      "needs_background": "light"
     },
     "output_type": "display_data"
    }
   ],
   "source": [
    "plt.plot(x,y)\n",
    "plt.plot(x,penalty)\n",
    "plt.vlines(2, 0, 100)\n",
    "plt.ylim([0,100])\n",
    "plt.show()"
   ]
  },
  {
   "cell_type": "markdown",
   "metadata": {},
   "source": [
    "So now we solve for a slightly modified function, which has additional cost for values lower than 2:"
   ]
  },
  {
   "cell_type": "code",
   "execution_count": 11,
   "metadata": {},
   "outputs": [
    {
     "data": {
      "image/png": "[encoded data removed]",
      "text/plain": [
       "<Figure size 432x288 with 1 Axes>"
      ]
     },
     "metadata": {
      "needs_background": "light"
     },
     "output_type": "display_data"
    }
   ],
   "source": [
    "plt.plot(x,y + penalty)\n",
    "plt.vlines(2, 0, 100)\n",
    "plt.ylim([0,100])\n",
    "plt.show()"
   ]
  },
  {
   "cell_type": "markdown",
   "metadata": {},
   "source": [
    "This function has minimum at roughly:"
   ]
  },
  {
   "cell_type": "code",
   "execution_count": 12,
   "metadata": {},
   "outputs": [
    {
     "data": {
      "text/plain": [
       "1.8918918918918919"
      ]
     },
     "execution_count": 12,
     "metadata": {},
     "output_type": "execute_result"
    }
   ],
   "source": [
    "x[np.argmin(y+penalty)]"
   ]
  },
  {
   "cell_type": "markdown",
   "metadata": {},
   "source": [
    "It's not ideal, but:\n",
    "- 1.89 is a better answer than 0.\n",
    "- you can make it work much better by choosing a different penalty function.\n",
    "- if you consider only the integers, the minimum is actually at 2."
   ]
  },
  {
   "cell_type": "markdown",
   "metadata": {},
   "source": [
    "You can read more about this approach here: https://www.rose-hulman.edu/~bryan/lottamath/penalty.pdf"
   ]
  },
  {
   "cell_type": "markdown",
   "metadata": {},
   "source": [
    "Going back to our case we have some constraints and we want to create a penalty function which will increase cost function for all the solution which don't satisfy the constraints. "
   ]
  },
  {
   "cell_type": "markdown",
   "metadata": {},
   "source": [
    "### Matrix representation of gates"
   ]
  },
  {
   "cell_type": "markdown",
   "metadata": {},
   "source": [
    "At this point, we will find the matrix representation of Pauli operators quite useful, so let's see how they work before we go deep into encoding the constraints.\n",
    "<br>"
   ]
  },
  {
   "cell_type": "markdown",
   "metadata": {},
   "source": [
    "So far, we used the `Z` operators for assigning costs. Take a look at the following code from the MaxCut example.\n",
    "```\n",
    "for i, j in graph.edges():\n",
    "    cost_operators.append(PauliTerm(\"Z\", i, 0.5)*PauliTerm(\"Z\", j) + PauliTerm(\"I\", 0, -0.5))\n",
    "```\n",
    "\n",
    "What we wanted to achieve? We wanted to mimic the classical version of adding +1 if it's inside our solution or adding -1 if it's not.\n",
    "<br>\n",
    "So in order to do that we need to find the combination of pauli operators, which will add +1 for the correct solutions and add -1 for the incorrect ones. +1/-1 values will be of course parametrized.\n",
    "<br>\n",
    "It will be helpful to see how the matrix representation of Pauli operators looks like."
   ]
  },
  {
   "cell_type": "markdown",
   "metadata": {},
   "source": [
    "A single 'Z' matrix is given by the following matrix:\n",
    "<br>\n",
    "$Z_1 = \\begin{bmatrix}\n",
    "1 & 0 \\\\\n",
    "0 & -1 \\\\\n",
    "\\end{bmatrix}$\n",
    "<br>\n",
    "\n",
    "First column/row represents $\\ket{0}$ and the second one $\\ket{1}$.\n",
    "So if we apply $Z_1$ to given quantum state, it will change $\\ket{0}$ into $\\ket{0}$ (so no change) and $\\ket{1}$ into $-\\ket{1}$."
   ]
  },
  {
   "cell_type": "markdown",
   "metadata": {},
   "source": [
    "When we do an operation $Z_1 Z_2$, we actually do $Z_1 \\otimes Z_2$, which is a tensor multiplication. It's pretty straightforward to calculate, so don't be scared of the \"tensor\" word here. We just create a new matrix (in our case 4x4) where every element of the first matrix is multiplied by the second matrix. It's easier to get it with an example:"
   ]
  },
  {
   "cell_type": "markdown",
   "metadata": {},
   "source": [
    "Given:\n",
    "    $\\begin{bmatrix}\n",
    "    a_{1,1} & a_{1,2} \\\\\n",
    "    a_{2,1} & a_{2,2} \\\\\n",
    "  \\end{bmatrix}, \\qquad \\begin{bmatrix}\n",
    "    b_{1,1} & b_{1,2} \\\\\n",
    "    b_{2,1} & b_{2,2} \\\\\n",
    "  \\end{bmatrix}, $\n",
    "\n",
    "The tensor product of these two is:\n",
    "\n",
    "$\n",
    "  \\begin{bmatrix}\n",
    "    a_{1,1} & a_{1,2} \\\\\n",
    "    a_{2,1} & a_{2,2} \\\\\n",
    "  \\end{bmatrix}\n",
    "\\otimes\n",
    "  \\begin{bmatrix}\n",
    "    b_{1,1} & b_{1,2} \\\\\n",
    "    b_{2,1} & b_{2,2} \\\\\n",
    "  \\end{bmatrix}\n",
    "=\n",
    "  \\begin{bmatrix}\n",
    "    a_{1,1}  \\begin{bmatrix}\n",
    "              b_{1,1} & b_{1,2} \\\\\n",
    "              b_{2,1} & b_{2,2} \\\\\n",
    "            \\end{bmatrix} & a_{1,2}  \\begin{bmatrix}\n",
    "                                      b_{1,1} & b_{1,2} \\\\\n",
    "                                      b_{2,1} & b_{2,2} \\\\\n",
    "                                    \\end{bmatrix} \\\\\n",
    "     & \\\\\n",
    "    a_{2,1}  \\begin{bmatrix}\n",
    "              b_{1,1} & b_{1,2} \\\\\n",
    "              b_{2,1} & b_{2,2} \\\\\n",
    "            \\end{bmatrix} & a_{2,2}  \\begin{bmatrix}\n",
    "                                      b_{1,1} & b_{1,2} \\\\\n",
    "                                      b_{2,1} & b_{2,2} \\\\\n",
    "                                    \\end{bmatrix} \\\\\n",
    "  \\end{bmatrix}\n",
    "=\n",
    "  \\begin{bmatrix}\n",
    "    a_{1,1} b_{1,1} & a_{1,1} b_{1,2} & a_{1,2} b_{1,1} & a_{1,2} b_{1,2} \\\\\n",
    "    a_{1,1} b_{2,1} & a_{1,1} b_{2,2} & a_{1,2} b_{2,1} & a_{1,2} b_{2,2} \\\\\n",
    "    a_{2,1} b_{1,1} & a_{2,1} b_{1,2} & a_{2,2} b_{1,1} & a_{2,2} b_{1,2} \\\\\n",
    "    a_{2,1} b_{2,1} & a_{2,1} b_{2,2} & a_{2,2} b_{2,1} & a_{2,2} b_{2,2} \\\\\n",
    "  \\end{bmatrix}\n",
    "$\n"
   ]
  },
  {
   "cell_type": "markdown",
   "metadata": {},
   "source": [
    "It may seem tedious, but we deal mainly with zeros and ones, so it's not that bad :)\n",
    "<br>\n",
    "So back to our Pauli operators. If we do $Z_1 \\otimes Z_2$ we have:\n",
    "\n",
    "$\n",
    "Z_1 \\otimes Z_2 = \n",
    "  \\begin{bmatrix}\n",
    "    1 & 0 \\\\\n",
    "    0 & -1 \\\\\n",
    "  \\end{bmatrix}\n",
    "\\otimes\n",
    "  \\begin{bmatrix}\n",
    "    1 & 0 \\\\\n",
    "    0 & -1 \\\\\n",
    "  \\end{bmatrix}\n",
    "=\n",
    "  \\begin{bmatrix}\n",
    "    1  \\begin{bmatrix}\n",
    "              1 & 0 \\\\\n",
    "              0 & -1 \\\\\n",
    "            \\end{bmatrix} & 0  \\begin{bmatrix}\n",
    "                                      1 & 0 \\\\\n",
    "                                      0 & -1 \\\\\n",
    "                                    \\end{bmatrix} \\\\\n",
    "     & \\\\\n",
    "    0  \\begin{bmatrix}\n",
    "              1 & 0 \\\\\n",
    "              0 & -1 \\\\\n",
    "            \\end{bmatrix} & -1  \\begin{bmatrix}\n",
    "                                      1 & 0 \\\\\n",
    "                                      0 & -1 \\\\\n",
    "                                    \\end{bmatrix} \\\\\n",
    "  \\end{bmatrix}\n",
    "=\n",
    "  \\begin{bmatrix}\n",
    "    1 & 0 & 0 & 0 \\\\\n",
    "    0 & -1 & 0 & 0  \\\\\n",
    "    0 & 0 & -1 & 0 \\\\\n",
    "    0 & 0 & 0 & 1 \\\\\n",
    "  \\end{bmatrix}\n",
    "$"
   ]
  },
  {
   "cell_type": "markdown",
   "metadata": {},
   "source": [
    "If we once again take a look at our cost operator definition from MaxCut:\n",
    "<br>\n",
    "$H_{cost} = \\sum \\frac{1}{2} w_{ij} (\\mathbb{1} - \\sigma^z_i \\sigma^z_j$),\n",
    "<br>\n",
    "we can now write it in term of matrices. Let's do that for one pair:\n",
    "\n",
    "$\n",
    "\\mathbb{1} - Z_1 \\otimes Z_2 \n",
    "= \n",
    "  \\begin{bmatrix}\n",
    "    1 & 0 & 0 & 0 \\\\\n",
    "    0 & 1 & 0 & 0  \\\\\n",
    "    0 & 0 & 1 & 0 \\\\\n",
    "    0 & 0 & 0 & 1 \\\\\n",
    "  \\end{bmatrix}\n",
    "-\n",
    "  \\begin{bmatrix}\n",
    "    1 & 0 & 0 & 0 \\\\\n",
    "    0 & -1 & 0 & 0  \\\\\n",
    "    0 & 0 & -1 & 0 \\\\\n",
    "    0 & 0 & 0 & 1 \\\\\n",
    "  \\end{bmatrix}\n",
    "=\n",
    "  \\begin{bmatrix}\n",
    "    0 & 0 & 0 & 0 \\\\\n",
    "    0 & 2 & 0 & 0  \\\\\n",
    "    0 & 0 & 2 & 0 \\\\\n",
    "    0 & 0 & 0 & 0 \\\\\n",
    "  \\end{bmatrix}\n",
    "$"
   ]
  },
  {
   "cell_type": "markdown",
   "metadata": {},
   "source": [
    "This means, that having states $\\ket{00}$ and $\\ket{11}$ is associated with 0, so it doesn't add any value to our cost function. And if we have state $\\ket{01}$ or $\\ket{10}$, it does."
   ]
  },
  {
   "cell_type": "markdown",
   "metadata": {},
   "source": [
    "In the beginning it might be confusing which row/colum represents which state. For 2x2 matrix it's (in order) $\\ket{00}$, $\\ket{01}$, $\\ket{10}$, $\\ket{11}$ - if you don't know why, follow carefully which states are getting multiplied by which in the tensor product."
   ]
  },
  {
   "cell_type": "markdown",
   "metadata": {},
   "source": [
    "You can experiment with it using python using the `np.kron` function:"
   ]
  },
  {
   "cell_type": "code",
   "execution_count": 15,
   "metadata": {},
   "outputs": [
    {
     "data": {
      "text/plain": [
       "array([[0., 0., 0., 0.],\n",
       "       [0., 2., 0., 0.],\n",
       "       [0., 0., 2., 0.],\n",
       "       [0., 0., 0., 0.]])"
      ]
     },
     "execution_count": 15,
     "metadata": {},
     "output_type": "execute_result"
    }
   ],
   "source": [
    "import numpy as np\n",
    "Z = np.array([[1,0],[0,-1]])\n",
    "np.eye(4) - np.kron(Z,Z)"
   ]
  },
  {
   "cell_type": "markdown",
   "metadata": {},
   "source": [
    "### Creating penalty matrices"
   ]
  },
  {
   "cell_type": "markdown",
   "metadata": {},
   "source": [
    "What does it mean for us?\n",
    "<br>\n",
    "That if we need to find a way to construct such matrix using the Pauli gates that it will add huge penalty for the states we don't want."
   ]
  },
  {
   "cell_type": "markdown",
   "metadata": {},
   "source": [
    "As mentioned earlier, there are two types of constraints we have:\n",
    "- we need to visit each city once\n",
    "- in every moment we need to be in exactly one city\n",
    "\n",
    "Let's take an example of 3 cities to make it clear how to encode these."
   ]
  },
  {
   "cell_type": "markdown",
   "metadata": {},
   "source": [
    "Our solution will be the following vector state: \n",
    "<br>\n",
    "$\\ket{\\psi_{sol}} = \\ket{q_1 q_2 q_3 q_4 q_5 q_6 q_7 q_8 q_9}$\n",
    "<br>\n",
    "Let's say, that at $t=0$ we want to visit only one city. This means, that the only possible states are $\\ket{100}$, $\\ket{010}$ and $\\ket{001}$, so we want to penalize all the other states.\n",
    "It turns out, that the following operator almost gives us what we want:"
   ]
  },
  {
   "cell_type": "code",
   "execution_count": 16,
   "metadata": {},
   "outputs": [
    {
     "name": "stdout",
     "output_type": "stream",
     "text": [
      "Product of Z1, Z2 and Z3\n",
      "[[ 1  0  0  0  0  0  0  0]\n",
      " [ 0 -1  0  0  0  0  0  0]\n",
      " [ 0  0 -1  0  0  0  0  0]\n",
      " [ 0  0  0  1  0  0  0  0]\n",
      " [ 0  0  0  0 -1  0  0  0]\n",
      " [ 0  0  0  0  0  1  0  0]\n",
      " [ 0  0  0  0  0  0  1  0]\n",
      " [ 0  0  0  0  0  0  0 -1]]\n",
      "Our operator\n",
      "[[1. 0. 0. 0. 0. 0. 0. 0.]\n",
      " [0. 0. 0. 0. 0. 0. 0. 0.]\n",
      " [0. 0. 0. 0. 0. 0. 0. 0.]\n",
      " [0. 0. 0. 1. 0. 0. 0. 0.]\n",
      " [0. 0. 0. 0. 0. 0. 0. 0.]\n",
      " [0. 0. 0. 0. 0. 1. 0. 0.]\n",
      " [0. 0. 0. 0. 0. 0. 1. 0.]\n",
      " [0. 0. 0. 0. 0. 0. 0. 0.]]\n"
     ]
    }
   ],
   "source": [
    "Z1Z2Z3 = np.kron(Z,np.kron(Z,Z))\n",
    "print(\"Product of Z1, Z2 and Z3\")\n",
    "print(Z1Z2Z3)\n",
    "print(\"Our operator\")\n",
    "basic_penalty = 0.5 * (np.eye(8) + Z1Z2Z3)\n",
    "print(basic_penalty)"
   ]
  },
  {
   "cell_type": "markdown",
   "metadata": {},
   "source": [
    "This operator ignore the states we want and  will add penalty to all the others, namely: $\\ket{000}$, $\\ket{011}$, $\\ket{101}$ and $\\ket{110}$."
   ]
  },
  {
   "cell_type": "markdown",
   "metadata": {},
   "source": [
    "The only problem is, that it doesn't penalize state $\\ket{111}$, but we can deal with that with the following addition:"
   ]
  },
  {
   "cell_type": "code",
   "execution_count": 17,
   "metadata": {},
   "outputs": [
    {
     "name": "stdout",
     "output_type": "stream",
     "text": [
      "Our helper operator:\n",
      "[[0. 0.]\n",
      " [0. 1.]]\n",
      "Our operator for 111 state:\n",
      "[[0. 0. 0. 0. 0. 0. 0. 0.]\n",
      " [0. 0. 0. 0. 0. 0. 0. 0.]\n",
      " [0. 0. 0. 0. 0. 0. 0. 0.]\n",
      " [0. 0. 0. 0. 0. 0. 0. 0.]\n",
      " [0. 0. 0. 0. 0. 0. 0. 0.]\n",
      " [0. 0. 0. 0. 0. 0. 0. 0.]\n",
      " [0. 0. 0. 0. 0. 0. 0. 0.]\n",
      " [0. 0. 0. 0. 0. 0. 0. 1.]]\n"
     ]
    }
   ],
   "source": [
    "helper_op = 0.5 * (np.eye(2) - Z)\n",
    "print(\"Our helper operator:\")\n",
    "print(helper_op)\n",
    "print(\"Our operator for 111 state:\")\n",
    "penalty_111 = np.kron(helper_op, np.kron(helper_op,helper_op))\n",
    "print(penalty_111)"
   ]
  },
  {
   "cell_type": "markdown",
   "metadata": {},
   "source": [
    "Now we can combine those operators to get our final penalty operator:"
   ]
  },
  {
   "cell_type": "code",
   "execution_count": 18,
   "metadata": {},
   "outputs": [
    {
     "name": "stdout",
     "output_type": "stream",
     "text": [
      "Final penalty operator\n",
      "[[1. 0. 0. 0. 0. 0. 0. 0.]\n",
      " [0. 0. 0. 0. 0. 0. 0. 0.]\n",
      " [0. 0. 0. 0. 0. 0. 0. 0.]\n",
      " [0. 0. 0. 1. 0. 0. 0. 0.]\n",
      " [0. 0. 0. 0. 0. 0. 0. 0.]\n",
      " [0. 0. 0. 0. 0. 1. 0. 0.]\n",
      " [0. 0. 0. 0. 0. 0. 1. 0.]\n",
      " [0. 0. 0. 0. 0. 0. 0. 1.]]\n"
     ]
    }
   ],
   "source": [
    "print(\"Final penalty operator\")\n",
    "final_penalty = basic_penalty + penalty_111\n",
    "print(final_penalty)"
   ]
  },
  {
   "cell_type": "markdown",
   "metadata": {},
   "source": [
    "Ok, so now we know how to deal with our very first constraint - being in only one city at the time, for the first time slot. We need to add penalty operator for qubits $q_1$, $q_2$, $q_3$, $P_{123}$, to our cost operators. With a proper weight, of course.\n",
    "<br>\n",
    "To deal with all the other time slots, we just need to work with other set of qubits, so have $P_{456}$ and $P_{789}$."
   ]
  },
  {
   "cell_type": "markdown",
   "metadata": {},
   "source": [
    "Now, we want to deal with the second constraint, that we can visit each city only once. Well, it's actually exactly the same situation, but this time instead of using qubits associated with the same time slot, we need to use qubits associated with the same cities. \n",
    "<br>\n",
    "So operators: $P_{147}$, $P_{258}$ and $P_{369}$ will do the job."
   ]
  },
  {
   "cell_type": "markdown",
   "metadata": {},
   "source": [
    "Now we are ready to actually code it in pyQuil and add it to our cost operator."
   ]
  },
  {
   "cell_type": "markdown",
   "metadata": {},
   "source": [
    "### Implementing penalties in QAOA"
   ]
  },
  {
   "cell_type": "markdown",
   "metadata": {},
   "source": [
    "Now you have all the information to code the penalty operator by yourself and apply it to different qubits. \n",
    "<br>\n",
    "Below are the empty functions that you should fill in.\n",
    "<br>\n",
    "If you encounter problems you can check the code in `scripts/forest_tsp_solver_naive.py`."
   ]
  },
  {
   "cell_type": "code",
   "execution_count": 19,
   "metadata": {},
   "outputs": [],
   "source": [
    "# Please implement function which returns an operator corresponding\n",
    "# to the final_penalty matrix we have defined above.\n",
    "# Qubits should be a list of integers, e.g. [0, 1, 2]\n",
    "def create_penalty_operators_for_qubits(qubits):\n",
    "    pass"
   ]
  },
  {
   "cell_type": "code",
   "execution_count": 20,
   "metadata": {},
   "outputs": [],
   "source": [
    "# This function should return a list of operators which penalize visiting\n",
    "# a city more than once. \n",
    "# You should use create_penalty_operators_for_qubits function.\n",
    "def create_penalty_operators_for_repetition(number_of_cities):\n",
    "    pass"
   ]
  },
  {
   "cell_type": "code",
   "execution_count": 21,
   "metadata": {},
   "outputs": [],
   "source": [
    "# This function should return a list of operators which penalize visiting\n",
    "# more than one city in a given time slot.\n",
    "# You should use create_penalty_operators_for_qubits function.\n",
    "def create_penalty_operators_for_bilocation(number_of_cities):\n",
    "    pass"
   ]
  },
  {
   "cell_type": "code",
   "execution_count": 22,
   "metadata": {},
   "outputs": [],
   "source": [
    "# This function should return a list of operators which \n",
    "# encode the distance matrix.\n",
    "# You can reuse the code we wrote earlier.\n",
    "def create_weights_cost_operators(distance_matrix):\n",
    "    pass"
   ]
  },
  {
   "cell_type": "code",
   "execution_count": 23,
   "metadata": {},
   "outputs": [],
   "source": [
    "# This function should return all the cost operators required to solve TSP.\n",
    "# It should have a part corresponding to the distance matrix\n",
    "# and to the penalties.\n",
    "def create_cost_operators(distance_matrix):\n",
    "    pass\n"
   ]
  },
  {
   "cell_type": "markdown",
   "metadata": {},
   "source": [
    "### Utilising new cost operators"
   ]
  },
  {
   "cell_type": "markdown",
   "metadata": {},
   "source": [
    "Now that we have the cost operators with the penalties ready, we try using it "
   ]
  },
  {
   "cell_type": "code",
   "execution_count": 24,
   "metadata": {},
   "outputs": [
    {
     "name": "stdout",
     "output_type": "stream",
     "text": [
      "WARNING: Fast method for expectation will be used. Noise\n",
      "                     models will be ineffective\n",
      "\tParameters: [2.36630561 2.87194104] \n",
      "\tE => -2659.729526109549\n",
      "\tParameters: [2.36630561 2.87194104] \n",
      "\tE => -2500.928153946556\n",
      "\tParameters: [2.36630561 2.87194104] \n",
      "\tE => -2649.549671687539\n",
      "\tParameters: [2.36630561 2.87194104] \n",
      "\tE => -2656.8578001498586\n",
      "\tParameters: [2.36630561 2.87194104] \n",
      "\tE => -2593.2672286683924\n",
      "\tParameters: [2.36630561 2.87194104] \n",
      "\tE => -2602.6375162862882\n",
      "\tParameters: [2.36630561 2.87194104] \n",
      "\tE => -2489.3044561287666\n",
      "\tParameters: [2.36977187 2.87250197] \n",
      "\tE => -2717.6451379467208\n",
      "\tParameters: [2.36977187 2.87250197] \n",
      "\tE => -2717.1651827131263\n",
      "\tParameters: [2.36977187 2.87250197] \n",
      "\tE => -2700.167597643281\n",
      "\tParameters: [2.36780766 2.87278243] \n",
      "\tE => -2690.609142205864\n",
      "\tParameters: [2.37150501 2.87278243] \n",
      "\tE => -2721.3134501326062\n",
      "\tParameters: [2.37150501 2.87278243] \n",
      "\tE => -2728.741501800037\n",
      "\tParameters: [2.37150501 2.87278243] \n",
      "\tE => -2731.8585776181585\n",
      "\tParameters: [2.36967078 2.87274737] \n",
      "\tE => -2732.3899979107464\n",
      "\tParameters: [2.37614836 2.87272984] \n",
      "\tE => -2732.780241912009\n",
      "\tParameters: [2.37614836 2.87272984] \n",
      "\tE => -2732.622686881663\n",
      "\tParameters: [2.38319193 2.8727408 ] \n",
      "\tE => -2733.439787870112\n",
      "\tParameters: [2.38319193 2.8727408 ] \n",
      "\tE => -2733.0264291847257\n",
      "\tParameters: [2.40319067 2.8727167 ] \n",
      "\tE => -2733.7516172683777\n",
      "\tParameters: [2.40530789 2.872766  ] \n",
      "\tE => -2734.5837580210487\n",
      "\tParameters: [2.40530789 2.872766  ] \n",
      "\tE => -2734.3407060767177\n",
      "\tParameters: [2.42742385 2.8727912 ] \n",
      "\tE => -2733.7879045368604\n",
      "\tParameters: [2.42083625 2.87276025] \n",
      "\tE => -2734.7191386661075\n",
      "\tParameters: [2.41471897 2.87277086] \n",
      "\tE => -2734.7560369013227\n",
      "\tParameters: [2.42260073 2.87277837] \n",
      "\tE => -2734.7757297740714\n",
      "\tParameters: [2.42260073 2.87277837] \n",
      "\tE => -2734.772663201975\n",
      "\tParameters: [2.41794668 2.87277188] \n",
      "\tE => -2734.779095761112\n",
      "The solution is: [2, 2, 0, 1, 2]\n"
     ]
    }
   ],
   "source": [
    "tsp_solver = ForestTSPSolverNaive(distance_matrix, use_constraints=True)\n",
    "solution, naive_distribution = tsp_solver.solve_tsp()\n",
    "print(\"The solution is:\", solution)"
   ]
  },
  {
   "cell_type": "markdown",
   "metadata": {},
   "source": [
    "You might got a proper solution or not, but it's good to see what's the actual distribution of the results:"
   ]
  },
  {
   "cell_type": "code",
   "execution_count": 25,
   "metadata": {},
   "outputs": [
    {
     "data": {
      "image/png": "[encoded data removed]",
      "text/plain": [
       "<Figure size 432x288 with 1 Axes>"
      ]
     },
     "metadata": {},
     "output_type": "display_data"
    }
   ],
   "source": [
    "states_with_probs = []\n",
    "for state in tsp_solver.sampling_results:\n",
    "    states_with_probs.append([''.join(map(str,state)), tsp_solver.sampling_results[state]/10000])\n",
    "states_with_probs = sorted(states_with_probs,key=lambda x: -x[1])\n",
    "plots.plot_state_histogram(states_with_probs[:10][::-1])"
   ]
  },
  {
   "cell_type": "markdown",
   "metadata": {},
   "source": [
    "Since it might be hard for you to decode the bitstrings, let's take a look at the human-readable representation.\n",
    "The two might actually differ, since many bitstrings may have the same representation in a case of an invalid solution. That's why we call the distribution coming from tsp_solver a `naive_distribution`."
   ]
  },
  {
   "cell_type": "code",
   "execution_count": 26,
   "metadata": {},
   "outputs": [
    {
     "data": {
      "image/png": "[encoded data removed]",
      "text/plain": [
       "<Figure size 432x288 with 1 Axes>"
      ]
     },
     "metadata": {},
     "output_type": "display_data"
    }
   ],
   "source": [
    "solutions_with_probs = []\n",
    "for state in naive_distribution:\n",
    "    solutions_with_probs.append(['->'.join(map(str,state)), naive_distribution[state]/10000])\n",
    "solutions_with_probs = sorted(solutions_with_probs,key=lambda x: -x[1])\n",
    "\n",
    "plots.plot_state_histogram(solutions_with_probs[:10][::-1])"
   ]
  },
  {
   "cell_type": "markdown",
   "metadata": {},
   "source": [
    "As you can see, still many (if not most) of the solutions don't make sense. In the next part you will see how to further improve this algorithm."
   ]
  },
  {
   "cell_type": "markdown",
   "metadata": {},
   "source": [
    "## Summary and next steps"
   ]
  },
  {
   "cell_type": "markdown",
   "metadata": {},
   "source": [
    "What we learned?\n",
    "- how to solve problem with constraints using QAOA\n",
    "- how to encode constraints and costs for TSP\n",
    "\n",
    "What's next?\n",
    "- improving the algorithm!"
   ]
  }
 ],
 "metadata": {
  "kernelspec": {
   "display_name": "Python 3 (ipykernel)",
   "language": "python",
   "name": "python3"
  },
  "language_info": {
   "codemirror_mode": {
    "name": "ipython",
    "version": 3
   },
   "file_extension": ".py",
   "mimetype": "text/x-python",
   "name": "python",
   "nbconvert_exporter": "python",
   "pygments_lexer": "ipython3",
   "version": "3.7.8"
  }
 },
 "nbformat": 4,
 "nbformat_minor": 2
}
